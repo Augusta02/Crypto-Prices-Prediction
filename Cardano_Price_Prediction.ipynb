{
 "cells": [
  {
   "cell_type": "code",
   "metadata": {
    "id": "DZnKgrG8xeM2",
    "cell_id": "beadbb3d-a701-4d54-bdff-853df8a98e02",
    "deepnote_to_be_reexecuted": false,
    "source_hash": "1df69900",
    "execution_start": 1648879263732,
    "execution_millis": 5,
    "deepnote_cell_type": "code",
    "deepnote_cell_height": 81
   },
   "source": "# Description: This ML project attempts to predict the future price of Cardano price (ADA)",
   "execution_count": null,
   "outputs": []
  },
  {
   "cell_type": "code",
   "metadata": {
    "id": "sdITvKunx-xi",
    "cell_id": "00001-91649cac-4a5e-44bb-97cb-38b6658ed4d2",
    "deepnote_to_be_reexecuted": false,
    "source_hash": "5268db84",
    "execution_start": 1648879263749,
    "execution_millis": 5042,
    "deepnote_cell_type": "code",
    "deepnote_cell_height": 153
   },
   "source": "import numpy as np \nimport pandas as pd\nimport matplotlib.pyplot as plt\nfrom sklearn.svm import SVR\nplt.style.use('fivethirtyeight')",
   "execution_count": null,
   "outputs": []
  },
  {
   "cell_type": "code",
   "metadata": {
    "colab": {
     "resources": {
      "http://localhost:8080/nbextensions/google.colab/files.js": {
       "data": "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",
       "ok": true,
       "headers": [
        [
         "content-type",
         "application/javascript"
        ]
       ],
       "status": 200,
       "status_text": ""
      }
     },
     "base_uri": "https://localhost:8080/",
     "height": 73
    },
    "id": "2OojnU12ydeC",
    "outputId": "7f5800e0-cc6d-4280-fa1f-b4cf19dfc612",
    "cell_id": "00002-f51b5d31-5f67-445e-9541-d20557fcb54d",
    "deepnote_to_be_reexecuted": false,
    "source_hash": "8fb1f1e7",
    "execution_start": 1648879268791,
    "execution_millis": 31472491,
    "deepnote_cell_type": "code",
    "deepnote_cell_height": 117
   },
   "source": "# # Load the Cardano data\n# from google.colab import files\n# uploaded= files.upload()",
   "execution_count": null,
   "outputs": []
  },
  {
   "cell_type": "code",
   "metadata": {
    "colab": {
     "base_uri": "https://localhost:8080/",
     "height": 206
    },
    "id": "Mb8CopAYzOe3",
    "outputId": "1f7bda59-6ea3-4434-f793-e62053a8e8cf",
    "cell_id": "00003-70c027ec-68c4-4479-8b15-aefa4f2f36a5",
    "deepnote_to_be_reexecuted": false,
    "source_hash": "eaa915aa",
    "execution_start": 1648879268792,
    "execution_millis": 89,
    "deepnote_cell_type": "code",
    "deepnote_cell_height": 447
   },
   "source": "# Read the data\n# import io\ndf = pd.read_csv('Cardano historic data.csv')\ndf.head()",
   "execution_count": null,
   "outputs": [
    {
     "output_type": "execute_result",
     "execution_count": 4,
     "data": {
      "application/vnd.deepnote.dataframe.v3+json": {
       "column_count": 7,
       "row_count": 5,
       "columns": [
        {
         "name": "Date",
         "dtype": "object",
         "stats": {
          "unique_count": 5,
          "nan_count": 0,
          "categories": [
           {
            "name": "Jul 27, 2021",
            "count": 1
           },
           {
            "name": "Jul 26, 2021",
            "count": 1
           },
           {
            "name": "3 others",
            "count": 3
           }
          ]
         }
        },
        {
         "name": "Price(in dollars)",
         "dtype": "float64",
         "stats": {
          "unique_count": 5,
          "nan_count": 0,
          "min": "1.205386",
          "max": "1.255189",
          "histogram": [
           {
            "bin_start": 1.205386,
            "bin_end": 1.2103663,
            "count": 1
           },
           {
            "bin_start": 1.2103663,
            "bin_end": 1.2153466000000002,
            "count": 1
           },
           {
            "bin_start": 1.2153466000000002,
            "bin_end": 1.2203269,
            "count": 0
           },
           {
            "bin_start": 1.2203269,
            "bin_end": 1.2253072,
            "count": 0
           },
           {
            "bin_start": 1.2253072,
            "bin_end": 1.2302875000000002,
            "count": 1
           },
           {
            "bin_start": 1.2302875000000002,
            "bin_end": 1.2352678000000001,
            "count": 0
           },
           {
            "bin_start": 1.2352678000000001,
            "bin_end": 1.2402481,
            "count": 1
           },
           {
            "bin_start": 1.2402481,
            "bin_end": 1.2452284,
            "count": 0
           },
           {
            "bin_start": 1.2452284,
            "bin_end": 1.2502087000000002,
            "count": 0
           },
           {
            "bin_start": 1.2502087000000002,
            "bin_end": 1.255189,
            "count": 1
           }
          ]
         }
        },
        {
         "name": "Open",
         "dtype": "float64",
         "stats": {
          "unique_count": 5,
          "nan_count": 0,
          "min": "1.185634",
          "max": "1.255189",
          "histogram": [
           {
            "bin_start": 1.185634,
            "bin_end": 1.1925895,
            "count": 1
           },
           {
            "bin_start": 1.1925895,
            "bin_end": 1.199545,
            "count": 0
           },
           {
            "bin_start": 1.199545,
            "bin_end": 1.2065005000000002,
            "count": 1
           },
           {
            "bin_start": 1.2065005000000002,
            "bin_end": 1.213456,
            "count": 0
           },
           {
            "bin_start": 1.213456,
            "bin_end": 1.2204115,
            "count": 1
           },
           {
            "bin_start": 1.2204115,
            "bin_end": 1.227367,
            "count": 0
           },
           {
            "bin_start": 1.227367,
            "bin_end": 1.2343225000000002,
            "count": 1
           },
           {
            "bin_start": 1.2343225000000002,
            "bin_end": 1.241278,
            "count": 0
           },
           {
            "bin_start": 1.241278,
            "bin_end": 1.2482335,
            "count": 0
           },
           {
            "bin_start": 1.2482335,
            "bin_end": 1.255189,
            "count": 1
           }
          ]
         }
        },
        {
         "name": "High",
         "dtype": "float64",
         "stats": {
          "unique_count": 5,
          "nan_count": 0,
          "min": "1.206692",
          "max": "1.397445",
          "histogram": [
           {
            "bin_start": 1.206692,
            "bin_end": 1.2257673,
            "count": 2
           },
           {
            "bin_start": 1.2257673,
            "bin_end": 1.2448426000000001,
            "count": 1
           },
           {
            "bin_start": 1.2448426000000001,
            "bin_end": 1.2639179,
            "count": 0
           },
           {
            "bin_start": 1.2639179,
            "bin_end": 1.2829932000000002,
            "count": 1
           },
           {
            "bin_start": 1.2829932000000002,
            "bin_end": 1.3020685,
            "count": 0
           },
           {
            "bin_start": 1.3020685,
            "bin_end": 1.3211438,
            "count": 0
           },
           {
            "bin_start": 1.3211438,
            "bin_end": 1.3402191,
            "count": 0
           },
           {
            "bin_start": 1.3402191,
            "bin_end": 1.3592944,
            "count": 0
           },
           {
            "bin_start": 1.3592944,
            "bin_end": 1.3783697000000001,
            "count": 0
           },
           {
            "bin_start": 1.3783697000000001,
            "bin_end": 1.397445,
            "count": 1
           }
          ]
         }
        },
        {
         "name": "Low",
         "dtype": "float64",
         "stats": {
          "unique_count": 5,
          "nan_count": 0,
          "min": "1.147027",
          "max": "1.222583",
          "histogram": [
           {
            "bin_start": 1.147027,
            "bin_end": 1.1545826,
            "count": 1
           },
           {
            "bin_start": 1.1545826,
            "bin_end": 1.1621382,
            "count": 0
           },
           {
            "bin_start": 1.1621382,
            "bin_end": 1.1696938000000001,
            "count": 0
           },
           {
            "bin_start": 1.1696938000000001,
            "bin_end": 1.1772494,
            "count": 0
           },
           {
            "bin_start": 1.1772494,
            "bin_end": 1.1848049999999999,
            "count": 0
           },
           {
            "bin_start": 1.1848049999999999,
            "bin_end": 1.1923606,
            "count": 1
           },
           {
            "bin_start": 1.1923606,
            "bin_end": 1.1999162,
            "count": 1
           },
           {
            "bin_start": 1.1999162,
            "bin_end": 1.2074718,
            "count": 0
           },
           {
            "bin_start": 1.2074718,
            "bin_end": 1.2150273999999999,
            "count": 1
           },
           {
            "bin_start": 1.2150273999999999,
            "bin_end": 1.222583,
            "count": 1
           }
          ]
         }
        },
        {
         "name": "Vol.",
         "dtype": "object",
         "stats": {
          "unique_count": 5,
          "nan_count": 0,
          "categories": [
           {
            "name": "519.03M",
            "count": 1
           },
           {
            "name": "596.83M",
            "count": 1
           },
           {
            "name": "3 others",
            "count": 3
           }
          ]
         }
        },
        {
         "name": "Change%",
         "dtype": "float64",
         "stats": {
          "unique_count": 5,
          "nan_count": 0,
          "min": "-1.28",
          "max": "2.2",
          "histogram": [
           {
            "bin_start": -1.28,
            "bin_end": -0.9319999999999999,
            "count": 1
           },
           {
            "bin_start": -0.9319999999999999,
            "bin_end": -0.584,
            "count": 0
           },
           {
            "bin_start": -0.584,
            "bin_end": -0.236,
            "count": 0
           },
           {
            "bin_start": -0.236,
            "bin_end": 0.1120000000000001,
            "count": 0
           },
           {
            "bin_start": 0.1120000000000001,
            "bin_end": 0.4600000000000002,
            "count": 0
           },
           {
            "bin_start": 0.4600000000000002,
            "bin_end": 0.808,
            "count": 1
           },
           {
            "bin_start": 0.808,
            "bin_end": 1.1560000000000004,
            "count": 1
           },
           {
            "bin_start": 1.1560000000000004,
            "bin_end": 1.5040000000000002,
            "count": 0
           },
           {
            "bin_start": 1.5040000000000002,
            "bin_end": 1.852,
            "count": 1
           },
           {
            "bin_start": 1.852,
            "bin_end": 2.2,
            "count": 1
           }
          ]
         }
        },
        {
         "name": "_deepnote_index_column",
         "dtype": "int64"
        }
       ],
       "rows": [
        {
         "Date": "Jul 27, 2021",
         "Price(in dollars)": 1.239114,
         "Open": 1.255189,
         "High": 1.269624,
         "Low": 1.215022,
         "Vol.": "519.03M",
         "Change%": -1.28,
         "_deepnote_index_column": 0
        },
        {
         "Date": "Jul 26, 2021",
         "Price(in dollars)": 1.255189,
         "Open": 1.228191,
         "High": 1.397445,
         "Low": 1.222583,
         "Vol.": "596.83M",
         "Change%": 2.2,
         "_deepnote_index_column": 1
        },
        {
         "Date": "Jul 25, 2021",
         "Price(in dollars)": 1.228135,
         "Open": 1.216,
         "High": 1.2361,
         "Low": 1.191199,
         "Vol.": "181.71M",
         "Change%": 1.08,
         "_deepnote_index_column": 2
        },
        {
         "Date": "Jul 24, 2021",
         "Price(in dollars)": 1.215002,
         "Open": 1.205285,
         "High": 1.223699,
         "Low": 1.197844,
         "Vol.": "221.74M",
         "Change%": 0.8,
         "_deepnote_index_column": 3
        },
        {
         "Date": "Jul 23, 2021",
         "Price(in dollars)": 1.205386,
         "Open": 1.185634,
         "High": 1.206692,
         "Low": 1.147027,
         "Vol.": "91.89M",
         "Change%": 1.65,
         "_deepnote_index_column": 4
        }
       ]
      },
      "text/plain": "           Date  Price(in dollars)      Open      High       Low     Vol.  \\\n0  Jul 27, 2021           1.239114  1.255189  1.269624  1.215022  519.03M   \n1  Jul 26, 2021           1.255189  1.228191  1.397445  1.222583  596.83M   \n2  Jul 25, 2021           1.228135  1.216000  1.236100  1.191199  181.71M   \n3  Jul 24, 2021           1.215002  1.205285  1.223699  1.197844  221.74M   \n4  Jul 23, 2021           1.205386  1.185634  1.206692  1.147027   91.89M   \n\n   Change%  \n0    -1.28  \n1     2.20  \n2     1.08  \n3     0.80  \n4     1.65  ",
      "text/html": "<div>\n<style scoped>\n    .dataframe tbody tr th:only-of-type {\n        vertical-align: middle;\n    }\n\n    .dataframe tbody tr th {\n        vertical-align: top;\n    }\n\n    .dataframe thead th {\n        text-align: right;\n    }\n</style>\n<table border=\"1\" class=\"dataframe\">\n  <thead>\n    <tr style=\"text-align: right;\">\n      <th></th>\n      <th>Date</th>\n      <th>Price(in dollars)</th>\n      <th>Open</th>\n      <th>High</th>\n      <th>Low</th>\n      <th>Vol.</th>\n      <th>Change%</th>\n    </tr>\n  </thead>\n  <tbody>\n    <tr>\n      <th>0</th>\n      <td>Jul 27, 2021</td>\n      <td>1.239114</td>\n      <td>1.255189</td>\n      <td>1.269624</td>\n      <td>1.215022</td>\n      <td>519.03M</td>\n      <td>-1.28</td>\n    </tr>\n    <tr>\n      <th>1</th>\n      <td>Jul 26, 2021</td>\n      <td>1.255189</td>\n      <td>1.228191</td>\n      <td>1.397445</td>\n      <td>1.222583</td>\n      <td>596.83M</td>\n      <td>2.20</td>\n    </tr>\n    <tr>\n      <th>2</th>\n      <td>Jul 25, 2021</td>\n      <td>1.228135</td>\n      <td>1.216000</td>\n      <td>1.236100</td>\n      <td>1.191199</td>\n      <td>181.71M</td>\n      <td>1.08</td>\n    </tr>\n    <tr>\n      <th>3</th>\n      <td>Jul 24, 2021</td>\n      <td>1.215002</td>\n      <td>1.205285</td>\n      <td>1.223699</td>\n      <td>1.197844</td>\n      <td>221.74M</td>\n      <td>0.80</td>\n    </tr>\n    <tr>\n      <th>4</th>\n      <td>Jul 23, 2021</td>\n      <td>1.205386</td>\n      <td>1.185634</td>\n      <td>1.206692</td>\n      <td>1.147027</td>\n      <td>91.89M</td>\n      <td>1.65</td>\n    </tr>\n  </tbody>\n</table>\n</div>"
     },
     "metadata": {}
    }
   ]
  },
  {
   "cell_type": "code",
   "metadata": {
    "colab": {
     "base_uri": "https://localhost:8080/",
     "height": 424
    },
    "id": "JhChCXK30by9",
    "outputId": "59acd903-de9a-4991-f22e-7f652ff6f771",
    "cell_id": "00004-dacf4464-f577-4a00-ad76-ef9074770794",
    "deepnote_to_be_reexecuted": false,
    "source_hash": "a789ea1",
    "execution_start": 1648879268909,
    "execution_millis": 395,
    "deepnote_cell_type": "code",
    "deepnote_cell_height": 634
   },
   "source": "# Change date to datetime type\ndf['Date'] = pd.to_datetime(df['Date'])\ndf",
   "execution_count": null,
   "outputs": [
    {
     "output_type": "execute_result",
     "execution_count": 5,
     "data": {
      "application/vnd.deepnote.dataframe.v3+json": {
       "column_count": 7,
       "row_count": 1305,
       "columns": [
        {
         "name": "Date",
         "dtype": "datetime64[ns]",
         "stats": {
          "unique_count": 1305,
          "nan_count": 0,
          "min": "2017-12-31 00:00:00",
          "max": "2021-07-27 00:00:00",
          "histogram": [
           {
            "bin_start": 1514678400000000000,
            "bin_end": 1525944960000000000,
            "count": 131
           },
           {
            "bin_start": 1525944960000000000,
            "bin_end": 1537211520000000000,
            "count": 130
           },
           {
            "bin_start": 1537211520000000000,
            "bin_end": 1548478080000000000,
            "count": 131
           },
           {
            "bin_start": 1548478080000000000,
            "bin_end": 1559744640000000000,
            "count": 130
           },
           {
            "bin_start": 1559744640000000000,
            "bin_end": 1571011200000000000,
            "count": 130
           },
           {
            "bin_start": 1571011200000000000,
            "bin_end": 1582277760000000000,
            "count": 131
           },
           {
            "bin_start": 1582277760000000000,
            "bin_end": 1593544320000000000,
            "count": 130
           },
           {
            "bin_start": 1593544320000000000,
            "bin_end": 1604810880000000000,
            "count": 131
           },
           {
            "bin_start": 1604810880000000000,
            "bin_end": 1616077440000000000,
            "count": 130
           },
           {
            "bin_start": 1616077440000000000,
            "bin_end": 1627344000000000000,
            "count": 131
           }
          ]
         }
        },
        {
         "name": "Price(in dollars)",
         "dtype": "float64",
         "stats": {
          "unique_count": 1298,
          "nan_count": 0,
          "min": "0.023222",
          "max": "2.300278",
          "histogram": [
           {
            "bin_start": 0.023222,
            "bin_end": 0.25092760000000003,
            "count": 1004
           },
           {
            "bin_start": 0.25092760000000003,
            "bin_end": 0.47863320000000004,
            "count": 96
           },
           {
            "bin_start": 0.47863320000000004,
            "bin_end": 0.7063388,
            "count": 23
           },
           {
            "bin_start": 0.7063388,
            "bin_end": 0.9340444,
            "count": 18
           },
           {
            "bin_start": 0.9340444,
            "bin_end": 1.16175,
            "count": 34
           },
           {
            "bin_start": 1.16175,
            "bin_end": 1.3894556000000002,
            "count": 75
           },
           {
            "bin_start": 1.3894556000000002,
            "bin_end": 1.6171612000000002,
            "count": 32
           },
           {
            "bin_start": 1.6171612000000002,
            "bin_end": 1.8448668000000001,
            "count": 17
           },
           {
            "bin_start": 1.8448668000000001,
            "bin_end": 2.0725724000000003,
            "count": 4
           },
           {
            "bin_start": 2.0725724000000003,
            "bin_end": 2.300278,
            "count": 2
           }
          ]
         }
        },
        {
         "name": "Open",
         "dtype": "float64",
         "stats": {
          "unique_count": 1297,
          "nan_count": 0,
          "min": "0.023225",
          "max": "2.300307",
          "histogram": [
           {
            "bin_start": 0.023225,
            "bin_end": 0.2509332,
            "count": 1004
           },
           {
            "bin_start": 0.2509332,
            "bin_end": 0.4786414,
            "count": 96
           },
           {
            "bin_start": 0.4786414,
            "bin_end": 0.7063496,
            "count": 24
           },
           {
            "bin_start": 0.7063496,
            "bin_end": 0.9340578,
            "count": 17
           },
           {
            "bin_start": 0.9340578,
            "bin_end": 1.161766,
            "count": 34
           },
           {
            "bin_start": 1.161766,
            "bin_end": 1.3894742,
            "count": 75
           },
           {
            "bin_start": 1.3894742,
            "bin_end": 1.6171824000000001,
            "count": 32
           },
           {
            "bin_start": 1.6171824000000001,
            "bin_end": 1.8448906,
            "count": 17
           },
           {
            "bin_start": 1.8448906,
            "bin_end": 2.0725988,
            "count": 4
           },
           {
            "bin_start": 2.0725988,
            "bin_end": 2.300307,
            "count": 2
           }
          ]
         }
        },
        {
         "name": "High",
         "dtype": "float64",
         "stats": {
          "unique_count": 1303,
          "nan_count": 0,
          "min": "0.026454",
          "max": "2.46007",
          "histogram": [
           {
            "bin_start": 0.026454,
            "bin_end": 0.2698156,
            "count": 1007
           },
           {
            "bin_start": 0.2698156,
            "bin_end": 0.5131772,
            "count": 91
           },
           {
            "bin_start": 0.5131772,
            "bin_end": 0.7565388,
            "count": 24
           },
           {
            "bin_start": 0.7565388,
            "bin_end": 0.9999003999999999,
            "count": 19
           },
           {
            "bin_start": 0.9999003999999999,
            "bin_end": 1.2432619999999999,
            "count": 50
           },
           {
            "bin_start": 1.2432619999999999,
            "bin_end": 1.4866236,
            "count": 65
           },
           {
            "bin_start": 1.4866236,
            "bin_end": 1.7299851999999998,
            "count": 26
           },
           {
            "bin_start": 1.7299851999999998,
            "bin_end": 1.9733467999999998,
            "count": 17
           },
           {
            "bin_start": 1.9733467999999998,
            "bin_end": 2.2167084,
            "count": 3
           },
           {
            "bin_start": 2.2167084,
            "bin_end": 2.46007,
            "count": 3
           }
          ]
         }
        },
        {
         "name": "Low",
         "dtype": "float64",
         "stats": {
          "unique_count": 1301,
          "nan_count": 0,
          "min": "0.017774",
          "max": "2.01674",
          "histogram": [
           {
            "bin_start": 0.017774,
            "bin_end": 0.21767060000000002,
            "count": 998
           },
           {
            "bin_start": 0.21767060000000002,
            "bin_end": 0.4175672,
            "count": 102
           },
           {
            "bin_start": 0.4175672,
            "bin_end": 0.6174638,
            "count": 19
           },
           {
            "bin_start": 0.6174638,
            "bin_end": 0.8173604,
            "count": 16
           },
           {
            "bin_start": 0.8173604,
            "bin_end": 1.017257,
            "count": 22
           },
           {
            "bin_start": 1.017257,
            "bin_end": 1.2171536,
            "count": 67
           },
           {
            "bin_start": 1.2171536,
            "bin_end": 1.4170502,
            "count": 48
           },
           {
            "bin_start": 1.4170502,
            "bin_end": 1.6169468,
            "count": 24
           },
           {
            "bin_start": 1.6169468,
            "bin_end": 1.8168434,
            "count": 5
           },
           {
            "bin_start": 1.8168434,
            "bin_end": 2.01674,
            "count": 4
           }
          ]
         }
        },
        {
         "name": "Vol.",
         "dtype": "object",
         "stats": {
          "unique_count": 1249,
          "nan_count": 0,
          "categories": [
           {
            "name": "1.11B",
            "count": 6
           },
           {
            "name": "1.18B",
            "count": 5
           },
           {
            "name": "1247 others",
            "count": 1294
           }
          ]
         }
        },
        {
         "name": "Change%",
         "dtype": "float64",
         "stats": {
          "unique_count": 962,
          "nan_count": 0,
          "min": "-41.49",
          "max": "41.73",
          "histogram": [
           {
            "bin_start": -41.49,
            "bin_end": -33.168000000000006,
            "count": 1
           },
           {
            "bin_start": -33.168000000000006,
            "bin_end": -24.846000000000004,
            "count": 1
           },
           {
            "bin_start": -24.846000000000004,
            "bin_end": -16.524000000000004,
            "count": 10
           },
           {
            "bin_start": -16.524000000000004,
            "bin_end": -8.202000000000005,
            "count": 77
           },
           {
            "bin_start": -8.202000000000005,
            "bin_end": 0.11999999999999744,
            "count": 577
           },
           {
            "bin_start": 0.11999999999999744,
            "bin_end": 8.441999999999993,
            "count": 531
           },
           {
            "bin_start": 8.441999999999993,
            "bin_end": 16.76399999999999,
            "count": 85
           },
           {
            "bin_start": 16.76399999999999,
            "bin_end": 25.08599999999999,
            "count": 17
           },
           {
            "bin_start": 25.08599999999999,
            "bin_end": 33.407999999999994,
            "count": 5
           },
           {
            "bin_start": 33.407999999999994,
            "bin_end": 41.73,
            "count": 1
           }
          ]
         }
        },
        {
         "name": "_deepnote_index_column",
         "dtype": "int64"
        }
       ],
       "rows": [
        {
         "Date": "2021-07-27T00:00:00.000000",
         "Price(in dollars)": 1.239114,
         "Open": 1.255189,
         "High": 1.269624,
         "Low": 1.215022,
         "Vol.": "519.03M",
         "Change%": -1.28,
         "_deepnote_index_column": 0
        },
        {
         "Date": "2021-07-26T00:00:00.000000",
         "Price(in dollars)": 1.255189,
         "Open": 1.228191,
         "High": 1.397445,
         "Low": 1.222583,
         "Vol.": "596.83M",
         "Change%": 2.2,
         "_deepnote_index_column": 1
        },
        {
         "Date": "2021-07-25T00:00:00.000000",
         "Price(in dollars)": 1.228135,
         "Open": 1.216,
         "High": 1.2361,
         "Low": 1.191199,
         "Vol.": "181.71M",
         "Change%": 1.08,
         "_deepnote_index_column": 2
        },
        {
         "Date": "2021-07-24T00:00:00.000000",
         "Price(in dollars)": 1.215002,
         "Open": 1.205285,
         "High": 1.223699,
         "Low": 1.197844,
         "Vol.": "221.74M",
         "Change%": 0.8,
         "_deepnote_index_column": 3
        },
        {
         "Date": "2021-07-23T00:00:00.000000",
         "Price(in dollars)": 1.205386,
         "Open": 1.185634,
         "High": 1.206692,
         "Low": 1.147027,
         "Vol.": "91.89M",
         "Change%": 1.65,
         "_deepnote_index_column": 4
        },
        {
         "Date": "2021-07-22T00:00:00.000000",
         "Price(in dollars)": 1.185875,
         "Open": 1.169694,
         "High": 1.205136,
         "Low": 1.150267,
         "Vol.": "298.36M",
         "Change%": 1.38,
         "_deepnote_index_column": 5
        },
        {
         "Date": "2021-07-21T00:00:00.000000",
         "Price(in dollars)": 1.169694,
         "Open": 1.054526,
         "High": 1.221121,
         "Low": 1.037226,
         "Vol.": "464.72M",
         "Change%": 10.92,
         "_deepnote_index_column": 6
        },
        {
         "Date": "2021-07-20T00:00:00.000000",
         "Price(in dollars)": 1.054526,
         "Open": 1.122328,
         "High": 1.134108,
         "Low": 1.021146,
         "Vol.": "412.27M",
         "Change%": -5.95,
         "_deepnote_index_column": 7
        },
        {
         "Date": "2021-07-19T00:00:00.000000",
         "Price(in dollars)": 1.121185,
         "Open": 1.182284,
         "High": 1.190869,
         "Low": 1.116718,
         "Vol.": "218.34M",
         "Change%": -5.17,
         "_deepnote_index_column": 8
        },
        {
         "Date": "2021-07-18T00:00:00.000000",
         "Price(in dollars)": 1.182306,
         "Open": 1.171333,
         "High": 1.218066,
         "Low": 1.168231,
         "Vol.": "185.35M",
         "Change%": 0.94,
         "_deepnote_index_column": 9
        }
       ]
      },
      "text/plain": "           Date  Price(in dollars)      Open      High       Low     Vol.  \\\n0    2021-07-27           1.239114  1.255189  1.269624  1.215022  519.03M   \n1    2021-07-26           1.255189  1.228191  1.397445  1.222583  596.83M   \n2    2021-07-25           1.228135  1.216000  1.236100  1.191199  181.71M   \n3    2021-07-24           1.215002  1.205285  1.223699  1.197844  221.74M   \n4    2021-07-23           1.205386  1.185634  1.206692  1.147027   91.89M   \n...         ...                ...       ...       ...       ...      ...   \n1300 2018-01-04           1.104300  1.100000  1.350000  1.050000   19.60M   \n1301 2018-01-03           1.080000  0.978180  1.090000  0.888210   20.23M   \n1302 2018-01-02           0.762000  0.702200  0.800000  0.675000   10.97M   \n1303 2018-01-01           0.702200  0.710000  0.715000  0.632000   17.95M   \n1304 2017-12-31           0.710000  0.590000  0.740000  0.590000   17.22M   \n\n      Change%  \n0       -1.28  \n1        2.20  \n2        1.08  \n3        0.80  \n4        1.65  \n...       ...  \n1300     2.25  \n1301    41.73  \n1302     8.52  \n1303    -1.10  \n1304    20.34  \n\n[1305 rows x 7 columns]",
      "text/html": "<div>\n<style scoped>\n    .dataframe tbody tr th:only-of-type {\n        vertical-align: middle;\n    }\n\n    .dataframe tbody tr th {\n        vertical-align: top;\n    }\n\n    .dataframe thead th {\n        text-align: right;\n    }\n</style>\n<table border=\"1\" class=\"dataframe\">\n  <thead>\n    <tr style=\"text-align: right;\">\n      <th></th>\n      <th>Date</th>\n      <th>Price(in dollars)</th>\n      <th>Open</th>\n      <th>High</th>\n      <th>Low</th>\n      <th>Vol.</th>\n      <th>Change%</th>\n    </tr>\n  </thead>\n  <tbody>\n    <tr>\n      <th>0</th>\n      <td>2021-07-27</td>\n      <td>1.239114</td>\n      <td>1.255189</td>\n      <td>1.269624</td>\n      <td>1.215022</td>\n      <td>519.03M</td>\n      <td>-1.28</td>\n    </tr>\n    <tr>\n      <th>1</th>\n      <td>2021-07-26</td>\n      <td>1.255189</td>\n      <td>1.228191</td>\n      <td>1.397445</td>\n      <td>1.222583</td>\n      <td>596.83M</td>\n      <td>2.20</td>\n    </tr>\n    <tr>\n      <th>2</th>\n      <td>2021-07-25</td>\n      <td>1.228135</td>\n      <td>1.216000</td>\n      <td>1.236100</td>\n      <td>1.191199</td>\n      <td>181.71M</td>\n      <td>1.08</td>\n    </tr>\n    <tr>\n      <th>3</th>\n      <td>2021-07-24</td>\n      <td>1.215002</td>\n      <td>1.205285</td>\n      <td>1.223699</td>\n      <td>1.197844</td>\n      <td>221.74M</td>\n      <td>0.80</td>\n    </tr>\n    <tr>\n      <th>4</th>\n      <td>2021-07-23</td>\n      <td>1.205386</td>\n      <td>1.185634</td>\n      <td>1.206692</td>\n      <td>1.147027</td>\n      <td>91.89M</td>\n      <td>1.65</td>\n    </tr>\n    <tr>\n      <th>...</th>\n      <td>...</td>\n      <td>...</td>\n      <td>...</td>\n      <td>...</td>\n      <td>...</td>\n      <td>...</td>\n      <td>...</td>\n    </tr>\n    <tr>\n      <th>1300</th>\n      <td>2018-01-04</td>\n      <td>1.104300</td>\n      <td>1.100000</td>\n      <td>1.350000</td>\n      <td>1.050000</td>\n      <td>19.60M</td>\n      <td>2.25</td>\n    </tr>\n    <tr>\n      <th>1301</th>\n      <td>2018-01-03</td>\n      <td>1.080000</td>\n      <td>0.978180</td>\n      <td>1.090000</td>\n      <td>0.888210</td>\n      <td>20.23M</td>\n      <td>41.73</td>\n    </tr>\n    <tr>\n      <th>1302</th>\n      <td>2018-01-02</td>\n      <td>0.762000</td>\n      <td>0.702200</td>\n      <td>0.800000</td>\n      <td>0.675000</td>\n      <td>10.97M</td>\n      <td>8.52</td>\n    </tr>\n    <tr>\n      <th>1303</th>\n      <td>2018-01-01</td>\n      <td>0.702200</td>\n      <td>0.710000</td>\n      <td>0.715000</td>\n      <td>0.632000</td>\n      <td>17.95M</td>\n      <td>-1.10</td>\n    </tr>\n    <tr>\n      <th>1304</th>\n      <td>2017-12-31</td>\n      <td>0.710000</td>\n      <td>0.590000</td>\n      <td>0.740000</td>\n      <td>0.590000</td>\n      <td>17.22M</td>\n      <td>20.34</td>\n    </tr>\n  </tbody>\n</table>\n<p>1305 rows × 7 columns</p>\n</div>"
     },
     "metadata": {}
    }
   ]
  },
  {
   "cell_type": "code",
   "metadata": {
    "colab": {
     "base_uri": "https://localhost:8080/",
     "height": 424
    },
    "id": "fxyhkGsv0-n6",
    "outputId": "baab28fb-3356-49c0-ec35-24fcd8b3652b",
    "cell_id": "00005-ea45e88b-aca5-4c8e-bda5-fc1e6c647b1e",
    "deepnote_to_be_reexecuted": false,
    "source_hash": "548e6521",
    "execution_start": 1648879269302,
    "execution_millis": 105,
    "deepnote_cell_type": "code",
    "deepnote_cell_height": 634
   },
   "source": "# Set date as index\ndf = df.set_index(pd.DatetimeIndex(df['Date'].values))\ndf",
   "execution_count": null,
   "outputs": [
    {
     "output_type": "execute_result",
     "execution_count": 6,
     "data": {
      "application/vnd.deepnote.dataframe.v3+json": {
       "column_count": 7,
       "row_count": 1305,
       "columns": [
        {
         "name": "Date",
         "dtype": "datetime64[ns]",
         "stats": {
          "unique_count": 1305,
          "nan_count": 0,
          "min": "2017-12-31 00:00:00",
          "max": "2021-07-27 00:00:00",
          "histogram": [
           {
            "bin_start": 1514678400000000000,
            "bin_end": 1525944960000000000,
            "count": 131
           },
           {
            "bin_start": 1525944960000000000,
            "bin_end": 1537211520000000000,
            "count": 130
           },
           {
            "bin_start": 1537211520000000000,
            "bin_end": 1548478080000000000,
            "count": 131
           },
           {
            "bin_start": 1548478080000000000,
            "bin_end": 1559744640000000000,
            "count": 130
           },
           {
            "bin_start": 1559744640000000000,
            "bin_end": 1571011200000000000,
            "count": 130
           },
           {
            "bin_start": 1571011200000000000,
            "bin_end": 1582277760000000000,
            "count": 131
           },
           {
            "bin_start": 1582277760000000000,
            "bin_end": 1593544320000000000,
            "count": 130
           },
           {
            "bin_start": 1593544320000000000,
            "bin_end": 1604810880000000000,
            "count": 131
           },
           {
            "bin_start": 1604810880000000000,
            "bin_end": 1616077440000000000,
            "count": 130
           },
           {
            "bin_start": 1616077440000000000,
            "bin_end": 1627344000000000000,
            "count": 131
           }
          ]
         }
        },
        {
         "name": "Price(in dollars)",
         "dtype": "float64",
         "stats": {
          "unique_count": 1298,
          "nan_count": 0,
          "min": "0.023222",
          "max": "2.300278",
          "histogram": [
           {
            "bin_start": 0.023222,
            "bin_end": 0.25092760000000003,
            "count": 1004
           },
           {
            "bin_start": 0.25092760000000003,
            "bin_end": 0.47863320000000004,
            "count": 96
           },
           {
            "bin_start": 0.47863320000000004,
            "bin_end": 0.7063388,
            "count": 23
           },
           {
            "bin_start": 0.7063388,
            "bin_end": 0.9340444,
            "count": 18
           },
           {
            "bin_start": 0.9340444,
            "bin_end": 1.16175,
            "count": 34
           },
           {
            "bin_start": 1.16175,
            "bin_end": 1.3894556000000002,
            "count": 75
           },
           {
            "bin_start": 1.3894556000000002,
            "bin_end": 1.6171612000000002,
            "count": 32
           },
           {
            "bin_start": 1.6171612000000002,
            "bin_end": 1.8448668000000001,
            "count": 17
           },
           {
            "bin_start": 1.8448668000000001,
            "bin_end": 2.0725724000000003,
            "count": 4
           },
           {
            "bin_start": 2.0725724000000003,
            "bin_end": 2.300278,
            "count": 2
           }
          ]
         }
        },
        {
         "name": "Open",
         "dtype": "float64",
         "stats": {
          "unique_count": 1297,
          "nan_count": 0,
          "min": "0.023225",
          "max": "2.300307",
          "histogram": [
           {
            "bin_start": 0.023225,
            "bin_end": 0.2509332,
            "count": 1004
           },
           {
            "bin_start": 0.2509332,
            "bin_end": 0.4786414,
            "count": 96
           },
           {
            "bin_start": 0.4786414,
            "bin_end": 0.7063496,
            "count": 24
           },
           {
            "bin_start": 0.7063496,
            "bin_end": 0.9340578,
            "count": 17
           },
           {
            "bin_start": 0.9340578,
            "bin_end": 1.161766,
            "count": 34
           },
           {
            "bin_start": 1.161766,
            "bin_end": 1.3894742,
            "count": 75
           },
           {
            "bin_start": 1.3894742,
            "bin_end": 1.6171824000000001,
            "count": 32
           },
           {
            "bin_start": 1.6171824000000001,
            "bin_end": 1.8448906,
            "count": 17
           },
           {
            "bin_start": 1.8448906,
            "bin_end": 2.0725988,
            "count": 4
           },
           {
            "bin_start": 2.0725988,
            "bin_end": 2.300307,
            "count": 2
           }
          ]
         }
        },
        {
         "name": "High",
         "dtype": "float64",
         "stats": {
          "unique_count": 1303,
          "nan_count": 0,
          "min": "0.026454",
          "max": "2.46007",
          "histogram": [
           {
            "bin_start": 0.026454,
            "bin_end": 0.2698156,
            "count": 1007
           },
           {
            "bin_start": 0.2698156,
            "bin_end": 0.5131772,
            "count": 91
           },
           {
            "bin_start": 0.5131772,
            "bin_end": 0.7565388,
            "count": 24
           },
           {
            "bin_start": 0.7565388,
            "bin_end": 0.9999003999999999,
            "count": 19
           },
           {
            "bin_start": 0.9999003999999999,
            "bin_end": 1.2432619999999999,
            "count": 50
           },
           {
            "bin_start": 1.2432619999999999,
            "bin_end": 1.4866236,
            "count": 65
           },
           {
            "bin_start": 1.4866236,
            "bin_end": 1.7299851999999998,
            "count": 26
           },
           {
            "bin_start": 1.7299851999999998,
            "bin_end": 1.9733467999999998,
            "count": 17
           },
           {
            "bin_start": 1.9733467999999998,
            "bin_end": 2.2167084,
            "count": 3
           },
           {
            "bin_start": 2.2167084,
            "bin_end": 2.46007,
            "count": 3
           }
          ]
         }
        },
        {
         "name": "Low",
         "dtype": "float64",
         "stats": {
          "unique_count": 1301,
          "nan_count": 0,
          "min": "0.017774",
          "max": "2.01674",
          "histogram": [
           {
            "bin_start": 0.017774,
            "bin_end": 0.21767060000000002,
            "count": 998
           },
           {
            "bin_start": 0.21767060000000002,
            "bin_end": 0.4175672,
            "count": 102
           },
           {
            "bin_start": 0.4175672,
            "bin_end": 0.6174638,
            "count": 19
           },
           {
            "bin_start": 0.6174638,
            "bin_end": 0.8173604,
            "count": 16
           },
           {
            "bin_start": 0.8173604,
            "bin_end": 1.017257,
            "count": 22
           },
           {
            "bin_start": 1.017257,
            "bin_end": 1.2171536,
            "count": 67
           },
           {
            "bin_start": 1.2171536,
            "bin_end": 1.4170502,
            "count": 48
           },
           {
            "bin_start": 1.4170502,
            "bin_end": 1.6169468,
            "count": 24
           },
           {
            "bin_start": 1.6169468,
            "bin_end": 1.8168434,
            "count": 5
           },
           {
            "bin_start": 1.8168434,
            "bin_end": 2.01674,
            "count": 4
           }
          ]
         }
        },
        {
         "name": "Vol.",
         "dtype": "object",
         "stats": {
          "unique_count": 1249,
          "nan_count": 0,
          "categories": [
           {
            "name": "1.11B",
            "count": 6
           },
           {
            "name": "1.18B",
            "count": 5
           },
           {
            "name": "1247 others",
            "count": 1294
           }
          ]
         }
        },
        {
         "name": "Change%",
         "dtype": "float64",
         "stats": {
          "unique_count": 962,
          "nan_count": 0,
          "min": "-41.49",
          "max": "41.73",
          "histogram": [
           {
            "bin_start": -41.49,
            "bin_end": -33.168000000000006,
            "count": 1
           },
           {
            "bin_start": -33.168000000000006,
            "bin_end": -24.846000000000004,
            "count": 1
           },
           {
            "bin_start": -24.846000000000004,
            "bin_end": -16.524000000000004,
            "count": 10
           },
           {
            "bin_start": -16.524000000000004,
            "bin_end": -8.202000000000005,
            "count": 77
           },
           {
            "bin_start": -8.202000000000005,
            "bin_end": 0.11999999999999744,
            "count": 577
           },
           {
            "bin_start": 0.11999999999999744,
            "bin_end": 8.441999999999993,
            "count": 531
           },
           {
            "bin_start": 8.441999999999993,
            "bin_end": 16.76399999999999,
            "count": 85
           },
           {
            "bin_start": 16.76399999999999,
            "bin_end": 25.08599999999999,
            "count": 17
           },
           {
            "bin_start": 25.08599999999999,
            "bin_end": 33.407999999999994,
            "count": 5
           },
           {
            "bin_start": 33.407999999999994,
            "bin_end": 41.73,
            "count": 1
           }
          ]
         }
        },
        {
         "name": "_deepnote_index_column",
         "dtype": "datetime64[ns]"
        }
       ],
       "rows": [
        {
         "Date": "2021-07-27T00:00:00.000000",
         "Price(in dollars)": 1.239114,
         "Open": 1.255189,
         "High": 1.269624,
         "Low": 1.215022,
         "Vol.": "519.03M",
         "Change%": -1.28,
         "_deepnote_index_column": "2021-07-27T00:00:00.000000"
        },
        {
         "Date": "2021-07-26T00:00:00.000000",
         "Price(in dollars)": 1.255189,
         "Open": 1.228191,
         "High": 1.397445,
         "Low": 1.222583,
         "Vol.": "596.83M",
         "Change%": 2.2,
         "_deepnote_index_column": "2021-07-26T00:00:00.000000"
        },
        {
         "Date": "2021-07-25T00:00:00.000000",
         "Price(in dollars)": 1.228135,
         "Open": 1.216,
         "High": 1.2361,
         "Low": 1.191199,
         "Vol.": "181.71M",
         "Change%": 1.08,
         "_deepnote_index_column": "2021-07-25T00:00:00.000000"
        },
        {
         "Date": "2021-07-24T00:00:00.000000",
         "Price(in dollars)": 1.215002,
         "Open": 1.205285,
         "High": 1.223699,
         "Low": 1.197844,
         "Vol.": "221.74M",
         "Change%": 0.8,
         "_deepnote_index_column": "2021-07-24T00:00:00.000000"
        },
        {
         "Date": "2021-07-23T00:00:00.000000",
         "Price(in dollars)": 1.205386,
         "Open": 1.185634,
         "High": 1.206692,
         "Low": 1.147027,
         "Vol.": "91.89M",
         "Change%": 1.65,
         "_deepnote_index_column": "2021-07-23T00:00:00.000000"
        },
        {
         "Date": "2021-07-22T00:00:00.000000",
         "Price(in dollars)": 1.185875,
         "Open": 1.169694,
         "High": 1.205136,
         "Low": 1.150267,
         "Vol.": "298.36M",
         "Change%": 1.38,
         "_deepnote_index_column": "2021-07-22T00:00:00.000000"
        },
        {
         "Date": "2021-07-21T00:00:00.000000",
         "Price(in dollars)": 1.169694,
         "Open": 1.054526,
         "High": 1.221121,
         "Low": 1.037226,
         "Vol.": "464.72M",
         "Change%": 10.92,
         "_deepnote_index_column": "2021-07-21T00:00:00.000000"
        },
        {
         "Date": "2021-07-20T00:00:00.000000",
         "Price(in dollars)": 1.054526,
         "Open": 1.122328,
         "High": 1.134108,
         "Low": 1.021146,
         "Vol.": "412.27M",
         "Change%": -5.95,
         "_deepnote_index_column": "2021-07-20T00:00:00.000000"
        },
        {
         "Date": "2021-07-19T00:00:00.000000",
         "Price(in dollars)": 1.121185,
         "Open": 1.182284,
         "High": 1.190869,
         "Low": 1.116718,
         "Vol.": "218.34M",
         "Change%": -5.17,
         "_deepnote_index_column": "2021-07-19T00:00:00.000000"
        },
        {
         "Date": "2021-07-18T00:00:00.000000",
         "Price(in dollars)": 1.182306,
         "Open": 1.171333,
         "High": 1.218066,
         "Low": 1.168231,
         "Vol.": "185.35M",
         "Change%": 0.94,
         "_deepnote_index_column": "2021-07-18T00:00:00.000000"
        }
       ]
      },
      "text/plain": "                 Date  Price(in dollars)      Open      High       Low  \\\n2021-07-27 2021-07-27           1.239114  1.255189  1.269624  1.215022   \n2021-07-26 2021-07-26           1.255189  1.228191  1.397445  1.222583   \n2021-07-25 2021-07-25           1.228135  1.216000  1.236100  1.191199   \n2021-07-24 2021-07-24           1.215002  1.205285  1.223699  1.197844   \n2021-07-23 2021-07-23           1.205386  1.185634  1.206692  1.147027   \n...               ...                ...       ...       ...       ...   \n2018-01-04 2018-01-04           1.104300  1.100000  1.350000  1.050000   \n2018-01-03 2018-01-03           1.080000  0.978180  1.090000  0.888210   \n2018-01-02 2018-01-02           0.762000  0.702200  0.800000  0.675000   \n2018-01-01 2018-01-01           0.702200  0.710000  0.715000  0.632000   \n2017-12-31 2017-12-31           0.710000  0.590000  0.740000  0.590000   \n\n               Vol.  Change%  \n2021-07-27  519.03M    -1.28  \n2021-07-26  596.83M     2.20  \n2021-07-25  181.71M     1.08  \n2021-07-24  221.74M     0.80  \n2021-07-23   91.89M     1.65  \n...             ...      ...  \n2018-01-04   19.60M     2.25  \n2018-01-03   20.23M    41.73  \n2018-01-02   10.97M     8.52  \n2018-01-01   17.95M    -1.10  \n2017-12-31   17.22M    20.34  \n\n[1305 rows x 7 columns]",
      "text/html": "<div>\n<style scoped>\n    .dataframe tbody tr th:only-of-type {\n        vertical-align: middle;\n    }\n\n    .dataframe tbody tr th {\n        vertical-align: top;\n    }\n\n    .dataframe thead th {\n        text-align: right;\n    }\n</style>\n<table border=\"1\" class=\"dataframe\">\n  <thead>\n    <tr style=\"text-align: right;\">\n      <th></th>\n      <th>Date</th>\n      <th>Price(in dollars)</th>\n      <th>Open</th>\n      <th>High</th>\n      <th>Low</th>\n      <th>Vol.</th>\n      <th>Change%</th>\n    </tr>\n  </thead>\n  <tbody>\n    <tr>\n      <th>2021-07-27</th>\n      <td>2021-07-27</td>\n      <td>1.239114</td>\n      <td>1.255189</td>\n      <td>1.269624</td>\n      <td>1.215022</td>\n      <td>519.03M</td>\n      <td>-1.28</td>\n    </tr>\n    <tr>\n      <th>2021-07-26</th>\n      <td>2021-07-26</td>\n      <td>1.255189</td>\n      <td>1.228191</td>\n      <td>1.397445</td>\n      <td>1.222583</td>\n      <td>596.83M</td>\n      <td>2.20</td>\n    </tr>\n    <tr>\n      <th>2021-07-25</th>\n      <td>2021-07-25</td>\n      <td>1.228135</td>\n      <td>1.216000</td>\n      <td>1.236100</td>\n      <td>1.191199</td>\n      <td>181.71M</td>\n      <td>1.08</td>\n    </tr>\n    <tr>\n      <th>2021-07-24</th>\n      <td>2021-07-24</td>\n      <td>1.215002</td>\n      <td>1.205285</td>\n      <td>1.223699</td>\n      <td>1.197844</td>\n      <td>221.74M</td>\n      <td>0.80</td>\n    </tr>\n    <tr>\n      <th>2021-07-23</th>\n      <td>2021-07-23</td>\n      <td>1.205386</td>\n      <td>1.185634</td>\n      <td>1.206692</td>\n      <td>1.147027</td>\n      <td>91.89M</td>\n      <td>1.65</td>\n    </tr>\n    <tr>\n      <th>...</th>\n      <td>...</td>\n      <td>...</td>\n      <td>...</td>\n      <td>...</td>\n      <td>...</td>\n      <td>...</td>\n      <td>...</td>\n    </tr>\n    <tr>\n      <th>2018-01-04</th>\n      <td>2018-01-04</td>\n      <td>1.104300</td>\n      <td>1.100000</td>\n      <td>1.350000</td>\n      <td>1.050000</td>\n      <td>19.60M</td>\n      <td>2.25</td>\n    </tr>\n    <tr>\n      <th>2018-01-03</th>\n      <td>2018-01-03</td>\n      <td>1.080000</td>\n      <td>0.978180</td>\n      <td>1.090000</td>\n      <td>0.888210</td>\n      <td>20.23M</td>\n      <td>41.73</td>\n    </tr>\n    <tr>\n      <th>2018-01-02</th>\n      <td>2018-01-02</td>\n      <td>0.762000</td>\n      <td>0.702200</td>\n      <td>0.800000</td>\n      <td>0.675000</td>\n      <td>10.97M</td>\n      <td>8.52</td>\n    </tr>\n    <tr>\n      <th>2018-01-01</th>\n      <td>2018-01-01</td>\n      <td>0.702200</td>\n      <td>0.710000</td>\n      <td>0.715000</td>\n      <td>0.632000</td>\n      <td>17.95M</td>\n      <td>-1.10</td>\n    </tr>\n    <tr>\n      <th>2017-12-31</th>\n      <td>2017-12-31</td>\n      <td>0.710000</td>\n      <td>0.590000</td>\n      <td>0.740000</td>\n      <td>0.590000</td>\n      <td>17.22M</td>\n      <td>20.34</td>\n    </tr>\n  </tbody>\n</table>\n<p>1305 rows × 7 columns</p>\n</div>"
     },
     "metadata": {}
    }
   ]
  },
  {
   "cell_type": "code",
   "metadata": {
    "colab": {
     "base_uri": "https://localhost:8080/",
     "height": 424
    },
    "id": "QsnOb0pw1ThK",
    "outputId": "c87e92e3-f488-435d-c614-9e145cd32990",
    "cell_id": "00006-6bb40216-4ee7-44ca-a54e-3e0ce0b7238d",
    "deepnote_to_be_reexecuted": false,
    "source_hash": "396ee7b5",
    "execution_start": 1648879269483,
    "execution_millis": 74,
    "deepnote_cell_type": "code",
    "deepnote_cell_height": 634
   },
   "source": "# drop date column\ndf.drop('Date', axis=1,inplace=True)\ndf",
   "execution_count": null,
   "outputs": [
    {
     "output_type": "execute_result",
     "execution_count": 7,
     "data": {
      "application/vnd.deepnote.dataframe.v3+json": {
       "column_count": 6,
       "row_count": 1305,
       "columns": [
        {
         "name": "Price(in dollars)",
         "dtype": "float64",
         "stats": {
          "unique_count": 1298,
          "nan_count": 0,
          "min": "0.023222",
          "max": "2.300278",
          "histogram": [
           {
            "bin_start": 0.023222,
            "bin_end": 0.25092760000000003,
            "count": 1004
           },
           {
            "bin_start": 0.25092760000000003,
            "bin_end": 0.47863320000000004,
            "count": 96
           },
           {
            "bin_start": 0.47863320000000004,
            "bin_end": 0.7063388,
            "count": 23
           },
           {
            "bin_start": 0.7063388,
            "bin_end": 0.9340444,
            "count": 18
           },
           {
            "bin_start": 0.9340444,
            "bin_end": 1.16175,
            "count": 34
           },
           {
            "bin_start": 1.16175,
            "bin_end": 1.3894556000000002,
            "count": 75
           },
           {
            "bin_start": 1.3894556000000002,
            "bin_end": 1.6171612000000002,
            "count": 32
           },
           {
            "bin_start": 1.6171612000000002,
            "bin_end": 1.8448668000000001,
            "count": 17
           },
           {
            "bin_start": 1.8448668000000001,
            "bin_end": 2.0725724000000003,
            "count": 4
           },
           {
            "bin_start": 2.0725724000000003,
            "bin_end": 2.300278,
            "count": 2
           }
          ]
         }
        },
        {
         "name": "Open",
         "dtype": "float64",
         "stats": {
          "unique_count": 1297,
          "nan_count": 0,
          "min": "0.023225",
          "max": "2.300307",
          "histogram": [
           {
            "bin_start": 0.023225,
            "bin_end": 0.2509332,
            "count": 1004
           },
           {
            "bin_start": 0.2509332,
            "bin_end": 0.4786414,
            "count": 96
           },
           {
            "bin_start": 0.4786414,
            "bin_end": 0.7063496,
            "count": 24
           },
           {
            "bin_start": 0.7063496,
            "bin_end": 0.9340578,
            "count": 17
           },
           {
            "bin_start": 0.9340578,
            "bin_end": 1.161766,
            "count": 34
           },
           {
            "bin_start": 1.161766,
            "bin_end": 1.3894742,
            "count": 75
           },
           {
            "bin_start": 1.3894742,
            "bin_end": 1.6171824000000001,
            "count": 32
           },
           {
            "bin_start": 1.6171824000000001,
            "bin_end": 1.8448906,
            "count": 17
           },
           {
            "bin_start": 1.8448906,
            "bin_end": 2.0725988,
            "count": 4
           },
           {
            "bin_start": 2.0725988,
            "bin_end": 2.300307,
            "count": 2
           }
          ]
         }
        },
        {
         "name": "High",
         "dtype": "float64",
         "stats": {
          "unique_count": 1303,
          "nan_count": 0,
          "min": "0.026454",
          "max": "2.46007",
          "histogram": [
           {
            "bin_start": 0.026454,
            "bin_end": 0.2698156,
            "count": 1007
           },
           {
            "bin_start": 0.2698156,
            "bin_end": 0.5131772,
            "count": 91
           },
           {
            "bin_start": 0.5131772,
            "bin_end": 0.7565388,
            "count": 24
           },
           {
            "bin_start": 0.7565388,
            "bin_end": 0.9999003999999999,
            "count": 19
           },
           {
            "bin_start": 0.9999003999999999,
            "bin_end": 1.2432619999999999,
            "count": 50
           },
           {
            "bin_start": 1.2432619999999999,
            "bin_end": 1.4866236,
            "count": 65
           },
           {
            "bin_start": 1.4866236,
            "bin_end": 1.7299851999999998,
            "count": 26
           },
           {
            "bin_start": 1.7299851999999998,
            "bin_end": 1.9733467999999998,
            "count": 17
           },
           {
            "bin_start": 1.9733467999999998,
            "bin_end": 2.2167084,
            "count": 3
           },
           {
            "bin_start": 2.2167084,
            "bin_end": 2.46007,
            "count": 3
           }
          ]
         }
        },
        {
         "name": "Low",
         "dtype": "float64",
         "stats": {
          "unique_count": 1301,
          "nan_count": 0,
          "min": "0.017774",
          "max": "2.01674",
          "histogram": [
           {
            "bin_start": 0.017774,
            "bin_end": 0.21767060000000002,
            "count": 998
           },
           {
            "bin_start": 0.21767060000000002,
            "bin_end": 0.4175672,
            "count": 102
           },
           {
            "bin_start": 0.4175672,
            "bin_end": 0.6174638,
            "count": 19
           },
           {
            "bin_start": 0.6174638,
            "bin_end": 0.8173604,
            "count": 16
           },
           {
            "bin_start": 0.8173604,
            "bin_end": 1.017257,
            "count": 22
           },
           {
            "bin_start": 1.017257,
            "bin_end": 1.2171536,
            "count": 67
           },
           {
            "bin_start": 1.2171536,
            "bin_end": 1.4170502,
            "count": 48
           },
           {
            "bin_start": 1.4170502,
            "bin_end": 1.6169468,
            "count": 24
           },
           {
            "bin_start": 1.6169468,
            "bin_end": 1.8168434,
            "count": 5
           },
           {
            "bin_start": 1.8168434,
            "bin_end": 2.01674,
            "count": 4
           }
          ]
         }
        },
        {
         "name": "Vol.",
         "dtype": "object",
         "stats": {
          "unique_count": 1249,
          "nan_count": 0,
          "categories": [
           {
            "name": "1.11B",
            "count": 6
           },
           {
            "name": "1.18B",
            "count": 5
           },
           {
            "name": "1247 others",
            "count": 1294
           }
          ]
         }
        },
        {
         "name": "Change%",
         "dtype": "float64",
         "stats": {
          "unique_count": 962,
          "nan_count": 0,
          "min": "-41.49",
          "max": "41.73",
          "histogram": [
           {
            "bin_start": -41.49,
            "bin_end": -33.168000000000006,
            "count": 1
           },
           {
            "bin_start": -33.168000000000006,
            "bin_end": -24.846000000000004,
            "count": 1
           },
           {
            "bin_start": -24.846000000000004,
            "bin_end": -16.524000000000004,
            "count": 10
           },
           {
            "bin_start": -16.524000000000004,
            "bin_end": -8.202000000000005,
            "count": 77
           },
           {
            "bin_start": -8.202000000000005,
            "bin_end": 0.11999999999999744,
            "count": 577
           },
           {
            "bin_start": 0.11999999999999744,
            "bin_end": 8.441999999999993,
            "count": 531
           },
           {
            "bin_start": 8.441999999999993,
            "bin_end": 16.76399999999999,
            "count": 85
           },
           {
            "bin_start": 16.76399999999999,
            "bin_end": 25.08599999999999,
            "count": 17
           },
           {
            "bin_start": 25.08599999999999,
            "bin_end": 33.407999999999994,
            "count": 5
           },
           {
            "bin_start": 33.407999999999994,
            "bin_end": 41.73,
            "count": 1
           }
          ]
         }
        },
        {
         "name": "_deepnote_index_column",
         "dtype": "datetime64[ns]"
        }
       ],
       "rows": [
        {
         "Price(in dollars)": 1.239114,
         "Open": 1.255189,
         "High": 1.269624,
         "Low": 1.215022,
         "Vol.": "519.03M",
         "Change%": -1.28,
         "_deepnote_index_column": "2021-07-27T00:00:00.000000"
        },
        {
         "Price(in dollars)": 1.255189,
         "Open": 1.228191,
         "High": 1.397445,
         "Low": 1.222583,
         "Vol.": "596.83M",
         "Change%": 2.2,
         "_deepnote_index_column": "2021-07-26T00:00:00.000000"
        },
        {
         "Price(in dollars)": 1.228135,
         "Open": 1.216,
         "High": 1.2361,
         "Low": 1.191199,
         "Vol.": "181.71M",
         "Change%": 1.08,
         "_deepnote_index_column": "2021-07-25T00:00:00.000000"
        },
        {
         "Price(in dollars)": 1.215002,
         "Open": 1.205285,
         "High": 1.223699,
         "Low": 1.197844,
         "Vol.": "221.74M",
         "Change%": 0.8,
         "_deepnote_index_column": "2021-07-24T00:00:00.000000"
        },
        {
         "Price(in dollars)": 1.205386,
         "Open": 1.185634,
         "High": 1.206692,
         "Low": 1.147027,
         "Vol.": "91.89M",
         "Change%": 1.65,
         "_deepnote_index_column": "2021-07-23T00:00:00.000000"
        },
        {
         "Price(in dollars)": 1.185875,
         "Open": 1.169694,
         "High": 1.205136,
         "Low": 1.150267,
         "Vol.": "298.36M",
         "Change%": 1.38,
         "_deepnote_index_column": "2021-07-22T00:00:00.000000"
        },
        {
         "Price(in dollars)": 1.169694,
         "Open": 1.054526,
         "High": 1.221121,
         "Low": 1.037226,
         "Vol.": "464.72M",
         "Change%": 10.92,
         "_deepnote_index_column": "2021-07-21T00:00:00.000000"
        },
        {
         "Price(in dollars)": 1.054526,
         "Open": 1.122328,
         "High": 1.134108,
         "Low": 1.021146,
         "Vol.": "412.27M",
         "Change%": -5.95,
         "_deepnote_index_column": "2021-07-20T00:00:00.000000"
        },
        {
         "Price(in dollars)": 1.121185,
         "Open": 1.182284,
         "High": 1.190869,
         "Low": 1.116718,
         "Vol.": "218.34M",
         "Change%": -5.17,
         "_deepnote_index_column": "2021-07-19T00:00:00.000000"
        },
        {
         "Price(in dollars)": 1.182306,
         "Open": 1.171333,
         "High": 1.218066,
         "Low": 1.168231,
         "Vol.": "185.35M",
         "Change%": 0.94,
         "_deepnote_index_column": "2021-07-18T00:00:00.000000"
        }
       ]
      },
      "text/plain": "            Price(in dollars)      Open      High       Low     Vol.  Change%\n2021-07-27           1.239114  1.255189  1.269624  1.215022  519.03M    -1.28\n2021-07-26           1.255189  1.228191  1.397445  1.222583  596.83M     2.20\n2021-07-25           1.228135  1.216000  1.236100  1.191199  181.71M     1.08\n2021-07-24           1.215002  1.205285  1.223699  1.197844  221.74M     0.80\n2021-07-23           1.205386  1.185634  1.206692  1.147027   91.89M     1.65\n...                       ...       ...       ...       ...      ...      ...\n2018-01-04           1.104300  1.100000  1.350000  1.050000   19.60M     2.25\n2018-01-03           1.080000  0.978180  1.090000  0.888210   20.23M    41.73\n2018-01-02           0.762000  0.702200  0.800000  0.675000   10.97M     8.52\n2018-01-01           0.702200  0.710000  0.715000  0.632000   17.95M    -1.10\n2017-12-31           0.710000  0.590000  0.740000  0.590000   17.22M    20.34\n\n[1305 rows x 6 columns]",
      "text/html": "<div>\n<style scoped>\n    .dataframe tbody tr th:only-of-type {\n        vertical-align: middle;\n    }\n\n    .dataframe tbody tr th {\n        vertical-align: top;\n    }\n\n    .dataframe thead th {\n        text-align: right;\n    }\n</style>\n<table border=\"1\" class=\"dataframe\">\n  <thead>\n    <tr style=\"text-align: right;\">\n      <th></th>\n      <th>Price(in dollars)</th>\n      <th>Open</th>\n      <th>High</th>\n      <th>Low</th>\n      <th>Vol.</th>\n      <th>Change%</th>\n    </tr>\n  </thead>\n  <tbody>\n    <tr>\n      <th>2021-07-27</th>\n      <td>1.239114</td>\n      <td>1.255189</td>\n      <td>1.269624</td>\n      <td>1.215022</td>\n      <td>519.03M</td>\n      <td>-1.28</td>\n    </tr>\n    <tr>\n      <th>2021-07-26</th>\n      <td>1.255189</td>\n      <td>1.228191</td>\n      <td>1.397445</td>\n      <td>1.222583</td>\n      <td>596.83M</td>\n      <td>2.20</td>\n    </tr>\n    <tr>\n      <th>2021-07-25</th>\n      <td>1.228135</td>\n      <td>1.216000</td>\n      <td>1.236100</td>\n      <td>1.191199</td>\n      <td>181.71M</td>\n      <td>1.08</td>\n    </tr>\n    <tr>\n      <th>2021-07-24</th>\n      <td>1.215002</td>\n      <td>1.205285</td>\n      <td>1.223699</td>\n      <td>1.197844</td>\n      <td>221.74M</td>\n      <td>0.80</td>\n    </tr>\n    <tr>\n      <th>2021-07-23</th>\n      <td>1.205386</td>\n      <td>1.185634</td>\n      <td>1.206692</td>\n      <td>1.147027</td>\n      <td>91.89M</td>\n      <td>1.65</td>\n    </tr>\n    <tr>\n      <th>...</th>\n      <td>...</td>\n      <td>...</td>\n      <td>...</td>\n      <td>...</td>\n      <td>...</td>\n      <td>...</td>\n    </tr>\n    <tr>\n      <th>2018-01-04</th>\n      <td>1.104300</td>\n      <td>1.100000</td>\n      <td>1.350000</td>\n      <td>1.050000</td>\n      <td>19.60M</td>\n      <td>2.25</td>\n    </tr>\n    <tr>\n      <th>2018-01-03</th>\n      <td>1.080000</td>\n      <td>0.978180</td>\n      <td>1.090000</td>\n      <td>0.888210</td>\n      <td>20.23M</td>\n      <td>41.73</td>\n    </tr>\n    <tr>\n      <th>2018-01-02</th>\n      <td>0.762000</td>\n      <td>0.702200</td>\n      <td>0.800000</td>\n      <td>0.675000</td>\n      <td>10.97M</td>\n      <td>8.52</td>\n    </tr>\n    <tr>\n      <th>2018-01-01</th>\n      <td>0.702200</td>\n      <td>0.710000</td>\n      <td>0.715000</td>\n      <td>0.632000</td>\n      <td>17.95M</td>\n      <td>-1.10</td>\n    </tr>\n    <tr>\n      <th>2017-12-31</th>\n      <td>0.710000</td>\n      <td>0.590000</td>\n      <td>0.740000</td>\n      <td>0.590000</td>\n      <td>17.22M</td>\n      <td>20.34</td>\n    </tr>\n  </tbody>\n</table>\n<p>1305 rows × 6 columns</p>\n</div>"
     },
     "metadata": {}
    }
   ]
  },
  {
   "cell_type": "code",
   "metadata": {
    "id": "NdUjgKZZ2TtJ",
    "cell_id": "00007-e7015b9e-55be-40c1-8937-98c8e478ec0f",
    "deepnote_to_be_reexecuted": false,
    "source_hash": "e950f18c",
    "execution_start": 1648879269581,
    "execution_millis": 5,
    "deepnote_cell_type": "code",
    "deepnote_cell_height": 117
   },
   "source": "# Create a variable n days into the future\nfuture_days = 14\n",
   "execution_count": null,
   "outputs": []
  },
  {
   "cell_type": "code",
   "metadata": {
    "colab": {
     "base_uri": "https://localhost:8080/",
     "height": 424
    },
    "id": "O9Aaj3_j2clO",
    "outputId": "8b085370-502c-4335-8798-fbf875cf07e0",
    "cell_id": "00008-91a1a453-70f4-42ad-80e5-665147e05ba3",
    "deepnote_to_be_reexecuted": false,
    "source_hash": "b79de48",
    "execution_start": 1648879269608,
    "execution_millis": 134,
    "deepnote_cell_type": "code",
    "deepnote_cell_height": 634
   },
   "source": "# Create a new column which will contain the future price\ndf[str(future_days) + '_Day_Price_Forecast'] = df[['Price(in dollars)']].shift(-future_days)\ndf",
   "execution_count": null,
   "outputs": [
    {
     "output_type": "execute_result",
     "execution_count": 9,
     "data": {
      "application/vnd.deepnote.dataframe.v3+json": {
       "column_count": 7,
       "row_count": 1305,
       "columns": [
        {
         "name": "Price(in dollars)",
         "dtype": "float64",
         "stats": {
          "unique_count": 1298,
          "nan_count": 0,
          "min": "0.023222",
          "max": "2.300278",
          "histogram": [
           {
            "bin_start": 0.023222,
            "bin_end": 0.25092760000000003,
            "count": 1004
           },
           {
            "bin_start": 0.25092760000000003,
            "bin_end": 0.47863320000000004,
            "count": 96
           },
           {
            "bin_start": 0.47863320000000004,
            "bin_end": 0.7063388,
            "count": 23
           },
           {
            "bin_start": 0.7063388,
            "bin_end": 0.9340444,
            "count": 18
           },
           {
            "bin_start": 0.9340444,
            "bin_end": 1.16175,
            "count": 34
           },
           {
            "bin_start": 1.16175,
            "bin_end": 1.3894556000000002,
            "count": 75
           },
           {
            "bin_start": 1.3894556000000002,
            "bin_end": 1.6171612000000002,
            "count": 32
           },
           {
            "bin_start": 1.6171612000000002,
            "bin_end": 1.8448668000000001,
            "count": 17
           },
           {
            "bin_start": 1.8448668000000001,
            "bin_end": 2.0725724000000003,
            "count": 4
           },
           {
            "bin_start": 2.0725724000000003,
            "bin_end": 2.300278,
            "count": 2
           }
          ]
         }
        },
        {
         "name": "Open",
         "dtype": "float64",
         "stats": {
          "unique_count": 1297,
          "nan_count": 0,
          "min": "0.023225",
          "max": "2.300307",
          "histogram": [
           {
            "bin_start": 0.023225,
            "bin_end": 0.2509332,
            "count": 1004
           },
           {
            "bin_start": 0.2509332,
            "bin_end": 0.4786414,
            "count": 96
           },
           {
            "bin_start": 0.4786414,
            "bin_end": 0.7063496,
            "count": 24
           },
           {
            "bin_start": 0.7063496,
            "bin_end": 0.9340578,
            "count": 17
           },
           {
            "bin_start": 0.9340578,
            "bin_end": 1.161766,
            "count": 34
           },
           {
            "bin_start": 1.161766,
            "bin_end": 1.3894742,
            "count": 75
           },
           {
            "bin_start": 1.3894742,
            "bin_end": 1.6171824000000001,
            "count": 32
           },
           {
            "bin_start": 1.6171824000000001,
            "bin_end": 1.8448906,
            "count": 17
           },
           {
            "bin_start": 1.8448906,
            "bin_end": 2.0725988,
            "count": 4
           },
           {
            "bin_start": 2.0725988,
            "bin_end": 2.300307,
            "count": 2
           }
          ]
         }
        },
        {
         "name": "High",
         "dtype": "float64",
         "stats": {
          "unique_count": 1303,
          "nan_count": 0,
          "min": "0.026454",
          "max": "2.46007",
          "histogram": [
           {
            "bin_start": 0.026454,
            "bin_end": 0.2698156,
            "count": 1007
           },
           {
            "bin_start": 0.2698156,
            "bin_end": 0.5131772,
            "count": 91
           },
           {
            "bin_start": 0.5131772,
            "bin_end": 0.7565388,
            "count": 24
           },
           {
            "bin_start": 0.7565388,
            "bin_end": 0.9999003999999999,
            "count": 19
           },
           {
            "bin_start": 0.9999003999999999,
            "bin_end": 1.2432619999999999,
            "count": 50
           },
           {
            "bin_start": 1.2432619999999999,
            "bin_end": 1.4866236,
            "count": 65
           },
           {
            "bin_start": 1.4866236,
            "bin_end": 1.7299851999999998,
            "count": 26
           },
           {
            "bin_start": 1.7299851999999998,
            "bin_end": 1.9733467999999998,
            "count": 17
           },
           {
            "bin_start": 1.9733467999999998,
            "bin_end": 2.2167084,
            "count": 3
           },
           {
            "bin_start": 2.2167084,
            "bin_end": 2.46007,
            "count": 3
           }
          ]
         }
        },
        {
         "name": "Low",
         "dtype": "float64",
         "stats": {
          "unique_count": 1301,
          "nan_count": 0,
          "min": "0.017774",
          "max": "2.01674",
          "histogram": [
           {
            "bin_start": 0.017774,
            "bin_end": 0.21767060000000002,
            "count": 998
           },
           {
            "bin_start": 0.21767060000000002,
            "bin_end": 0.4175672,
            "count": 102
           },
           {
            "bin_start": 0.4175672,
            "bin_end": 0.6174638,
            "count": 19
           },
           {
            "bin_start": 0.6174638,
            "bin_end": 0.8173604,
            "count": 16
           },
           {
            "bin_start": 0.8173604,
            "bin_end": 1.017257,
            "count": 22
           },
           {
            "bin_start": 1.017257,
            "bin_end": 1.2171536,
            "count": 67
           },
           {
            "bin_start": 1.2171536,
            "bin_end": 1.4170502,
            "count": 48
           },
           {
            "bin_start": 1.4170502,
            "bin_end": 1.6169468,
            "count": 24
           },
           {
            "bin_start": 1.6169468,
            "bin_end": 1.8168434,
            "count": 5
           },
           {
            "bin_start": 1.8168434,
            "bin_end": 2.01674,
            "count": 4
           }
          ]
         }
        },
        {
         "name": "Vol.",
         "dtype": "object",
         "stats": {
          "unique_count": 1249,
          "nan_count": 0,
          "categories": [
           {
            "name": "1.11B",
            "count": 6
           },
           {
            "name": "1.18B",
            "count": 5
           },
           {
            "name": "1247 others",
            "count": 1294
           }
          ]
         }
        },
        {
         "name": "Change%",
         "dtype": "float64",
         "stats": {
          "unique_count": 962,
          "nan_count": 0,
          "min": "-41.49",
          "max": "41.73",
          "histogram": [
           {
            "bin_start": -41.49,
            "bin_end": -33.168000000000006,
            "count": 1
           },
           {
            "bin_start": -33.168000000000006,
            "bin_end": -24.846000000000004,
            "count": 1
           },
           {
            "bin_start": -24.846000000000004,
            "bin_end": -16.524000000000004,
            "count": 10
           },
           {
            "bin_start": -16.524000000000004,
            "bin_end": -8.202000000000005,
            "count": 77
           },
           {
            "bin_start": -8.202000000000005,
            "bin_end": 0.11999999999999744,
            "count": 577
           },
           {
            "bin_start": 0.11999999999999744,
            "bin_end": 8.441999999999993,
            "count": 531
           },
           {
            "bin_start": 8.441999999999993,
            "bin_end": 16.76399999999999,
            "count": 85
           },
           {
            "bin_start": 16.76399999999999,
            "bin_end": 25.08599999999999,
            "count": 17
           },
           {
            "bin_start": 25.08599999999999,
            "bin_end": 33.407999999999994,
            "count": 5
           },
           {
            "bin_start": 33.407999999999994,
            "bin_end": 41.73,
            "count": 1
           }
          ]
         }
        },
        {
         "name": "14_Day_Price_Forecast",
         "dtype": "float64",
         "stats": {
          "unique_count": 1284,
          "nan_count": 14,
          "min": "0.023222",
          "max": "2.300278",
          "histogram": [
           {
            "bin_start": 0.023222,
            "bin_end": 0.25092760000000003,
            "count": 1004
           },
           {
            "bin_start": 0.25092760000000003,
            "bin_end": 0.47863320000000004,
            "count": 96
           },
           {
            "bin_start": 0.47863320000000004,
            "bin_end": 0.7063388,
            "count": 23
           },
           {
            "bin_start": 0.7063388,
            "bin_end": 0.9340444,
            "count": 18
           },
           {
            "bin_start": 0.9340444,
            "bin_end": 1.16175,
            "count": 32
           },
           {
            "bin_start": 1.16175,
            "bin_end": 1.3894556000000002,
            "count": 63
           },
           {
            "bin_start": 1.3894556000000002,
            "bin_end": 1.6171612000000002,
            "count": 32
           },
           {
            "bin_start": 1.6171612000000002,
            "bin_end": 1.8448668000000001,
            "count": 17
           },
           {
            "bin_start": 1.8448668000000001,
            "bin_end": 2.0725724000000003,
            "count": 4
           },
           {
            "bin_start": 2.0725724000000003,
            "bin_end": 2.300278,
            "count": 2
           }
          ]
         }
        },
        {
         "name": "_deepnote_index_column",
         "dtype": "datetime64[ns]"
        }
       ],
       "rows": [
        {
         "Price(in dollars)": 1.239114,
         "Open": 1.255189,
         "High": 1.269624,
         "Low": 1.215022,
         "Vol.": "519.03M",
         "Change%": -1.28,
         "14_Day_Price_Forecast": 1.264909,
         "_deepnote_index_column": "2021-07-27T00:00:00.000000"
        },
        {
         "Price(in dollars)": 1.255189,
         "Open": 1.228191,
         "High": 1.397445,
         "Low": 1.222583,
         "Vol.": "596.83M",
         "Change%": 2.2,
         "14_Day_Price_Forecast": 1.314717,
         "_deepnote_index_column": "2021-07-26T00:00:00.000000"
        },
        {
         "Price(in dollars)": 1.228135,
         "Open": 1.216,
         "High": 1.2361,
         "Low": 1.191199,
         "Vol.": "181.71M",
         "Change%": 1.08,
         "14_Day_Price_Forecast": 1.347893,
         "_deepnote_index_column": "2021-07-25T00:00:00.000000"
        },
        {
         "Price(in dollars)": 1.215002,
         "Open": 1.205285,
         "High": 1.223699,
         "Low": 1.197844,
         "Vol.": "221.74M",
         "Change%": 0.8,
         "14_Day_Price_Forecast": 1.335667,
         "_deepnote_index_column": "2021-07-24T00:00:00.000000"
        },
        {
         "Price(in dollars)": 1.205386,
         "Open": 1.185634,
         "High": 1.206692,
         "Low": 1.147027,
         "Vol.": "91.89M",
         "Change%": 1.65,
         "14_Day_Price_Forecast": 1.349457,
         "_deepnote_index_column": "2021-07-23T00:00:00.000000"
        },
        {
         "Price(in dollars)": 1.185875,
         "Open": 1.169694,
         "High": 1.205136,
         "Low": 1.150267,
         "Vol.": "298.36M",
         "Change%": 1.38,
         "14_Day_Price_Forecast": 1.332361,
         "_deepnote_index_column": "2021-07-22T00:00:00.000000"
        },
        {
         "Price(in dollars)": 1.169694,
         "Open": 1.054526,
         "High": 1.221121,
         "Low": 1.037226,
         "Vol.": "464.72M",
         "Change%": 10.92,
         "14_Day_Price_Forecast": 1.403788,
         "_deepnote_index_column": "2021-07-21T00:00:00.000000"
        },
        {
         "Price(in dollars)": 1.054526,
         "Open": 1.122328,
         "High": 1.134108,
         "Low": 1.021146,
         "Vol.": "412.27M",
         "Change%": -5.95,
         "14_Day_Price_Forecast": 1.416315,
         "_deepnote_index_column": "2021-07-20T00:00:00.000000"
        },
        {
         "Price(in dollars)": 1.121185,
         "Open": 1.182284,
         "High": 1.190869,
         "Low": 1.116718,
         "Vol.": "218.34M",
         "Change%": -5.17,
         "14_Day_Price_Forecast": 1.404092,
         "_deepnote_index_column": "2021-07-19T00:00:00.000000"
        },
        {
         "Price(in dollars)": 1.182306,
         "Open": 1.171333,
         "High": 1.218066,
         "Low": 1.168231,
         "Vol.": "185.35M",
         "Change%": 0.94,
         "14_Day_Price_Forecast": 1.461623,
         "_deepnote_index_column": "2021-07-18T00:00:00.000000"
        }
       ]
      },
      "text/plain": "            Price(in dollars)      Open      High       Low     Vol.  Change%  \\\n2021-07-27           1.239114  1.255189  1.269624  1.215022  519.03M    -1.28   \n2021-07-26           1.255189  1.228191  1.397445  1.222583  596.83M     2.20   \n2021-07-25           1.228135  1.216000  1.236100  1.191199  181.71M     1.08   \n2021-07-24           1.215002  1.205285  1.223699  1.197844  221.74M     0.80   \n2021-07-23           1.205386  1.185634  1.206692  1.147027   91.89M     1.65   \n...                       ...       ...       ...       ...      ...      ...   \n2018-01-04           1.104300  1.100000  1.350000  1.050000   19.60M     2.25   \n2018-01-03           1.080000  0.978180  1.090000  0.888210   20.23M    41.73   \n2018-01-02           0.762000  0.702200  0.800000  0.675000   10.97M     8.52   \n2018-01-01           0.702200  0.710000  0.715000  0.632000   17.95M    -1.10   \n2017-12-31           0.710000  0.590000  0.740000  0.590000   17.22M    20.34   \n\n            14_Day_Price_Forecast  \n2021-07-27               1.264909  \n2021-07-26               1.314717  \n2021-07-25               1.347893  \n2021-07-24               1.335667  \n2021-07-23               1.349457  \n...                           ...  \n2018-01-04                    NaN  \n2018-01-03                    NaN  \n2018-01-02                    NaN  \n2018-01-01                    NaN  \n2017-12-31                    NaN  \n\n[1305 rows x 7 columns]",
      "text/html": "<div>\n<style scoped>\n    .dataframe tbody tr th:only-of-type {\n        vertical-align: middle;\n    }\n\n    .dataframe tbody tr th {\n        vertical-align: top;\n    }\n\n    .dataframe thead th {\n        text-align: right;\n    }\n</style>\n<table border=\"1\" class=\"dataframe\">\n  <thead>\n    <tr style=\"text-align: right;\">\n      <th></th>\n      <th>Price(in dollars)</th>\n      <th>Open</th>\n      <th>High</th>\n      <th>Low</th>\n      <th>Vol.</th>\n      <th>Change%</th>\n      <th>14_Day_Price_Forecast</th>\n    </tr>\n  </thead>\n  <tbody>\n    <tr>\n      <th>2021-07-27</th>\n      <td>1.239114</td>\n      <td>1.255189</td>\n      <td>1.269624</td>\n      <td>1.215022</td>\n      <td>519.03M</td>\n      <td>-1.28</td>\n      <td>1.264909</td>\n    </tr>\n    <tr>\n      <th>2021-07-26</th>\n      <td>1.255189</td>\n      <td>1.228191</td>\n      <td>1.397445</td>\n      <td>1.222583</td>\n      <td>596.83M</td>\n      <td>2.20</td>\n      <td>1.314717</td>\n    </tr>\n    <tr>\n      <th>2021-07-25</th>\n      <td>1.228135</td>\n      <td>1.216000</td>\n      <td>1.236100</td>\n      <td>1.191199</td>\n      <td>181.71M</td>\n      <td>1.08</td>\n      <td>1.347893</td>\n    </tr>\n    <tr>\n      <th>2021-07-24</th>\n      <td>1.215002</td>\n      <td>1.205285</td>\n      <td>1.223699</td>\n      <td>1.197844</td>\n      <td>221.74M</td>\n      <td>0.80</td>\n      <td>1.335667</td>\n    </tr>\n    <tr>\n      <th>2021-07-23</th>\n      <td>1.205386</td>\n      <td>1.185634</td>\n      <td>1.206692</td>\n      <td>1.147027</td>\n      <td>91.89M</td>\n      <td>1.65</td>\n      <td>1.349457</td>\n    </tr>\n    <tr>\n      <th>...</th>\n      <td>...</td>\n      <td>...</td>\n      <td>...</td>\n      <td>...</td>\n      <td>...</td>\n      <td>...</td>\n      <td>...</td>\n    </tr>\n    <tr>\n      <th>2018-01-04</th>\n      <td>1.104300</td>\n      <td>1.100000</td>\n      <td>1.350000</td>\n      <td>1.050000</td>\n      <td>19.60M</td>\n      <td>2.25</td>\n      <td>NaN</td>\n    </tr>\n    <tr>\n      <th>2018-01-03</th>\n      <td>1.080000</td>\n      <td>0.978180</td>\n      <td>1.090000</td>\n      <td>0.888210</td>\n      <td>20.23M</td>\n      <td>41.73</td>\n      <td>NaN</td>\n    </tr>\n    <tr>\n      <th>2018-01-02</th>\n      <td>0.762000</td>\n      <td>0.702200</td>\n      <td>0.800000</td>\n      <td>0.675000</td>\n      <td>10.97M</td>\n      <td>8.52</td>\n      <td>NaN</td>\n    </tr>\n    <tr>\n      <th>2018-01-01</th>\n      <td>0.702200</td>\n      <td>0.710000</td>\n      <td>0.715000</td>\n      <td>0.632000</td>\n      <td>17.95M</td>\n      <td>-1.10</td>\n      <td>NaN</td>\n    </tr>\n    <tr>\n      <th>2017-12-31</th>\n      <td>0.710000</td>\n      <td>0.590000</td>\n      <td>0.740000</td>\n      <td>0.590000</td>\n      <td>17.22M</td>\n      <td>20.34</td>\n      <td>NaN</td>\n    </tr>\n  </tbody>\n</table>\n<p>1305 rows × 7 columns</p>\n</div>"
     },
     "metadata": {}
    }
   ]
  },
  {
   "cell_type": "code",
   "metadata": {
    "colab": {
     "base_uri": "https://localhost:8080/",
     "height": 424
    },
    "id": "oAJsr83b2byH",
    "outputId": "6cd97b5f-96dc-4aaa-f7b0-8ae35db2e3f3",
    "cell_id": "00009-a72383a6-1b92-4d40-a170-f875413d6371",
    "deepnote_to_be_reexecuted": false,
    "source_hash": "4858d444",
    "execution_start": 1648879269747,
    "execution_millis": 64,
    "deepnote_cell_type": "code",
    "deepnote_cell_height": 634
   },
   "source": "# Show the data\ndf[['Price(in dollars)', str(future_days) + '_Day_Price_Forecast']]\n",
   "execution_count": null,
   "outputs": [
    {
     "output_type": "execute_result",
     "execution_count": 10,
     "data": {
      "application/vnd.deepnote.dataframe.v3+json": {
       "column_count": 2,
       "row_count": 1305,
       "columns": [
        {
         "name": "Price(in dollars)",
         "dtype": "float64",
         "stats": {
          "unique_count": 1298,
          "nan_count": 0,
          "min": "0.023222",
          "max": "2.300278",
          "histogram": [
           {
            "bin_start": 0.023222,
            "bin_end": 0.25092760000000003,
            "count": 1004
           },
           {
            "bin_start": 0.25092760000000003,
            "bin_end": 0.47863320000000004,
            "count": 96
           },
           {
            "bin_start": 0.47863320000000004,
            "bin_end": 0.7063388,
            "count": 23
           },
           {
            "bin_start": 0.7063388,
            "bin_end": 0.9340444,
            "count": 18
           },
           {
            "bin_start": 0.9340444,
            "bin_end": 1.16175,
            "count": 34
           },
           {
            "bin_start": 1.16175,
            "bin_end": 1.3894556000000002,
            "count": 75
           },
           {
            "bin_start": 1.3894556000000002,
            "bin_end": 1.6171612000000002,
            "count": 32
           },
           {
            "bin_start": 1.6171612000000002,
            "bin_end": 1.8448668000000001,
            "count": 17
           },
           {
            "bin_start": 1.8448668000000001,
            "bin_end": 2.0725724000000003,
            "count": 4
           },
           {
            "bin_start": 2.0725724000000003,
            "bin_end": 2.300278,
            "count": 2
           }
          ]
         }
        },
        {
         "name": "14_Day_Price_Forecast",
         "dtype": "float64",
         "stats": {
          "unique_count": 1284,
          "nan_count": 14,
          "min": "0.023222",
          "max": "2.300278",
          "histogram": [
           {
            "bin_start": 0.023222,
            "bin_end": 0.25092760000000003,
            "count": 1004
           },
           {
            "bin_start": 0.25092760000000003,
            "bin_end": 0.47863320000000004,
            "count": 96
           },
           {
            "bin_start": 0.47863320000000004,
            "bin_end": 0.7063388,
            "count": 23
           },
           {
            "bin_start": 0.7063388,
            "bin_end": 0.9340444,
            "count": 18
           },
           {
            "bin_start": 0.9340444,
            "bin_end": 1.16175,
            "count": 32
           },
           {
            "bin_start": 1.16175,
            "bin_end": 1.3894556000000002,
            "count": 63
           },
           {
            "bin_start": 1.3894556000000002,
            "bin_end": 1.6171612000000002,
            "count": 32
           },
           {
            "bin_start": 1.6171612000000002,
            "bin_end": 1.8448668000000001,
            "count": 17
           },
           {
            "bin_start": 1.8448668000000001,
            "bin_end": 2.0725724000000003,
            "count": 4
           },
           {
            "bin_start": 2.0725724000000003,
            "bin_end": 2.300278,
            "count": 2
           }
          ]
         }
        },
        {
         "name": "_deepnote_index_column",
         "dtype": "datetime64[ns]"
        }
       ],
       "rows": [
        {
         "Price(in dollars)": 1.239114,
         "14_Day_Price_Forecast": 1.264909,
         "_deepnote_index_column": "2021-07-27T00:00:00.000000"
        },
        {
         "Price(in dollars)": 1.255189,
         "14_Day_Price_Forecast": 1.314717,
         "_deepnote_index_column": "2021-07-26T00:00:00.000000"
        },
        {
         "Price(in dollars)": 1.228135,
         "14_Day_Price_Forecast": 1.347893,
         "_deepnote_index_column": "2021-07-25T00:00:00.000000"
        },
        {
         "Price(in dollars)": 1.215002,
         "14_Day_Price_Forecast": 1.335667,
         "_deepnote_index_column": "2021-07-24T00:00:00.000000"
        },
        {
         "Price(in dollars)": 1.205386,
         "14_Day_Price_Forecast": 1.349457,
         "_deepnote_index_column": "2021-07-23T00:00:00.000000"
        },
        {
         "Price(in dollars)": 1.185875,
         "14_Day_Price_Forecast": 1.332361,
         "_deepnote_index_column": "2021-07-22T00:00:00.000000"
        },
        {
         "Price(in dollars)": 1.169694,
         "14_Day_Price_Forecast": 1.403788,
         "_deepnote_index_column": "2021-07-21T00:00:00.000000"
        },
        {
         "Price(in dollars)": 1.054526,
         "14_Day_Price_Forecast": 1.416315,
         "_deepnote_index_column": "2021-07-20T00:00:00.000000"
        },
        {
         "Price(in dollars)": 1.121185,
         "14_Day_Price_Forecast": 1.404092,
         "_deepnote_index_column": "2021-07-19T00:00:00.000000"
        },
        {
         "Price(in dollars)": 1.182306,
         "14_Day_Price_Forecast": 1.461623,
         "_deepnote_index_column": "2021-07-18T00:00:00.000000"
        }
       ]
      },
      "text/plain": "            Price(in dollars)  14_Day_Price_Forecast\n2021-07-27           1.239114               1.264909\n2021-07-26           1.255189               1.314717\n2021-07-25           1.228135               1.347893\n2021-07-24           1.215002               1.335667\n2021-07-23           1.205386               1.349457\n...                       ...                    ...\n2018-01-04           1.104300                    NaN\n2018-01-03           1.080000                    NaN\n2018-01-02           0.762000                    NaN\n2018-01-01           0.702200                    NaN\n2017-12-31           0.710000                    NaN\n\n[1305 rows x 2 columns]",
      "text/html": "<div>\n<style scoped>\n    .dataframe tbody tr th:only-of-type {\n        vertical-align: middle;\n    }\n\n    .dataframe tbody tr th {\n        vertical-align: top;\n    }\n\n    .dataframe thead th {\n        text-align: right;\n    }\n</style>\n<table border=\"1\" class=\"dataframe\">\n  <thead>\n    <tr style=\"text-align: right;\">\n      <th></th>\n      <th>Price(in dollars)</th>\n      <th>14_Day_Price_Forecast</th>\n    </tr>\n  </thead>\n  <tbody>\n    <tr>\n      <th>2021-07-27</th>\n      <td>1.239114</td>\n      <td>1.264909</td>\n    </tr>\n    <tr>\n      <th>2021-07-26</th>\n      <td>1.255189</td>\n      <td>1.314717</td>\n    </tr>\n    <tr>\n      <th>2021-07-25</th>\n      <td>1.228135</td>\n      <td>1.347893</td>\n    </tr>\n    <tr>\n      <th>2021-07-24</th>\n      <td>1.215002</td>\n      <td>1.335667</td>\n    </tr>\n    <tr>\n      <th>2021-07-23</th>\n      <td>1.205386</td>\n      <td>1.349457</td>\n    </tr>\n    <tr>\n      <th>...</th>\n      <td>...</td>\n      <td>...</td>\n    </tr>\n    <tr>\n      <th>2018-01-04</th>\n      <td>1.104300</td>\n      <td>NaN</td>\n    </tr>\n    <tr>\n      <th>2018-01-03</th>\n      <td>1.080000</td>\n      <td>NaN</td>\n    </tr>\n    <tr>\n      <th>2018-01-02</th>\n      <td>0.762000</td>\n      <td>NaN</td>\n    </tr>\n    <tr>\n      <th>2018-01-01</th>\n      <td>0.702200</td>\n      <td>NaN</td>\n    </tr>\n    <tr>\n      <th>2017-12-31</th>\n      <td>0.710000</td>\n      <td>NaN</td>\n    </tr>\n  </tbody>\n</table>\n<p>1305 rows × 2 columns</p>\n</div>"
     },
     "metadata": {}
    }
   ]
  },
  {
   "cell_type": "code",
   "metadata": {
    "colab": {
     "base_uri": "https://localhost:8080/"
    },
    "id": "gDat1ffW8L0Z",
    "outputId": "2bbe761b-9f6f-4363-fac1-e32825c890a1",
    "cell_id": "00010-57b2cc80-53b2-4e86-b8f5-e598435c9a41",
    "deepnote_to_be_reexecuted": false,
    "source_hash": "bf9f2241",
    "execution_start": 1648879269819,
    "execution_millis": 20,
    "deepnote_cell_type": "code",
    "deepnote_cell_height": 298.3125
   },
   "source": "# Create independent variable\nX = np.array(df[['Price(in dollars)']])\n# remove the NAN values off the X variable\nX = X[:df.shape[0] - future_days]\nprint(X)",
   "execution_count": null,
   "outputs": [
    {
     "name": "stdout",
     "text": "[[1.239114]\n [1.255189]\n [1.228135]\n ...\n [0.60124 ]\n [0.771   ]\n [0.799989]]\n",
     "output_type": "stream"
    }
   ]
  },
  {
   "cell_type": "code",
   "metadata": {
    "colab": {
     "base_uri": "https://localhost:8080/"
    },
    "id": "WETPdzrK-KHG",
    "outputId": "bf7a81ed-7613-4bb5-eb1b-4046c4efa7c8",
    "cell_id": "00011-85a9a918-57dc-485c-b2b1-e57b00004ebe",
    "deepnote_to_be_reexecuted": false,
    "source_hash": "c01e66a9",
    "execution_start": 1648879269847,
    "execution_millis": 16,
    "deepnote_cell_type": "code",
    "deepnote_cell_height": 147.1875
   },
   "source": "y = np.array(df[str(future_days) + '_Day_Price_Forecast'])\ny = y[:-future_days]\nprint(y)",
   "execution_count": null,
   "outputs": [
    {
     "name": "stdout",
     "text": "[1.264909 1.314717 1.347893 ... 0.762    0.7022   0.71    ]\n",
     "output_type": "stream"
    }
   ]
  },
  {
   "cell_type": "code",
   "metadata": {
    "id": "WO_h8jb--2qC",
    "cell_id": "00012-8ce8d1b1-2dae-48f9-86df-dfab8967bac1",
    "deepnote_to_be_reexecuted": false,
    "source_hash": "d475321a",
    "execution_start": 1648879269919,
    "execution_millis": 31472986,
    "deepnote_cell_type": "code",
    "deepnote_cell_height": 135
   },
   "source": "# Split the data\nfrom sklearn.model_selection import train_test_split\nx_train, x_test, y_train, y_test = train_test_split(X,y, test_size= 0.2)\n# for this dataset we will be using 80% for training and 20% for testing",
   "execution_count": null,
   "outputs": []
  },
  {
   "cell_type": "code",
   "metadata": {
    "colab": {
     "base_uri": "https://localhost:8080/"
    },
    "id": "BQ9avT2IAFHT",
    "outputId": "440e752c-6754-4b1f-9060-443e3958b08a",
    "cell_id": "00013-cd18280c-c223-4331-81ff-7bd108050d76",
    "deepnote_to_be_reexecuted": false,
    "source_hash": "a2dbec02",
    "execution_start": 1648879269919,
    "execution_millis": 36,
    "deepnote_cell_type": "code",
    "deepnote_cell_height": 154.1875,
    "deepnote_output_heights": [
     21.1875
    ]
   },
   "source": "# using Support Vector Regressor for predicting this dataset\nsvr= SVR(kernel='rbf', C=1e3, gamma =0.00001)\nsvr.fit(x_train, y_train)",
   "execution_count": null,
   "outputs": [
    {
     "output_type": "execute_result",
     "execution_count": 14,
     "data": {
      "text/plain": "SVR(C=1000.0, gamma=1e-05)"
     },
     "metadata": {}
    }
   ]
  },
  {
   "cell_type": "code",
   "metadata": {
    "colab": {
     "base_uri": "https://localhost:8080/"
    },
    "id": "-21tE3dPCDKw",
    "outputId": "c29cd542-ba73-401b-f5af-c0163a754eba",
    "cell_id": "00014-870104bf-2dd6-4914-9b78-ab34b8a5a72a",
    "deepnote_to_be_reexecuted": false,
    "source_hash": "3546b49b",
    "execution_start": 1648879269954,
    "execution_millis": 2,
    "deepnote_cell_type": "code",
    "deepnote_cell_height": 129.1875
   },
   "source": "svr_confidence = svr.score(x_test, y_test)\nprint('svr accuracy:', svr_confidence)",
   "execution_count": null,
   "outputs": [
    {
     "name": "stdout",
     "text": "svr accuracy: 0.9206528050734852\n",
     "output_type": "stream"
    }
   ]
  },
  {
   "cell_type": "code",
   "metadata": {
    "id": "0SwG0anPCZJR",
    "cell_id": "00015-dead68be-5086-4b19-893d-dbcebd6952b9",
    "deepnote_to_be_reexecuted": false,
    "source_hash": "7d338af1",
    "execution_start": 1648879269954,
    "execution_millis": 41,
    "deepnote_cell_type": "code",
    "deepnote_cell_height": 81
   },
   "source": "# Accuracy score is 88%",
   "execution_count": null,
   "outputs": []
  },
  {
   "cell_type": "code",
   "metadata": {
    "colab": {
     "base_uri": "https://localhost:8080/"
    },
    "id": "bBUHRo2rCeET",
    "outputId": "e3b5867a-3d78-44f4-aa1f-2671c0b9c794",
    "cell_id": "00016-77855c7f-d1da-43c3-9572-683f9312a2ca",
    "deepnote_to_be_reexecuted": false,
    "source_hash": "9434c620",
    "execution_start": 1648879269996,
    "execution_millis": 1,
    "deepnote_cell_type": "code",
    "deepnote_cell_height": 737
   },
   "source": "# lets look at the predicted value\nsvr_prediction = svr.predict(x_test)\nprint(svr_prediction)",
   "execution_count": null,
   "outputs": [
    {
     "name": "stdout",
     "text": "[0.12717089 0.34414589 0.15145183 0.11714734 0.30574113 0.255786\n 0.16196909 0.30916046 0.17519837 0.60365448 1.37090354 1.05833783\n 0.11338893 0.11135846 0.15047275 0.15337426 0.37838996 1.2574963\n 1.19223959 0.15265532 0.16050212 0.14928754 0.19341617 0.15367181\n 0.12463508 0.21623686 0.11503459 0.11941552 0.25020902 0.2132464\n 0.11634446 0.13437106 0.1259541  0.39695613 0.15714598 0.13476253\n 0.17119227 0.14250875 0.14289856 0.20441551 0.12573136 1.25873968\n 0.15054921 0.15272015 0.35443714 0.22674583 0.1579098  0.1826454\n 0.12162054 0.1306542  0.39118464 0.12171778 0.16491964 0.11976377\n 1.47743656 0.33019094 0.12476557 0.11553909 0.11048825 1.31328203\n 0.21990303 0.1195377  0.11704262 0.12635637 0.33615275 0.16638744\n 0.16695511 0.31540818 0.12676696 0.19986334 1.12426152 0.18621931\n 0.11696366 0.161812   0.37037355 0.12328614 0.14796187 0.14048326\n 0.43872047 1.25160521 0.12237355 0.12093069 0.11949365 0.14447191\n 0.19490059 0.13476253 0.11320026 0.20336162 0.10844697 0.13392972\n 1.19486765 0.20551262 1.25185788 0.28518026 0.26686515 0.12807517\n 0.15178013 0.29798238 0.16301383 0.10950585 0.16539256 0.15418296\n 0.11236912 0.12624334 0.99614666 0.10819265 0.12444974 0.19869476\n 0.14474037 0.13399871 0.21637981 1.45444932 1.21700666 0.16069911\n 0.24311936 0.11519915 1.61792482 0.11688886 0.13212365 0.28787981\n 0.33342742 0.12362608 0.11843893 0.12008376 0.15661155 0.14606105\n 0.3029144  0.12225719 0.12552939 0.12624832 0.12046525 1.06721693\n 0.12766293 0.12306506 0.19069501 0.25723385 0.20800439 0.21911926\n 0.11265503 0.11911714 0.13321162 0.11319278 0.12843007 0.1534474\n 0.23732546 0.11954186 0.15495093 0.12074867 0.11665032 0.15261127\n 0.19833238 0.20748243 0.13606658 0.22138163 0.29752525 0.11632119\n 0.26171954 0.29048379 0.14008432 0.14751721 1.2707953  0.11947453\n 0.1185769  0.79980568 0.11913543 0.17378044 0.11727866 0.17294764\n 0.12255806 0.11236912 1.22424171 0.15964189 0.12257469 1.1251658\n 0.16548315 0.168324   0.22256435 0.25056059 0.22125031 0.21288984\n 0.11415524 0.11641095 0.19859502 1.17115859 0.13289828 0.2106815\n 0.16083624 0.16829989 0.2001958  1.04635025 0.99069186 0.11705342\n 0.15346402 0.17219545 0.10955987 0.11683982 0.16362888 0.12216327\n 0.12805605 1.00199376 1.16196203 1.38031192 0.12811257 0.15925458\n 0.18778685 0.12221397 0.17394418 0.11116314 0.22141072 0.15677612\n 0.14048576 0.14417187 0.19284102 0.11939225 0.38813682 0.19255511\n 0.14649241 0.12741109 0.14448271 0.12050099 1.00949567 0.13118364\n 0.2002224  0.12417629 0.16358566 0.12222976 0.14595051 0.11692377\n 0.15210926 1.1056132  0.11925511 0.14906562 0.11213723 0.35927774\n 0.24760255 0.13479577 0.11002697 0.20675019 0.19584394 0.15219819\n 0.15163967 0.25521417 0.16908698 0.16010567 0.11567955 0.1622309\n 0.1461425  0.1202691  0.1314496  1.09424485 0.10496616 0.11725622\n 1.21274958 0.17175744 1.20644872 0.13860156 0.20242825 0.14183054\n 0.85356184]\n",
     "output_type": "stream"
    }
   ]
  },
  {
   "cell_type": "code",
   "metadata": {
    "colab": {
     "base_uri": "https://localhost:8080/"
    },
    "id": "cRi5EIXMDNsa",
    "outputId": "f4f44a1d-7d0f-4c70-841a-abfaec11ab06",
    "cell_id": "00017-5e2da980-019c-49c8-a4e3-222d1dfccb37",
    "deepnote_to_be_reexecuted": false,
    "source_hash": "43b1ad67",
    "execution_start": 1648879270039,
    "execution_millis": 3,
    "deepnote_cell_type": "code",
    "deepnote_cell_height": 719
   },
   "source": "# lets look at the actual values\nprint(y_test)",
   "execution_count": null,
   "outputs": [
    {
     "name": "stdout",
     "text": "[0.036531 0.312734 0.074718 0.048884 0.359238 0.161998 0.091073 0.168491\n 0.097463 1.08     1.643057 1.420936 0.03227  0.027042 0.085311 0.090541\n 0.302328 1.190254 1.357038 0.083415 0.112389 0.09404  0.169359 0.065507\n 0.036834 0.208753 0.042393 0.030213 0.32079  0.301967 0.042408 0.076377\n 0.034535 0.332784 0.082472 0.055057 0.092262 0.088732 0.082496 0.138658\n 0.060156 1.212645 0.076878 0.075265 0.378675 0.224001 0.068553 0.08278\n 0.049663 0.051507 0.285852 0.050602 0.087405 0.038729 1.315168 0.219408\n 0.046495 0.032895 0.023222 1.20451  0.142328 0.062338 0.0307   0.040222\n 0.391873 0.107334 0.107069 0.366241 0.046816 0.204972 1.624769 0.118401\n 0.046419 0.121396 0.287594 0.046818 0.093128 0.07594  0.36777  1.250572\n 0.044035 0.040535 0.032827 0.085079 0.083036 0.04314  0.037968 0.188561\n 0.048903 0.060279 1.558645 0.148171 1.175748 0.370227 0.221645 0.041655\n 0.08905  0.28587  0.110278 0.024199 0.096932 0.077525 0.030454 0.068703\n 1.124155 0.041356 0.045936 0.143259 0.051204 0.082043 0.210978 1.14634\n 1.195854 0.090456 0.296646 0.076914 1.803268 0.043407 0.04894  0.361499\n 0.381    0.044354 0.038634 0.042881 0.089543 0.071731 0.153051 0.041697\n 0.036625 0.043011 0.048258 1.186839 0.05145  0.050097 0.118401 0.150646\n 0.12691  0.145106 0.028065 0.03723  0.060089 0.033875 0.044237 0.07747\n 0.2192   0.038544 0.068906 0.042186 0.037003 0.072142 0.137949 0.158248\n 0.061869 0.136534 0.357734 0.034138 0.247407 0.339907 0.070597 0.085484\n 1.675504 0.033212 0.038582 0.408341 0.037232 0.098332 0.043289 0.098782\n 0.047312 0.029661 1.163307 0.091255 0.044522 1.477178 0.107191 0.096628\n 0.218142 0.27899  0.105885 0.166488 0.030229 0.042043 0.148793 1.478656\n 0.042399 0.161982 0.089965 0.101109 0.12196  1.201904 1.263122 0.035006\n 0.083561 0.083579 0.043991 0.052768 0.133999 0.045901 0.059899 1.118466\n 1.158227 1.575797 0.042887 0.112771 0.129927 0.03692  0.139374 0.037737\n 0.15993  0.051444 0.077845 0.076698 0.08255  0.059047 0.51     0.161544\n 0.051289 0.042417 0.077637 0.041737 0.913752 0.041998 0.133717 0.051936\n 0.123807 0.034097 0.073741 0.041225 0.054326 1.347893 0.046241 0.084707\n 0.031655 0.364899 0.265764 0.043197 0.042218 0.186878 0.101291 0.088332\n 0.061653 0.19894  0.091396 0.053545 0.040882 0.124519 0.084339 0.028975\n 0.044889 1.03205  0.049183 0.03965  1.531499 0.095417 1.254732 0.072154\n 0.106334 0.081253 0.347593]\n",
     "output_type": "stream"
    }
   ]
  },
  {
   "cell_type": "code",
   "metadata": {
    "id": "AbMwOBRtEr-5",
    "colab": {
     "base_uri": "https://localhost:8080/",
     "height": 306
    },
    "outputId": "e277cf2e-8320-47c2-f6dd-41c09e568784",
    "cell_id": "00018-387b7ed9-bbf6-43da-9191-52c6ac597c3e",
    "deepnote_to_be_reexecuted": false,
    "source_hash": "5f75d996",
    "execution_start": 1648879270041,
    "execution_millis": 980,
    "deepnote_cell_type": "code",
    "deepnote_cell_height": 583,
    "deepnote_output_heights": [
     324
    ]
   },
   "source": "# Visualize the predicted and actual value\nplt.figure(figsize=(12,4))\nplt.plot(svr_prediction, label='Prediction', lw=2, alpha= .7)\nplt.plot(y_test, label='Actual value', lw=2, alpha= .7)\nplt.title('Prediction vs Actual Value')\nplt.ylabel('Price in USD')\nplt.xlabel('Time')\nplt.legend()\nplt.xticks(rotation=45)\nplt.show()",
   "execution_count": null,
   "outputs": [
    {
     "data": {
      "text/plain": "<Figure size 864x288 with 1 Axes>",
      "image/png": "[encoded data removed]"
     },
     "metadata": {
      "image/png": {
       "width": 822,
       "height": 322
      }
     },
     "output_type": "display_data"
    }
   ]
  },
  {
   "cell_type": "code",
   "metadata": {
    "id": "0rAREVKGJRuu",
    "cell_id": "00019-9de9f69c-13ef-4796-acca-d8f72aa3e46f",
    "deepnote_to_be_reexecuted": false,
    "source_hash": "974cf887",
    "execution_start": 1648879270608,
    "execution_millis": 31034383,
    "deepnote_cell_type": "code",
    "deepnote_cell_height": 135
   },
   "source": "import pickle\nfile = open('Cardano_Price_prediction.pkl', 'wb')\npickle.dump(svr, file)\nfile.close()",
   "execution_count": null,
   "outputs": []
  },
  {
   "cell_type": "code",
   "metadata": {
    "id": "jjWO1o1kJxhN",
    "cell_id": "00020-433d6c16-f844-4561-a468-9eb5a663d8b1",
    "deepnote_to_be_reexecuted": false,
    "source_hash": "92796e81",
    "execution_start": 1648879270635,
    "execution_millis": 31028676,
    "deepnote_cell_type": "code",
    "deepnote_cell_height": 99,
    "deepnote_output_heights": [
     136.3125
    ]
   },
   "source": "# model= open('Cardano_Price_prediction.pkl', 'rb')\nloaded_model = pickle.load(open('Cardano_Price_prediction.pkl', 'rb'))",
   "execution_count": null,
   "outputs": []
  },
  {
   "cell_type": "code",
   "metadata": {
    "id": "KHqFVyzILvPJ",
    "cell_id": "00021-972c894b-95e6-4119-953c-fefc9934acb9",
    "deepnote_to_be_reexecuted": false,
    "source_hash": "bcc1c98b",
    "execution_start": 1648879270653,
    "execution_millis": 5,
    "deepnote_cell_type": "code",
    "deepnote_cell_height": 99
   },
   "source": "y_prediction = svr.predict(x_test)\n",
   "execution_count": null,
   "outputs": []
  },
  {
   "cell_type": "code",
   "metadata": {
    "colab": {
     "base_uri": "https://localhost:8080/"
    },
    "id": "gjez6I25N0ou",
    "outputId": "9d3cab44-464d-435f-9138-a26b83c4a03a",
    "cell_id": "00022-524daa6e-92d9-4d35-a549-c44ad35ef47c",
    "deepnote_to_be_reexecuted": false,
    "source_hash": "6f49bc5a",
    "execution_start": 1648879270668,
    "execution_millis": 31015536,
    "deepnote_cell_type": "code",
    "deepnote_cell_height": 136.1875,
    "deepnote_output_heights": [
     21.1875
    ]
   },
   "source": "from sklearn.metrics import r2_score\nr2_score(y_test, y_prediction)",
   "execution_count": null,
   "outputs": [
    {
     "output_type": "execute_result",
     "execution_count": 23,
     "data": {
      "text/plain": "0.9206528050734852"
     },
     "metadata": {}
    }
   ]
  },
  {
   "cell_type": "markdown",
   "source": "<a style='text-decoration:none;line-height:16px;display:flex;color:#5B5B62;padding:10px;justify-content:end;' href='https://deepnote.com?utm_source=created-in-deepnote-cell&projectId=2133f0b7-2345-40af-98fb-f08e93556bc5' target=\"_blank\">\n<img alt='Created in deepnote.com' style='display:inline;max-height:16px;margin:0px;margin-right:7.5px;' src='data:image/svg+xml;base64,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' > </img>\nCreated in <span style='font-weight:600;margin-left:4px;'>Deepnote</span></a>",
   "metadata": {
    "tags": [],
    "created_in_deepnote_cell": true,
    "deepnote_cell_type": "markdown"
   }
  }
 ],
 "nbformat": 4,
 "nbformat_minor": 0,
 "metadata": {
  "colab": {
   "name": "Cardano Price Prediction.ipynb",
   "provenance": [],
   "collapsed_sections": []
  },
  "kernelspec": {
   "name": "python3",
   "display_name": "Python 3"
  },
  "language_info": {
   "name": "python"
  },
  "deepnote_notebook_id": "ab5d63ff-2793-4179-8e23-03c01e1fac62",
  "deepnote": {
   "is_reactive": false
  },
  "deepnote_execution_queue": []
 }
}