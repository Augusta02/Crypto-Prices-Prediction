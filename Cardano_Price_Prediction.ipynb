{
 "cells": [
  {
   "cell_type": "code",
   "metadata": {
    "id": "DZnKgrG8xeM2",
    "cell_id": "beadbb3d-a701-4d54-bdff-853df8a98e02",
    "deepnote_to_be_reexecuted": false,
    "source_hash": "1df69900",
    "execution_start": 1649104513720,
    "execution_millis": 1,
    "deepnote_cell_type": "code",
    "deepnote_cell_height": 81
   },
   "source": "# Description: This ML project attempts to predict the future price of Cardano price (ADA)",
   "outputs": [],
   "execution_count": null
  },
  {
   "cell_type": "code",
   "metadata": {
    "id": "sdITvKunx-xi",
    "cell_id": "00001-91649cac-4a5e-44bb-97cb-38b6658ed4d2",
    "deepnote_to_be_reexecuted": false,
    "source_hash": "5268db84",
    "execution_start": 1649104513721,
    "execution_millis": 1727,
    "deepnote_cell_type": "code",
    "deepnote_cell_height": 153
   },
   "source": "import numpy as np \nimport pandas as pd\nimport matplotlib.pyplot as plt\nfrom sklearn.svm import SVR\nplt.style.use('fivethirtyeight')",
   "outputs": [],
   "execution_count": null
  },
  {
   "cell_type": "code",
   "metadata": {
    "colab": {
     "resources": {
      "http://localhost:8080/nbextensions/google.colab/files.js": {
       "data": "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",
       "ok": true,
       "headers": [
        [
         "content-type",
         "application/javascript"
        ]
       ],
       "status": 200,
       "status_text": ""
      }
     },
     "base_uri": "https://localhost:8080/",
     "height": 73
    },
    "id": "2OojnU12ydeC",
    "outputId": "7f5800e0-cc6d-4280-fa1f-b4cf19dfc612",
    "cell_id": "00002-f51b5d31-5f67-445e-9541-d20557fcb54d",
    "deepnote_to_be_reexecuted": false,
    "source_hash": "8fb1f1e7",
    "execution_start": 1649104515451,
    "execution_millis": 1,
    "deepnote_cell_type": "code",
    "deepnote_cell_height": 117
   },
   "source": "# # Load the Cardano data\n# from google.colab import files\n# uploaded= files.upload()",
   "outputs": [],
   "execution_count": null
  },
  {
   "cell_type": "code",
   "metadata": {
    "colab": {
     "base_uri": "https://localhost:8080/",
     "height": 206
    },
    "id": "Mb8CopAYzOe3",
    "outputId": "1f7bda59-6ea3-4434-f793-e62053a8e8cf",
    "cell_id": "00003-70c027ec-68c4-4479-8b15-aefa4f2f36a5",
    "deepnote_to_be_reexecuted": false,
    "source_hash": "eaa915aa",
    "execution_start": 1649104515454,
    "execution_millis": 779,
    "deepnote_cell_type": "code",
    "deepnote_cell_height": 447
   },
   "source": "# Read the data\n# import io\ndf = pd.read_csv('Cardano historic data.csv')\ndf.head()",
   "outputs": [
    {
     "output_type": "execute_result",
     "execution_count": 4,
     "data": {
      "application/vnd.deepnote.dataframe.v3+json": {
       "column_count": 7,
       "row_count": 5,
       "columns": [
        {
         "name": "Date",
         "dtype": "object",
         "stats": {
          "unique_count": 5,
          "nan_count": 0,
          "categories": [
           {
            "name": "Jul 27, 2021",
            "count": 1
           },
           {
            "name": "Jul 26, 2021",
            "count": 1
           },
           {
            "name": "3 others",
            "count": 3
           }
          ]
         }
        },
        {
         "name": "Price(in dollars)",
         "dtype": "float64",
         "stats": {
          "unique_count": 5,
          "nan_count": 0,
          "min": "1.205386",
          "max": "1.255189",
          "histogram": [
           {
            "bin_start": 1.205386,
            "bin_end": 1.2103663,
            "count": 1
           },
           {
            "bin_start": 1.2103663,
            "bin_end": 1.2153466000000002,
            "count": 1
           },
           {
            "bin_start": 1.2153466000000002,
            "bin_end": 1.2203269,
            "count": 0
           },
           {
            "bin_start": 1.2203269,
            "bin_end": 1.2253072,
            "count": 0
           },
           {
            "bin_start": 1.2253072,
            "bin_end": 1.2302875000000002,
            "count": 1
           },
           {
            "bin_start": 1.2302875000000002,
            "bin_end": 1.2352678000000001,
            "count": 0
           },
           {
            "bin_start": 1.2352678000000001,
            "bin_end": 1.2402481,
            "count": 1
           },
           {
            "bin_start": 1.2402481,
            "bin_end": 1.2452284,
            "count": 0
           },
           {
            "bin_start": 1.2452284,
            "bin_end": 1.2502087000000002,
            "count": 0
           },
           {
            "bin_start": 1.2502087000000002,
            "bin_end": 1.255189,
            "count": 1
           }
          ]
         }
        },
        {
         "name": "Open",
         "dtype": "float64",
         "stats": {
          "unique_count": 5,
          "nan_count": 0,
          "min": "1.185634",
          "max": "1.255189",
          "histogram": [
           {
            "bin_start": 1.185634,
            "bin_end": 1.1925895,
            "count": 1
           },
           {
            "bin_start": 1.1925895,
            "bin_end": 1.199545,
            "count": 0
           },
           {
            "bin_start": 1.199545,
            "bin_end": 1.2065005000000002,
            "count": 1
           },
           {
            "bin_start": 1.2065005000000002,
            "bin_end": 1.213456,
            "count": 0
           },
           {
            "bin_start": 1.213456,
            "bin_end": 1.2204115,
            "count": 1
           },
           {
            "bin_start": 1.2204115,
            "bin_end": 1.227367,
            "count": 0
           },
           {
            "bin_start": 1.227367,
            "bin_end": 1.2343225000000002,
            "count": 1
           },
           {
            "bin_start": 1.2343225000000002,
            "bin_end": 1.241278,
            "count": 0
           },
           {
            "bin_start": 1.241278,
            "bin_end": 1.2482335,
            "count": 0
           },
           {
            "bin_start": 1.2482335,
            "bin_end": 1.255189,
            "count": 1
           }
          ]
         }
        },
        {
         "name": "High",
         "dtype": "float64",
         "stats": {
          "unique_count": 5,
          "nan_count": 0,
          "min": "1.206692",
          "max": "1.397445",
          "histogram": [
           {
            "bin_start": 1.206692,
            "bin_end": 1.2257673,
            "count": 2
           },
           {
            "bin_start": 1.2257673,
            "bin_end": 1.2448426000000001,
            "count": 1
           },
           {
            "bin_start": 1.2448426000000001,
            "bin_end": 1.2639179,
            "count": 0
           },
           {
            "bin_start": 1.2639179,
            "bin_end": 1.2829932000000002,
            "count": 1
           },
           {
            "bin_start": 1.2829932000000002,
            "bin_end": 1.3020685,
            "count": 0
           },
           {
            "bin_start": 1.3020685,
            "bin_end": 1.3211438,
            "count": 0
           },
           {
            "bin_start": 1.3211438,
            "bin_end": 1.3402191,
            "count": 0
           },
           {
            "bin_start": 1.3402191,
            "bin_end": 1.3592944,
            "count": 0
           },
           {
            "bin_start": 1.3592944,
            "bin_end": 1.3783697000000001,
            "count": 0
           },
           {
            "bin_start": 1.3783697000000001,
            "bin_end": 1.397445,
            "count": 1
           }
          ]
         }
        },
        {
         "name": "Low",
         "dtype": "float64",
         "stats": {
          "unique_count": 5,
          "nan_count": 0,
          "min": "1.147027",
          "max": "1.222583",
          "histogram": [
           {
            "bin_start": 1.147027,
            "bin_end": 1.1545826,
            "count": 1
           },
           {
            "bin_start": 1.1545826,
            "bin_end": 1.1621382,
            "count": 0
           },
           {
            "bin_start": 1.1621382,
            "bin_end": 1.1696938000000001,
            "count": 0
           },
           {
            "bin_start": 1.1696938000000001,
            "bin_end": 1.1772494,
            "count": 0
           },
           {
            "bin_start": 1.1772494,
            "bin_end": 1.1848049999999999,
            "count": 0
           },
           {
            "bin_start": 1.1848049999999999,
            "bin_end": 1.1923606,
            "count": 1
           },
           {
            "bin_start": 1.1923606,
            "bin_end": 1.1999162,
            "count": 1
           },
           {
            "bin_start": 1.1999162,
            "bin_end": 1.2074718,
            "count": 0
           },
           {
            "bin_start": 1.2074718,
            "bin_end": 1.2150273999999999,
            "count": 1
           },
           {
            "bin_start": 1.2150273999999999,
            "bin_end": 1.222583,
            "count": 1
           }
          ]
         }
        },
        {
         "name": "Vol.",
         "dtype": "object",
         "stats": {
          "unique_count": 5,
          "nan_count": 0,
          "categories": [
           {
            "name": "519.03M",
            "count": 1
           },
           {
            "name": "596.83M",
            "count": 1
           },
           {
            "name": "3 others",
            "count": 3
           }
          ]
         }
        },
        {
         "name": "Change%",
         "dtype": "float64",
         "stats": {
          "unique_count": 5,
          "nan_count": 0,
          "min": "-1.28",
          "max": "2.2",
          "histogram": [
           {
            "bin_start": -1.28,
            "bin_end": -0.9319999999999999,
            "count": 1
           },
           {
            "bin_start": -0.9319999999999999,
            "bin_end": -0.584,
            "count": 0
           },
           {
            "bin_start": -0.584,
            "bin_end": -0.236,
            "count": 0
           },
           {
            "bin_start": -0.236,
            "bin_end": 0.1120000000000001,
            "count": 0
           },
           {
            "bin_start": 0.1120000000000001,
            "bin_end": 0.4600000000000002,
            "count": 0
           },
           {
            "bin_start": 0.4600000000000002,
            "bin_end": 0.808,
            "count": 1
           },
           {
            "bin_start": 0.808,
            "bin_end": 1.1560000000000004,
            "count": 1
           },
           {
            "bin_start": 1.1560000000000004,
            "bin_end": 1.5040000000000002,
            "count": 0
           },
           {
            "bin_start": 1.5040000000000002,
            "bin_end": 1.852,
            "count": 1
           },
           {
            "bin_start": 1.852,
            "bin_end": 2.2,
            "count": 1
           }
          ]
         }
        },
        {
         "name": "_deepnote_index_column",
         "dtype": "int64"
        }
       ],
       "rows": [
        {
         "Date": "Jul 27, 2021",
         "Price(in dollars)": 1.239114,
         "Open": 1.255189,
         "High": 1.269624,
         "Low": 1.215022,
         "Vol.": "519.03M",
         "Change%": -1.28,
         "_deepnote_index_column": 0
        },
        {
         "Date": "Jul 26, 2021",
         "Price(in dollars)": 1.255189,
         "Open": 1.228191,
         "High": 1.397445,
         "Low": 1.222583,
         "Vol.": "596.83M",
         "Change%": 2.2,
         "_deepnote_index_column": 1
        },
        {
         "Date": "Jul 25, 2021",
         "Price(in dollars)": 1.228135,
         "Open": 1.216,
         "High": 1.2361,
         "Low": 1.191199,
         "Vol.": "181.71M",
         "Change%": 1.08,
         "_deepnote_index_column": 2
        },
        {
         "Date": "Jul 24, 2021",
         "Price(in dollars)": 1.215002,
         "Open": 1.205285,
         "High": 1.223699,
         "Low": 1.197844,
         "Vol.": "221.74M",
         "Change%": 0.8,
         "_deepnote_index_column": 3
        },
        {
         "Date": "Jul 23, 2021",
         "Price(in dollars)": 1.205386,
         "Open": 1.185634,
         "High": 1.206692,
         "Low": 1.147027,
         "Vol.": "91.89M",
         "Change%": 1.65,
         "_deepnote_index_column": 4
        }
       ]
      },
      "text/plain": "           Date  Price(in dollars)      Open      High       Low     Vol.  \\\n0  Jul 27, 2021           1.239114  1.255189  1.269624  1.215022  519.03M   \n1  Jul 26, 2021           1.255189  1.228191  1.397445  1.222583  596.83M   \n2  Jul 25, 2021           1.228135  1.216000  1.236100  1.191199  181.71M   \n3  Jul 24, 2021           1.215002  1.205285  1.223699  1.197844  221.74M   \n4  Jul 23, 2021           1.205386  1.185634  1.206692  1.147027   91.89M   \n\n   Change%  \n0    -1.28  \n1     2.20  \n2     1.08  \n3     0.80  \n4     1.65  ",
      "text/html": "<div>\n<style scoped>\n    .dataframe tbody tr th:only-of-type {\n        vertical-align: middle;\n    }\n\n    .dataframe tbody tr th {\n        vertical-align: top;\n    }\n\n    .dataframe thead th {\n        text-align: right;\n    }\n</style>\n<table border=\"1\" class=\"dataframe\">\n  <thead>\n    <tr style=\"text-align: right;\">\n      <th></th>\n      <th>Date</th>\n      <th>Price(in dollars)</th>\n      <th>Open</th>\n      <th>High</th>\n      <th>Low</th>\n      <th>Vol.</th>\n      <th>Change%</th>\n    </tr>\n  </thead>\n  <tbody>\n    <tr>\n      <th>0</th>\n      <td>Jul 27, 2021</td>\n      <td>1.239114</td>\n      <td>1.255189</td>\n      <td>1.269624</td>\n      <td>1.215022</td>\n      <td>519.03M</td>\n      <td>-1.28</td>\n    </tr>\n    <tr>\n      <th>1</th>\n      <td>Jul 26, 2021</td>\n      <td>1.255189</td>\n      <td>1.228191</td>\n      <td>1.397445</td>\n      <td>1.222583</td>\n      <td>596.83M</td>\n      <td>2.20</td>\n    </tr>\n    <tr>\n      <th>2</th>\n      <td>Jul 25, 2021</td>\n      <td>1.228135</td>\n      <td>1.216000</td>\n      <td>1.236100</td>\n      <td>1.191199</td>\n      <td>181.71M</td>\n      <td>1.08</td>\n    </tr>\n    <tr>\n      <th>3</th>\n      <td>Jul 24, 2021</td>\n      <td>1.215002</td>\n      <td>1.205285</td>\n      <td>1.223699</td>\n      <td>1.197844</td>\n      <td>221.74M</td>\n      <td>0.80</td>\n    </tr>\n    <tr>\n      <th>4</th>\n      <td>Jul 23, 2021</td>\n      <td>1.205386</td>\n      <td>1.185634</td>\n      <td>1.206692</td>\n      <td>1.147027</td>\n      <td>91.89M</td>\n      <td>1.65</td>\n    </tr>\n  </tbody>\n</table>\n</div>"
     },
     "metadata": {}
    }
   ],
   "execution_count": null
  },
  {
   "cell_type": "code",
   "metadata": {
    "colab": {
     "base_uri": "https://localhost:8080/",
     "height": 424
    },
    "id": "JhChCXK30by9",
    "outputId": "59acd903-de9a-4991-f22e-7f652ff6f771",
    "cell_id": "00004-dacf4464-f577-4a00-ad76-ef9074770794",
    "deepnote_to_be_reexecuted": false,
    "source_hash": "a789ea1",
    "execution_start": 1649104515528,
    "execution_millis": 706,
    "deepnote_cell_type": "code",
    "deepnote_cell_height": 634
   },
   "source": "# Change date to datetime type\ndf['Date'] = pd.to_datetime(df['Date'])\ndf",
   "outputs": [
    {
     "output_type": "execute_result",
     "execution_count": 5,
     "data": {
      "application/vnd.deepnote.dataframe.v3+json": {
       "column_count": 7,
       "row_count": 1305,
       "columns": [
        {
         "name": "Date",
         "dtype": "datetime64[ns]",
         "stats": {
          "unique_count": 1305,
          "nan_count": 0,
          "min": "2017-12-31 00:00:00",
          "max": "2021-07-27 00:00:00",
          "histogram": [
           {
            "bin_start": 1514678400000000000,
            "bin_end": 1525944960000000000,
            "count": 131
           },
           {
            "bin_start": 1525944960000000000,
            "bin_end": 1537211520000000000,
            "count": 130
           },
           {
            "bin_start": 1537211520000000000,
            "bin_end": 1548478080000000000,
            "count": 131
           },
           {
            "bin_start": 1548478080000000000,
            "bin_end": 1559744640000000000,
            "count": 130
           },
           {
            "bin_start": 1559744640000000000,
            "bin_end": 1571011200000000000,
            "count": 130
           },
           {
            "bin_start": 1571011200000000000,
            "bin_end": 1582277760000000000,
            "count": 131
           },
           {
            "bin_start": 1582277760000000000,
            "bin_end": 1593544320000000000,
            "count": 130
           },
           {
            "bin_start": 1593544320000000000,
            "bin_end": 1604810880000000000,
            "count": 131
           },
           {
            "bin_start": 1604810880000000000,
            "bin_end": 1616077440000000000,
            "count": 130
           },
           {
            "bin_start": 1616077440000000000,
            "bin_end": 1627344000000000000,
            "count": 131
           }
          ]
         }
        },
        {
         "name": "Price(in dollars)",
         "dtype": "float64",
         "stats": {
          "unique_count": 1298,
          "nan_count": 0,
          "min": "0.023222",
          "max": "2.300278",
          "histogram": [
           {
            "bin_start": 0.023222,
            "bin_end": 0.25092760000000003,
            "count": 1004
           },
           {
            "bin_start": 0.25092760000000003,
            "bin_end": 0.47863320000000004,
            "count": 96
           },
           {
            "bin_start": 0.47863320000000004,
            "bin_end": 0.7063388,
            "count": 23
           },
           {
            "bin_start": 0.7063388,
            "bin_end": 0.9340444,
            "count": 18
           },
           {
            "bin_start": 0.9340444,
            "bin_end": 1.16175,
            "count": 34
           },
           {
            "bin_start": 1.16175,
            "bin_end": 1.3894556000000002,
            "count": 75
           },
           {
            "bin_start": 1.3894556000000002,
            "bin_end": 1.6171612000000002,
            "count": 32
           },
           {
            "bin_start": 1.6171612000000002,
            "bin_end": 1.8448668000000001,
            "count": 17
           },
           {
            "bin_start": 1.8448668000000001,
            "bin_end": 2.0725724000000003,
            "count": 4
           },
           {
            "bin_start": 2.0725724000000003,
            "bin_end": 2.300278,
            "count": 2
           }
          ]
         }
        },
        {
         "name": "Open",
         "dtype": "float64",
         "stats": {
          "unique_count": 1297,
          "nan_count": 0,
          "min": "0.023225",
          "max": "2.300307",
          "histogram": [
           {
            "bin_start": 0.023225,
            "bin_end": 0.2509332,
            "count": 1004
           },
           {
            "bin_start": 0.2509332,
            "bin_end": 0.4786414,
            "count": 96
           },
           {
            "bin_start": 0.4786414,
            "bin_end": 0.7063496,
            "count": 24
           },
           {
            "bin_start": 0.7063496,
            "bin_end": 0.9340578,
            "count": 17
           },
           {
            "bin_start": 0.9340578,
            "bin_end": 1.161766,
            "count": 34
           },
           {
            "bin_start": 1.161766,
            "bin_end": 1.3894742,
            "count": 75
           },
           {
            "bin_start": 1.3894742,
            "bin_end": 1.6171824000000001,
            "count": 32
           },
           {
            "bin_start": 1.6171824000000001,
            "bin_end": 1.8448906,
            "count": 17
           },
           {
            "bin_start": 1.8448906,
            "bin_end": 2.0725988,
            "count": 4
           },
           {
            "bin_start": 2.0725988,
            "bin_end": 2.300307,
            "count": 2
           }
          ]
         }
        },
        {
         "name": "High",
         "dtype": "float64",
         "stats": {
          "unique_count": 1303,
          "nan_count": 0,
          "min": "0.026454",
          "max": "2.46007",
          "histogram": [
           {
            "bin_start": 0.026454,
            "bin_end": 0.2698156,
            "count": 1007
           },
           {
            "bin_start": 0.2698156,
            "bin_end": 0.5131772,
            "count": 91
           },
           {
            "bin_start": 0.5131772,
            "bin_end": 0.7565388,
            "count": 24
           },
           {
            "bin_start": 0.7565388,
            "bin_end": 0.9999003999999999,
            "count": 19
           },
           {
            "bin_start": 0.9999003999999999,
            "bin_end": 1.2432619999999999,
            "count": 50
           },
           {
            "bin_start": 1.2432619999999999,
            "bin_end": 1.4866236,
            "count": 65
           },
           {
            "bin_start": 1.4866236,
            "bin_end": 1.7299851999999998,
            "count": 26
           },
           {
            "bin_start": 1.7299851999999998,
            "bin_end": 1.9733467999999998,
            "count": 17
           },
           {
            "bin_start": 1.9733467999999998,
            "bin_end": 2.2167084,
            "count": 3
           },
           {
            "bin_start": 2.2167084,
            "bin_end": 2.46007,
            "count": 3
           }
          ]
         }
        },
        {
         "name": "Low",
         "dtype": "float64",
         "stats": {
          "unique_count": 1301,
          "nan_count": 0,
          "min": "0.017774",
          "max": "2.01674",
          "histogram": [
           {
            "bin_start": 0.017774,
            "bin_end": 0.21767060000000002,
            "count": 998
           },
           {
            "bin_start": 0.21767060000000002,
            "bin_end": 0.4175672,
            "count": 102
           },
           {
            "bin_start": 0.4175672,
            "bin_end": 0.6174638,
            "count": 19
           },
           {
            "bin_start": 0.6174638,
            "bin_end": 0.8173604,
            "count": 16
           },
           {
            "bin_start": 0.8173604,
            "bin_end": 1.017257,
            "count": 22
           },
           {
            "bin_start": 1.017257,
            "bin_end": 1.2171536,
            "count": 67
           },
           {
            "bin_start": 1.2171536,
            "bin_end": 1.4170502,
            "count": 48
           },
           {
            "bin_start": 1.4170502,
            "bin_end": 1.6169468,
            "count": 24
           },
           {
            "bin_start": 1.6169468,
            "bin_end": 1.8168434,
            "count": 5
           },
           {
            "bin_start": 1.8168434,
            "bin_end": 2.01674,
            "count": 4
           }
          ]
         }
        },
        {
         "name": "Vol.",
         "dtype": "object",
         "stats": {
          "unique_count": 1249,
          "nan_count": 0,
          "categories": [
           {
            "name": "1.11B",
            "count": 6
           },
           {
            "name": "1.18B",
            "count": 5
           },
           {
            "name": "1247 others",
            "count": 1294
           }
          ]
         }
        },
        {
         "name": "Change%",
         "dtype": "float64",
         "stats": {
          "unique_count": 962,
          "nan_count": 0,
          "min": "-41.49",
          "max": "41.73",
          "histogram": [
           {
            "bin_start": -41.49,
            "bin_end": -33.168000000000006,
            "count": 1
           },
           {
            "bin_start": -33.168000000000006,
            "bin_end": -24.846000000000004,
            "count": 1
           },
           {
            "bin_start": -24.846000000000004,
            "bin_end": -16.524000000000004,
            "count": 10
           },
           {
            "bin_start": -16.524000000000004,
            "bin_end": -8.202000000000005,
            "count": 77
           },
           {
            "bin_start": -8.202000000000005,
            "bin_end": 0.11999999999999744,
            "count": 577
           },
           {
            "bin_start": 0.11999999999999744,
            "bin_end": 8.441999999999993,
            "count": 531
           },
           {
            "bin_start": 8.441999999999993,
            "bin_end": 16.76399999999999,
            "count": 85
           },
           {
            "bin_start": 16.76399999999999,
            "bin_end": 25.08599999999999,
            "count": 17
           },
           {
            "bin_start": 25.08599999999999,
            "bin_end": 33.407999999999994,
            "count": 5
           },
           {
            "bin_start": 33.407999999999994,
            "bin_end": 41.73,
            "count": 1
           }
          ]
         }
        },
        {
         "name": "_deepnote_index_column",
         "dtype": "int64"
        }
       ],
       "rows": [
        {
         "Date": "2021-07-27T00:00:00.000000",
         "Price(in dollars)": 1.239114,
         "Open": 1.255189,
         "High": 1.269624,
         "Low": 1.215022,
         "Vol.": "519.03M",
         "Change%": -1.28,
         "_deepnote_index_column": 0
        },
        {
         "Date": "2021-07-26T00:00:00.000000",
         "Price(in dollars)": 1.255189,
         "Open": 1.228191,
         "High": 1.397445,
         "Low": 1.222583,
         "Vol.": "596.83M",
         "Change%": 2.2,
         "_deepnote_index_column": 1
        },
        {
         "Date": "2021-07-25T00:00:00.000000",
         "Price(in dollars)": 1.228135,
         "Open": 1.216,
         "High": 1.2361,
         "Low": 1.191199,
         "Vol.": "181.71M",
         "Change%": 1.08,
         "_deepnote_index_column": 2
        },
        {
         "Date": "2021-07-24T00:00:00.000000",
         "Price(in dollars)": 1.215002,
         "Open": 1.205285,
         "High": 1.223699,
         "Low": 1.197844,
         "Vol.": "221.74M",
         "Change%": 0.8,
         "_deepnote_index_column": 3
        },
        {
         "Date": "2021-07-23T00:00:00.000000",
         "Price(in dollars)": 1.205386,
         "Open": 1.185634,
         "High": 1.206692,
         "Low": 1.147027,
         "Vol.": "91.89M",
         "Change%": 1.65,
         "_deepnote_index_column": 4
        },
        {
         "Date": "2021-07-22T00:00:00.000000",
         "Price(in dollars)": 1.185875,
         "Open": 1.169694,
         "High": 1.205136,
         "Low": 1.150267,
         "Vol.": "298.36M",
         "Change%": 1.38,
         "_deepnote_index_column": 5
        },
        {
         "Date": "2021-07-21T00:00:00.000000",
         "Price(in dollars)": 1.169694,
         "Open": 1.054526,
         "High": 1.221121,
         "Low": 1.037226,
         "Vol.": "464.72M",
         "Change%": 10.92,
         "_deepnote_index_column": 6
        },
        {
         "Date": "2021-07-20T00:00:00.000000",
         "Price(in dollars)": 1.054526,
         "Open": 1.122328,
         "High": 1.134108,
         "Low": 1.021146,
         "Vol.": "412.27M",
         "Change%": -5.95,
         "_deepnote_index_column": 7
        },
        {
         "Date": "2021-07-19T00:00:00.000000",
         "Price(in dollars)": 1.121185,
         "Open": 1.182284,
         "High": 1.190869,
         "Low": 1.116718,
         "Vol.": "218.34M",
         "Change%": -5.17,
         "_deepnote_index_column": 8
        },
        {
         "Date": "2021-07-18T00:00:00.000000",
         "Price(in dollars)": 1.182306,
         "Open": 1.171333,
         "High": 1.218066,
         "Low": 1.168231,
         "Vol.": "185.35M",
         "Change%": 0.94,
         "_deepnote_index_column": 9
        }
       ]
      },
      "text/plain": "           Date  Price(in dollars)      Open      High       Low     Vol.  \\\n0    2021-07-27           1.239114  1.255189  1.269624  1.215022  519.03M   \n1    2021-07-26           1.255189  1.228191  1.397445  1.222583  596.83M   \n2    2021-07-25           1.228135  1.216000  1.236100  1.191199  181.71M   \n3    2021-07-24           1.215002  1.205285  1.223699  1.197844  221.74M   \n4    2021-07-23           1.205386  1.185634  1.206692  1.147027   91.89M   \n...         ...                ...       ...       ...       ...      ...   \n1300 2018-01-04           1.104300  1.100000  1.350000  1.050000   19.60M   \n1301 2018-01-03           1.080000  0.978180  1.090000  0.888210   20.23M   \n1302 2018-01-02           0.762000  0.702200  0.800000  0.675000   10.97M   \n1303 2018-01-01           0.702200  0.710000  0.715000  0.632000   17.95M   \n1304 2017-12-31           0.710000  0.590000  0.740000  0.590000   17.22M   \n\n      Change%  \n0       -1.28  \n1        2.20  \n2        1.08  \n3        0.80  \n4        1.65  \n...       ...  \n1300     2.25  \n1301    41.73  \n1302     8.52  \n1303    -1.10  \n1304    20.34  \n\n[1305 rows x 7 columns]",
      "text/html": "<div>\n<style scoped>\n    .dataframe tbody tr th:only-of-type {\n        vertical-align: middle;\n    }\n\n    .dataframe tbody tr th {\n        vertical-align: top;\n    }\n\n    .dataframe thead th {\n        text-align: right;\n    }\n</style>\n<table border=\"1\" class=\"dataframe\">\n  <thead>\n    <tr style=\"text-align: right;\">\n      <th></th>\n      <th>Date</th>\n      <th>Price(in dollars)</th>\n      <th>Open</th>\n      <th>High</th>\n      <th>Low</th>\n      <th>Vol.</th>\n      <th>Change%</th>\n    </tr>\n  </thead>\n  <tbody>\n    <tr>\n      <th>0</th>\n      <td>2021-07-27</td>\n      <td>1.239114</td>\n      <td>1.255189</td>\n      <td>1.269624</td>\n      <td>1.215022</td>\n      <td>519.03M</td>\n      <td>-1.28</td>\n    </tr>\n    <tr>\n      <th>1</th>\n      <td>2021-07-26</td>\n      <td>1.255189</td>\n      <td>1.228191</td>\n      <td>1.397445</td>\n      <td>1.222583</td>\n      <td>596.83M</td>\n      <td>2.20</td>\n    </tr>\n    <tr>\n      <th>2</th>\n      <td>2021-07-25</td>\n      <td>1.228135</td>\n      <td>1.216000</td>\n      <td>1.236100</td>\n      <td>1.191199</td>\n      <td>181.71M</td>\n      <td>1.08</td>\n    </tr>\n    <tr>\n      <th>3</th>\n      <td>2021-07-24</td>\n      <td>1.215002</td>\n      <td>1.205285</td>\n      <td>1.223699</td>\n      <td>1.197844</td>\n      <td>221.74M</td>\n      <td>0.80</td>\n    </tr>\n    <tr>\n      <th>4</th>\n      <td>2021-07-23</td>\n      <td>1.205386</td>\n      <td>1.185634</td>\n      <td>1.206692</td>\n      <td>1.147027</td>\n      <td>91.89M</td>\n      <td>1.65</td>\n    </tr>\n    <tr>\n      <th>...</th>\n      <td>...</td>\n      <td>...</td>\n      <td>...</td>\n      <td>...</td>\n      <td>...</td>\n      <td>...</td>\n      <td>...</td>\n    </tr>\n    <tr>\n      <th>1300</th>\n      <td>2018-01-04</td>\n      <td>1.104300</td>\n      <td>1.100000</td>\n      <td>1.350000</td>\n      <td>1.050000</td>\n      <td>19.60M</td>\n      <td>2.25</td>\n    </tr>\n    <tr>\n      <th>1301</th>\n      <td>2018-01-03</td>\n      <td>1.080000</td>\n      <td>0.978180</td>\n      <td>1.090000</td>\n      <td>0.888210</td>\n      <td>20.23M</td>\n      <td>41.73</td>\n    </tr>\n    <tr>\n      <th>1302</th>\n      <td>2018-01-02</td>\n      <td>0.762000</td>\n      <td>0.702200</td>\n      <td>0.800000</td>\n      <td>0.675000</td>\n      <td>10.97M</td>\n      <td>8.52</td>\n    </tr>\n    <tr>\n      <th>1303</th>\n      <td>2018-01-01</td>\n      <td>0.702200</td>\n      <td>0.710000</td>\n      <td>0.715000</td>\n      <td>0.632000</td>\n      <td>17.95M</td>\n      <td>-1.10</td>\n    </tr>\n    <tr>\n      <th>1304</th>\n      <td>2017-12-31</td>\n      <td>0.710000</td>\n      <td>0.590000</td>\n      <td>0.740000</td>\n      <td>0.590000</td>\n      <td>17.22M</td>\n      <td>20.34</td>\n    </tr>\n  </tbody>\n</table>\n<p>1305 rows × 7 columns</p>\n</div>"
     },
     "metadata": {}
    }
   ],
   "execution_count": null
  },
  {
   "cell_type": "code",
   "metadata": {
    "colab": {
     "base_uri": "https://localhost:8080/",
     "height": 424
    },
    "id": "fxyhkGsv0-n6",
    "outputId": "baab28fb-3356-49c0-ec35-24fcd8b3652b",
    "cell_id": "00005-ea45e88b-aca5-4c8e-bda5-fc1e6c647b1e",
    "deepnote_to_be_reexecuted": false,
    "source_hash": "548e6521",
    "execution_start": 1649104515661,
    "execution_millis": 573,
    "deepnote_cell_type": "code",
    "deepnote_cell_height": 634
   },
   "source": "# Set date as index\ndf = df.set_index(pd.DatetimeIndex(df['Date'].values))\ndf",
   "outputs": [
    {
     "output_type": "execute_result",
     "execution_count": 6,
     "data": {
      "application/vnd.deepnote.dataframe.v3+json": {
       "column_count": 7,
       "row_count": 1305,
       "columns": [
        {
         "name": "Date",
         "dtype": "datetime64[ns]",
         "stats": {
          "unique_count": 1305,
          "nan_count": 0,
          "min": "2017-12-31 00:00:00",
          "max": "2021-07-27 00:00:00",
          "histogram": [
           {
            "bin_start": 1514678400000000000,
            "bin_end": 1525944960000000000,
            "count": 131
           },
           {
            "bin_start": 1525944960000000000,
            "bin_end": 1537211520000000000,
            "count": 130
           },
           {
            "bin_start": 1537211520000000000,
            "bin_end": 1548478080000000000,
            "count": 131
           },
           {
            "bin_start": 1548478080000000000,
            "bin_end": 1559744640000000000,
            "count": 130
           },
           {
            "bin_start": 1559744640000000000,
            "bin_end": 1571011200000000000,
            "count": 130
           },
           {
            "bin_start": 1571011200000000000,
            "bin_end": 1582277760000000000,
            "count": 131
           },
           {
            "bin_start": 1582277760000000000,
            "bin_end": 1593544320000000000,
            "count": 130
           },
           {
            "bin_start": 1593544320000000000,
            "bin_end": 1604810880000000000,
            "count": 131
           },
           {
            "bin_start": 1604810880000000000,
            "bin_end": 1616077440000000000,
            "count": 130
           },
           {
            "bin_start": 1616077440000000000,
            "bin_end": 1627344000000000000,
            "count": 131
           }
          ]
         }
        },
        {
         "name": "Price(in dollars)",
         "dtype": "float64",
         "stats": {
          "unique_count": 1298,
          "nan_count": 0,
          "min": "0.023222",
          "max": "2.300278",
          "histogram": [
           {
            "bin_start": 0.023222,
            "bin_end": 0.25092760000000003,
            "count": 1004
           },
           {
            "bin_start": 0.25092760000000003,
            "bin_end": 0.47863320000000004,
            "count": 96
           },
           {
            "bin_start": 0.47863320000000004,
            "bin_end": 0.7063388,
            "count": 23
           },
           {
            "bin_start": 0.7063388,
            "bin_end": 0.9340444,
            "count": 18
           },
           {
            "bin_start": 0.9340444,
            "bin_end": 1.16175,
            "count": 34
           },
           {
            "bin_start": 1.16175,
            "bin_end": 1.3894556000000002,
            "count": 75
           },
           {
            "bin_start": 1.3894556000000002,
            "bin_end": 1.6171612000000002,
            "count": 32
           },
           {
            "bin_start": 1.6171612000000002,
            "bin_end": 1.8448668000000001,
            "count": 17
           },
           {
            "bin_start": 1.8448668000000001,
            "bin_end": 2.0725724000000003,
            "count": 4
           },
           {
            "bin_start": 2.0725724000000003,
            "bin_end": 2.300278,
            "count": 2
           }
          ]
         }
        },
        {
         "name": "Open",
         "dtype": "float64",
         "stats": {
          "unique_count": 1297,
          "nan_count": 0,
          "min": "0.023225",
          "max": "2.300307",
          "histogram": [
           {
            "bin_start": 0.023225,
            "bin_end": 0.2509332,
            "count": 1004
           },
           {
            "bin_start": 0.2509332,
            "bin_end": 0.4786414,
            "count": 96
           },
           {
            "bin_start": 0.4786414,
            "bin_end": 0.7063496,
            "count": 24
           },
           {
            "bin_start": 0.7063496,
            "bin_end": 0.9340578,
            "count": 17
           },
           {
            "bin_start": 0.9340578,
            "bin_end": 1.161766,
            "count": 34
           },
           {
            "bin_start": 1.161766,
            "bin_end": 1.3894742,
            "count": 75
           },
           {
            "bin_start": 1.3894742,
            "bin_end": 1.6171824000000001,
            "count": 32
           },
           {
            "bin_start": 1.6171824000000001,
            "bin_end": 1.8448906,
            "count": 17
           },
           {
            "bin_start": 1.8448906,
            "bin_end": 2.0725988,
            "count": 4
           },
           {
            "bin_start": 2.0725988,
            "bin_end": 2.300307,
            "count": 2
           }
          ]
         }
        },
        {
         "name": "High",
         "dtype": "float64",
         "stats": {
          "unique_count": 1303,
          "nan_count": 0,
          "min": "0.026454",
          "max": "2.46007",
          "histogram": [
           {
            "bin_start": 0.026454,
            "bin_end": 0.2698156,
            "count": 1007
           },
           {
            "bin_start": 0.2698156,
            "bin_end": 0.5131772,
            "count": 91
           },
           {
            "bin_start": 0.5131772,
            "bin_end": 0.7565388,
            "count": 24
           },
           {
            "bin_start": 0.7565388,
            "bin_end": 0.9999003999999999,
            "count": 19
           },
           {
            "bin_start": 0.9999003999999999,
            "bin_end": 1.2432619999999999,
            "count": 50
           },
           {
            "bin_start": 1.2432619999999999,
            "bin_end": 1.4866236,
            "count": 65
           },
           {
            "bin_start": 1.4866236,
            "bin_end": 1.7299851999999998,
            "count": 26
           },
           {
            "bin_start": 1.7299851999999998,
            "bin_end": 1.9733467999999998,
            "count": 17
           },
           {
            "bin_start": 1.9733467999999998,
            "bin_end": 2.2167084,
            "count": 3
           },
           {
            "bin_start": 2.2167084,
            "bin_end": 2.46007,
            "count": 3
           }
          ]
         }
        },
        {
         "name": "Low",
         "dtype": "float64",
         "stats": {
          "unique_count": 1301,
          "nan_count": 0,
          "min": "0.017774",
          "max": "2.01674",
          "histogram": [
           {
            "bin_start": 0.017774,
            "bin_end": 0.21767060000000002,
            "count": 998
           },
           {
            "bin_start": 0.21767060000000002,
            "bin_end": 0.4175672,
            "count": 102
           },
           {
            "bin_start": 0.4175672,
            "bin_end": 0.6174638,
            "count": 19
           },
           {
            "bin_start": 0.6174638,
            "bin_end": 0.8173604,
            "count": 16
           },
           {
            "bin_start": 0.8173604,
            "bin_end": 1.017257,
            "count": 22
           },
           {
            "bin_start": 1.017257,
            "bin_end": 1.2171536,
            "count": 67
           },
           {
            "bin_start": 1.2171536,
            "bin_end": 1.4170502,
            "count": 48
           },
           {
            "bin_start": 1.4170502,
            "bin_end": 1.6169468,
            "count": 24
           },
           {
            "bin_start": 1.6169468,
            "bin_end": 1.8168434,
            "count": 5
           },
           {
            "bin_start": 1.8168434,
            "bin_end": 2.01674,
            "count": 4
           }
          ]
         }
        },
        {
         "name": "Vol.",
         "dtype": "object",
         "stats": {
          "unique_count": 1249,
          "nan_count": 0,
          "categories": [
           {
            "name": "1.11B",
            "count": 6
           },
           {
            "name": "1.18B",
            "count": 5
           },
           {
            "name": "1247 others",
            "count": 1294
           }
          ]
         }
        },
        {
         "name": "Change%",
         "dtype": "float64",
         "stats": {
          "unique_count": 962,
          "nan_count": 0,
          "min": "-41.49",
          "max": "41.73",
          "histogram": [
           {
            "bin_start": -41.49,
            "bin_end": -33.168000000000006,
            "count": 1
           },
           {
            "bin_start": -33.168000000000006,
            "bin_end": -24.846000000000004,
            "count": 1
           },
           {
            "bin_start": -24.846000000000004,
            "bin_end": -16.524000000000004,
            "count": 10
           },
           {
            "bin_start": -16.524000000000004,
            "bin_end": -8.202000000000005,
            "count": 77
           },
           {
            "bin_start": -8.202000000000005,
            "bin_end": 0.11999999999999744,
            "count": 577
           },
           {
            "bin_start": 0.11999999999999744,
            "bin_end": 8.441999999999993,
            "count": 531
           },
           {
            "bin_start": 8.441999999999993,
            "bin_end": 16.76399999999999,
            "count": 85
           },
           {
            "bin_start": 16.76399999999999,
            "bin_end": 25.08599999999999,
            "count": 17
           },
           {
            "bin_start": 25.08599999999999,
            "bin_end": 33.407999999999994,
            "count": 5
           },
           {
            "bin_start": 33.407999999999994,
            "bin_end": 41.73,
            "count": 1
           }
          ]
         }
        },
        {
         "name": "_deepnote_index_column",
         "dtype": "datetime64[ns]"
        }
       ],
       "rows": [
        {
         "Date": "2021-07-27T00:00:00.000000",
         "Price(in dollars)": 1.239114,
         "Open": 1.255189,
         "High": 1.269624,
         "Low": 1.215022,
         "Vol.": "519.03M",
         "Change%": -1.28,
         "_deepnote_index_column": "2021-07-27T00:00:00.000000"
        },
        {
         "Date": "2021-07-26T00:00:00.000000",
         "Price(in dollars)": 1.255189,
         "Open": 1.228191,
         "High": 1.397445,
         "Low": 1.222583,
         "Vol.": "596.83M",
         "Change%": 2.2,
         "_deepnote_index_column": "2021-07-26T00:00:00.000000"
        },
        {
         "Date": "2021-07-25T00:00:00.000000",
         "Price(in dollars)": 1.228135,
         "Open": 1.216,
         "High": 1.2361,
         "Low": 1.191199,
         "Vol.": "181.71M",
         "Change%": 1.08,
         "_deepnote_index_column": "2021-07-25T00:00:00.000000"
        },
        {
         "Date": "2021-07-24T00:00:00.000000",
         "Price(in dollars)": 1.215002,
         "Open": 1.205285,
         "High": 1.223699,
         "Low": 1.197844,
         "Vol.": "221.74M",
         "Change%": 0.8,
         "_deepnote_index_column": "2021-07-24T00:00:00.000000"
        },
        {
         "Date": "2021-07-23T00:00:00.000000",
         "Price(in dollars)": 1.205386,
         "Open": 1.185634,
         "High": 1.206692,
         "Low": 1.147027,
         "Vol.": "91.89M",
         "Change%": 1.65,
         "_deepnote_index_column": "2021-07-23T00:00:00.000000"
        },
        {
         "Date": "2021-07-22T00:00:00.000000",
         "Price(in dollars)": 1.185875,
         "Open": 1.169694,
         "High": 1.205136,
         "Low": 1.150267,
         "Vol.": "298.36M",
         "Change%": 1.38,
         "_deepnote_index_column": "2021-07-22T00:00:00.000000"
        },
        {
         "Date": "2021-07-21T00:00:00.000000",
         "Price(in dollars)": 1.169694,
         "Open": 1.054526,
         "High": 1.221121,
         "Low": 1.037226,
         "Vol.": "464.72M",
         "Change%": 10.92,
         "_deepnote_index_column": "2021-07-21T00:00:00.000000"
        },
        {
         "Date": "2021-07-20T00:00:00.000000",
         "Price(in dollars)": 1.054526,
         "Open": 1.122328,
         "High": 1.134108,
         "Low": 1.021146,
         "Vol.": "412.27M",
         "Change%": -5.95,
         "_deepnote_index_column": "2021-07-20T00:00:00.000000"
        },
        {
         "Date": "2021-07-19T00:00:00.000000",
         "Price(in dollars)": 1.121185,
         "Open": 1.182284,
         "High": 1.190869,
         "Low": 1.116718,
         "Vol.": "218.34M",
         "Change%": -5.17,
         "_deepnote_index_column": "2021-07-19T00:00:00.000000"
        },
        {
         "Date": "2021-07-18T00:00:00.000000",
         "Price(in dollars)": 1.182306,
         "Open": 1.171333,
         "High": 1.218066,
         "Low": 1.168231,
         "Vol.": "185.35M",
         "Change%": 0.94,
         "_deepnote_index_column": "2021-07-18T00:00:00.000000"
        }
       ]
      },
      "text/plain": "                 Date  Price(in dollars)      Open      High       Low  \\\n2021-07-27 2021-07-27           1.239114  1.255189  1.269624  1.215022   \n2021-07-26 2021-07-26           1.255189  1.228191  1.397445  1.222583   \n2021-07-25 2021-07-25           1.228135  1.216000  1.236100  1.191199   \n2021-07-24 2021-07-24           1.215002  1.205285  1.223699  1.197844   \n2021-07-23 2021-07-23           1.205386  1.185634  1.206692  1.147027   \n...               ...                ...       ...       ...       ...   \n2018-01-04 2018-01-04           1.104300  1.100000  1.350000  1.050000   \n2018-01-03 2018-01-03           1.080000  0.978180  1.090000  0.888210   \n2018-01-02 2018-01-02           0.762000  0.702200  0.800000  0.675000   \n2018-01-01 2018-01-01           0.702200  0.710000  0.715000  0.632000   \n2017-12-31 2017-12-31           0.710000  0.590000  0.740000  0.590000   \n\n               Vol.  Change%  \n2021-07-27  519.03M    -1.28  \n2021-07-26  596.83M     2.20  \n2021-07-25  181.71M     1.08  \n2021-07-24  221.74M     0.80  \n2021-07-23   91.89M     1.65  \n...             ...      ...  \n2018-01-04   19.60M     2.25  \n2018-01-03   20.23M    41.73  \n2018-01-02   10.97M     8.52  \n2018-01-01   17.95M    -1.10  \n2017-12-31   17.22M    20.34  \n\n[1305 rows x 7 columns]",
      "text/html": "<div>\n<style scoped>\n    .dataframe tbody tr th:only-of-type {\n        vertical-align: middle;\n    }\n\n    .dataframe tbody tr th {\n        vertical-align: top;\n    }\n\n    .dataframe thead th {\n        text-align: right;\n    }\n</style>\n<table border=\"1\" class=\"dataframe\">\n  <thead>\n    <tr style=\"text-align: right;\">\n      <th></th>\n      <th>Date</th>\n      <th>Price(in dollars)</th>\n      <th>Open</th>\n      <th>High</th>\n      <th>Low</th>\n      <th>Vol.</th>\n      <th>Change%</th>\n    </tr>\n  </thead>\n  <tbody>\n    <tr>\n      <th>2021-07-27</th>\n      <td>2021-07-27</td>\n      <td>1.239114</td>\n      <td>1.255189</td>\n      <td>1.269624</td>\n      <td>1.215022</td>\n      <td>519.03M</td>\n      <td>-1.28</td>\n    </tr>\n    <tr>\n      <th>2021-07-26</th>\n      <td>2021-07-26</td>\n      <td>1.255189</td>\n      <td>1.228191</td>\n      <td>1.397445</td>\n      <td>1.222583</td>\n      <td>596.83M</td>\n      <td>2.20</td>\n    </tr>\n    <tr>\n      <th>2021-07-25</th>\n      <td>2021-07-25</td>\n      <td>1.228135</td>\n      <td>1.216000</td>\n      <td>1.236100</td>\n      <td>1.191199</td>\n      <td>181.71M</td>\n      <td>1.08</td>\n    </tr>\n    <tr>\n      <th>2021-07-24</th>\n      <td>2021-07-24</td>\n      <td>1.215002</td>\n      <td>1.205285</td>\n      <td>1.223699</td>\n      <td>1.197844</td>\n      <td>221.74M</td>\n      <td>0.80</td>\n    </tr>\n    <tr>\n      <th>2021-07-23</th>\n      <td>2021-07-23</td>\n      <td>1.205386</td>\n      <td>1.185634</td>\n      <td>1.206692</td>\n      <td>1.147027</td>\n      <td>91.89M</td>\n      <td>1.65</td>\n    </tr>\n    <tr>\n      <th>...</th>\n      <td>...</td>\n      <td>...</td>\n      <td>...</td>\n      <td>...</td>\n      <td>...</td>\n      <td>...</td>\n      <td>...</td>\n    </tr>\n    <tr>\n      <th>2018-01-04</th>\n      <td>2018-01-04</td>\n      <td>1.104300</td>\n      <td>1.100000</td>\n      <td>1.350000</td>\n      <td>1.050000</td>\n      <td>19.60M</td>\n      <td>2.25</td>\n    </tr>\n    <tr>\n      <th>2018-01-03</th>\n      <td>2018-01-03</td>\n      <td>1.080000</td>\n      <td>0.978180</td>\n      <td>1.090000</td>\n      <td>0.888210</td>\n      <td>20.23M</td>\n      <td>41.73</td>\n    </tr>\n    <tr>\n      <th>2018-01-02</th>\n      <td>2018-01-02</td>\n      <td>0.762000</td>\n      <td>0.702200</td>\n      <td>0.800000</td>\n      <td>0.675000</td>\n      <td>10.97M</td>\n      <td>8.52</td>\n    </tr>\n    <tr>\n      <th>2018-01-01</th>\n      <td>2018-01-01</td>\n      <td>0.702200</td>\n      <td>0.710000</td>\n      <td>0.715000</td>\n      <td>0.632000</td>\n      <td>17.95M</td>\n      <td>-1.10</td>\n    </tr>\n    <tr>\n      <th>2017-12-31</th>\n      <td>2017-12-31</td>\n      <td>0.710000</td>\n      <td>0.590000</td>\n      <td>0.740000</td>\n      <td>0.590000</td>\n      <td>17.22M</td>\n      <td>20.34</td>\n    </tr>\n  </tbody>\n</table>\n<p>1305 rows × 7 columns</p>\n</div>"
     },
     "metadata": {}
    }
   ],
   "execution_count": null
  },
  {
   "cell_type": "code",
   "metadata": {
    "colab": {
     "base_uri": "https://localhost:8080/",
     "height": 424
    },
    "id": "QsnOb0pw1ThK",
    "outputId": "c87e92e3-f488-435d-c614-9e145cd32990",
    "cell_id": "00006-6bb40216-4ee7-44ca-a54e-3e0ce0b7238d",
    "deepnote_to_be_reexecuted": false,
    "source_hash": "396ee7b5",
    "execution_start": 1649104515710,
    "execution_millis": 524,
    "deepnote_cell_type": "code",
    "deepnote_cell_height": 634
   },
   "source": "# drop date column\ndf.drop('Date', axis=1,inplace=True)\ndf",
   "outputs": [
    {
     "output_type": "execute_result",
     "execution_count": 7,
     "data": {
      "application/vnd.deepnote.dataframe.v3+json": {
       "column_count": 6,
       "row_count": 1305,
       "columns": [
        {
         "name": "Price(in dollars)",
         "dtype": "float64",
         "stats": {
          "unique_count": 1298,
          "nan_count": 0,
          "min": "0.023222",
          "max": "2.300278",
          "histogram": [
           {
            "bin_start": 0.023222,
            "bin_end": 0.25092760000000003,
            "count": 1004
           },
           {
            "bin_start": 0.25092760000000003,
            "bin_end": 0.47863320000000004,
            "count": 96
           },
           {
            "bin_start": 0.47863320000000004,
            "bin_end": 0.7063388,
            "count": 23
           },
           {
            "bin_start": 0.7063388,
            "bin_end": 0.9340444,
            "count": 18
           },
           {
            "bin_start": 0.9340444,
            "bin_end": 1.16175,
            "count": 34
           },
           {
            "bin_start": 1.16175,
            "bin_end": 1.3894556000000002,
            "count": 75
           },
           {
            "bin_start": 1.3894556000000002,
            "bin_end": 1.6171612000000002,
            "count": 32
           },
           {
            "bin_start": 1.6171612000000002,
            "bin_end": 1.8448668000000001,
            "count": 17
           },
           {
            "bin_start": 1.8448668000000001,
            "bin_end": 2.0725724000000003,
            "count": 4
           },
           {
            "bin_start": 2.0725724000000003,
            "bin_end": 2.300278,
            "count": 2
           }
          ]
         }
        },
        {
         "name": "Open",
         "dtype": "float64",
         "stats": {
          "unique_count": 1297,
          "nan_count": 0,
          "min": "0.023225",
          "max": "2.300307",
          "histogram": [
           {
            "bin_start": 0.023225,
            "bin_end": 0.2509332,
            "count": 1004
           },
           {
            "bin_start": 0.2509332,
            "bin_end": 0.4786414,
            "count": 96
           },
           {
            "bin_start": 0.4786414,
            "bin_end": 0.7063496,
            "count": 24
           },
           {
            "bin_start": 0.7063496,
            "bin_end": 0.9340578,
            "count": 17
           },
           {
            "bin_start": 0.9340578,
            "bin_end": 1.161766,
            "count": 34
           },
           {
            "bin_start": 1.161766,
            "bin_end": 1.3894742,
            "count": 75
           },
           {
            "bin_start": 1.3894742,
            "bin_end": 1.6171824000000001,
            "count": 32
           },
           {
            "bin_start": 1.6171824000000001,
            "bin_end": 1.8448906,
            "count": 17
           },
           {
            "bin_start": 1.8448906,
            "bin_end": 2.0725988,
            "count": 4
           },
           {
            "bin_start": 2.0725988,
            "bin_end": 2.300307,
            "count": 2
           }
          ]
         }
        },
        {
         "name": "High",
         "dtype": "float64",
         "stats": {
          "unique_count": 1303,
          "nan_count": 0,
          "min": "0.026454",
          "max": "2.46007",
          "histogram": [
           {
            "bin_start": 0.026454,
            "bin_end": 0.2698156,
            "count": 1007
           },
           {
            "bin_start": 0.2698156,
            "bin_end": 0.5131772,
            "count": 91
           },
           {
            "bin_start": 0.5131772,
            "bin_end": 0.7565388,
            "count": 24
           },
           {
            "bin_start": 0.7565388,
            "bin_end": 0.9999003999999999,
            "count": 19
           },
           {
            "bin_start": 0.9999003999999999,
            "bin_end": 1.2432619999999999,
            "count": 50
           },
           {
            "bin_start": 1.2432619999999999,
            "bin_end": 1.4866236,
            "count": 65
           },
           {
            "bin_start": 1.4866236,
            "bin_end": 1.7299851999999998,
            "count": 26
           },
           {
            "bin_start": 1.7299851999999998,
            "bin_end": 1.9733467999999998,
            "count": 17
           },
           {
            "bin_start": 1.9733467999999998,
            "bin_end": 2.2167084,
            "count": 3
           },
           {
            "bin_start": 2.2167084,
            "bin_end": 2.46007,
            "count": 3
           }
          ]
         }
        },
        {
         "name": "Low",
         "dtype": "float64",
         "stats": {
          "unique_count": 1301,
          "nan_count": 0,
          "min": "0.017774",
          "max": "2.01674",
          "histogram": [
           {
            "bin_start": 0.017774,
            "bin_end": 0.21767060000000002,
            "count": 998
           },
           {
            "bin_start": 0.21767060000000002,
            "bin_end": 0.4175672,
            "count": 102
           },
           {
            "bin_start": 0.4175672,
            "bin_end": 0.6174638,
            "count": 19
           },
           {
            "bin_start": 0.6174638,
            "bin_end": 0.8173604,
            "count": 16
           },
           {
            "bin_start": 0.8173604,
            "bin_end": 1.017257,
            "count": 22
           },
           {
            "bin_start": 1.017257,
            "bin_end": 1.2171536,
            "count": 67
           },
           {
            "bin_start": 1.2171536,
            "bin_end": 1.4170502,
            "count": 48
           },
           {
            "bin_start": 1.4170502,
            "bin_end": 1.6169468,
            "count": 24
           },
           {
            "bin_start": 1.6169468,
            "bin_end": 1.8168434,
            "count": 5
           },
           {
            "bin_start": 1.8168434,
            "bin_end": 2.01674,
            "count": 4
           }
          ]
         }
        },
        {
         "name": "Vol.",
         "dtype": "object",
         "stats": {
          "unique_count": 1249,
          "nan_count": 0,
          "categories": [
           {
            "name": "1.11B",
            "count": 6
           },
           {
            "name": "1.18B",
            "count": 5
           },
           {
            "name": "1247 others",
            "count": 1294
           }
          ]
         }
        },
        {
         "name": "Change%",
         "dtype": "float64",
         "stats": {
          "unique_count": 962,
          "nan_count": 0,
          "min": "-41.49",
          "max": "41.73",
          "histogram": [
           {
            "bin_start": -41.49,
            "bin_end": -33.168000000000006,
            "count": 1
           },
           {
            "bin_start": -33.168000000000006,
            "bin_end": -24.846000000000004,
            "count": 1
           },
           {
            "bin_start": -24.846000000000004,
            "bin_end": -16.524000000000004,
            "count": 10
           },
           {
            "bin_start": -16.524000000000004,
            "bin_end": -8.202000000000005,
            "count": 77
           },
           {
            "bin_start": -8.202000000000005,
            "bin_end": 0.11999999999999744,
            "count": 577
           },
           {
            "bin_start": 0.11999999999999744,
            "bin_end": 8.441999999999993,
            "count": 531
           },
           {
            "bin_start": 8.441999999999993,
            "bin_end": 16.76399999999999,
            "count": 85
           },
           {
            "bin_start": 16.76399999999999,
            "bin_end": 25.08599999999999,
            "count": 17
           },
           {
            "bin_start": 25.08599999999999,
            "bin_end": 33.407999999999994,
            "count": 5
           },
           {
            "bin_start": 33.407999999999994,
            "bin_end": 41.73,
            "count": 1
           }
          ]
         }
        },
        {
         "name": "_deepnote_index_column",
         "dtype": "datetime64[ns]"
        }
       ],
       "rows": [
        {
         "Price(in dollars)": 1.239114,
         "Open": 1.255189,
         "High": 1.269624,
         "Low": 1.215022,
         "Vol.": "519.03M",
         "Change%": -1.28,
         "_deepnote_index_column": "2021-07-27T00:00:00.000000"
        },
        {
         "Price(in dollars)": 1.255189,
         "Open": 1.228191,
         "High": 1.397445,
         "Low": 1.222583,
         "Vol.": "596.83M",
         "Change%": 2.2,
         "_deepnote_index_column": "2021-07-26T00:00:00.000000"
        },
        {
         "Price(in dollars)": 1.228135,
         "Open": 1.216,
         "High": 1.2361,
         "Low": 1.191199,
         "Vol.": "181.71M",
         "Change%": 1.08,
         "_deepnote_index_column": "2021-07-25T00:00:00.000000"
        },
        {
         "Price(in dollars)": 1.215002,
         "Open": 1.205285,
         "High": 1.223699,
         "Low": 1.197844,
         "Vol.": "221.74M",
         "Change%": 0.8,
         "_deepnote_index_column": "2021-07-24T00:00:00.000000"
        },
        {
         "Price(in dollars)": 1.205386,
         "Open": 1.185634,
         "High": 1.206692,
         "Low": 1.147027,
         "Vol.": "91.89M",
         "Change%": 1.65,
         "_deepnote_index_column": "2021-07-23T00:00:00.000000"
        },
        {
         "Price(in dollars)": 1.185875,
         "Open": 1.169694,
         "High": 1.205136,
         "Low": 1.150267,
         "Vol.": "298.36M",
         "Change%": 1.38,
         "_deepnote_index_column": "2021-07-22T00:00:00.000000"
        },
        {
         "Price(in dollars)": 1.169694,
         "Open": 1.054526,
         "High": 1.221121,
         "Low": 1.037226,
         "Vol.": "464.72M",
         "Change%": 10.92,
         "_deepnote_index_column": "2021-07-21T00:00:00.000000"
        },
        {
         "Price(in dollars)": 1.054526,
         "Open": 1.122328,
         "High": 1.134108,
         "Low": 1.021146,
         "Vol.": "412.27M",
         "Change%": -5.95,
         "_deepnote_index_column": "2021-07-20T00:00:00.000000"
        },
        {
         "Price(in dollars)": 1.121185,
         "Open": 1.182284,
         "High": 1.190869,
         "Low": 1.116718,
         "Vol.": "218.34M",
         "Change%": -5.17,
         "_deepnote_index_column": "2021-07-19T00:00:00.000000"
        },
        {
         "Price(in dollars)": 1.182306,
         "Open": 1.171333,
         "High": 1.218066,
         "Low": 1.168231,
         "Vol.": "185.35M",
         "Change%": 0.94,
         "_deepnote_index_column": "2021-07-18T00:00:00.000000"
        }
       ]
      },
      "text/plain": "            Price(in dollars)      Open      High       Low     Vol.  Change%\n2021-07-27           1.239114  1.255189  1.269624  1.215022  519.03M    -1.28\n2021-07-26           1.255189  1.228191  1.397445  1.222583  596.83M     2.20\n2021-07-25           1.228135  1.216000  1.236100  1.191199  181.71M     1.08\n2021-07-24           1.215002  1.205285  1.223699  1.197844  221.74M     0.80\n2021-07-23           1.205386  1.185634  1.206692  1.147027   91.89M     1.65\n...                       ...       ...       ...       ...      ...      ...\n2018-01-04           1.104300  1.100000  1.350000  1.050000   19.60M     2.25\n2018-01-03           1.080000  0.978180  1.090000  0.888210   20.23M    41.73\n2018-01-02           0.762000  0.702200  0.800000  0.675000   10.97M     8.52\n2018-01-01           0.702200  0.710000  0.715000  0.632000   17.95M    -1.10\n2017-12-31           0.710000  0.590000  0.740000  0.590000   17.22M    20.34\n\n[1305 rows x 6 columns]",
      "text/html": "<div>\n<style scoped>\n    .dataframe tbody tr th:only-of-type {\n        vertical-align: middle;\n    }\n\n    .dataframe tbody tr th {\n        vertical-align: top;\n    }\n\n    .dataframe thead th {\n        text-align: right;\n    }\n</style>\n<table border=\"1\" class=\"dataframe\">\n  <thead>\n    <tr style=\"text-align: right;\">\n      <th></th>\n      <th>Price(in dollars)</th>\n      <th>Open</th>\n      <th>High</th>\n      <th>Low</th>\n      <th>Vol.</th>\n      <th>Change%</th>\n    </tr>\n  </thead>\n  <tbody>\n    <tr>\n      <th>2021-07-27</th>\n      <td>1.239114</td>\n      <td>1.255189</td>\n      <td>1.269624</td>\n      <td>1.215022</td>\n      <td>519.03M</td>\n      <td>-1.28</td>\n    </tr>\n    <tr>\n      <th>2021-07-26</th>\n      <td>1.255189</td>\n      <td>1.228191</td>\n      <td>1.397445</td>\n      <td>1.222583</td>\n      <td>596.83M</td>\n      <td>2.20</td>\n    </tr>\n    <tr>\n      <th>2021-07-25</th>\n      <td>1.228135</td>\n      <td>1.216000</td>\n      <td>1.236100</td>\n      <td>1.191199</td>\n      <td>181.71M</td>\n      <td>1.08</td>\n    </tr>\n    <tr>\n      <th>2021-07-24</th>\n      <td>1.215002</td>\n      <td>1.205285</td>\n      <td>1.223699</td>\n      <td>1.197844</td>\n      <td>221.74M</td>\n      <td>0.80</td>\n    </tr>\n    <tr>\n      <th>2021-07-23</th>\n      <td>1.205386</td>\n      <td>1.185634</td>\n      <td>1.206692</td>\n      <td>1.147027</td>\n      <td>91.89M</td>\n      <td>1.65</td>\n    </tr>\n    <tr>\n      <th>...</th>\n      <td>...</td>\n      <td>...</td>\n      <td>...</td>\n      <td>...</td>\n      <td>...</td>\n      <td>...</td>\n    </tr>\n    <tr>\n      <th>2018-01-04</th>\n      <td>1.104300</td>\n      <td>1.100000</td>\n      <td>1.350000</td>\n      <td>1.050000</td>\n      <td>19.60M</td>\n      <td>2.25</td>\n    </tr>\n    <tr>\n      <th>2018-01-03</th>\n      <td>1.080000</td>\n      <td>0.978180</td>\n      <td>1.090000</td>\n      <td>0.888210</td>\n      <td>20.23M</td>\n      <td>41.73</td>\n    </tr>\n    <tr>\n      <th>2018-01-02</th>\n      <td>0.762000</td>\n      <td>0.702200</td>\n      <td>0.800000</td>\n      <td>0.675000</td>\n      <td>10.97M</td>\n      <td>8.52</td>\n    </tr>\n    <tr>\n      <th>2018-01-01</th>\n      <td>0.702200</td>\n      <td>0.710000</td>\n      <td>0.715000</td>\n      <td>0.632000</td>\n      <td>17.95M</td>\n      <td>-1.10</td>\n    </tr>\n    <tr>\n      <th>2017-12-31</th>\n      <td>0.710000</td>\n      <td>0.590000</td>\n      <td>0.740000</td>\n      <td>0.590000</td>\n      <td>17.22M</td>\n      <td>20.34</td>\n    </tr>\n  </tbody>\n</table>\n<p>1305 rows × 6 columns</p>\n</div>"
     },
     "metadata": {}
    }
   ],
   "execution_count": null
  },
  {
   "cell_type": "code",
   "metadata": {
    "id": "NdUjgKZZ2TtJ",
    "cell_id": "00007-e7015b9e-55be-40c1-8937-98c8e478ec0f",
    "deepnote_to_be_reexecuted": false,
    "source_hash": "e950f18c",
    "execution_start": 1649104515755,
    "execution_millis": 1,
    "deepnote_cell_type": "code",
    "deepnote_cell_height": 117
   },
   "source": "# Create a variable n days into the future\nfuture_days = 14\n",
   "outputs": [],
   "execution_count": null
  },
  {
   "cell_type": "code",
   "metadata": {
    "colab": {
     "base_uri": "https://localhost:8080/",
     "height": 424
    },
    "id": "O9Aaj3_j2clO",
    "outputId": "8b085370-502c-4335-8798-fbf875cf07e0",
    "cell_id": "00008-91a1a453-70f4-42ad-80e5-665147e05ba3",
    "deepnote_to_be_reexecuted": false,
    "source_hash": "b79de48",
    "execution_start": 1649104515762,
    "execution_millis": 502,
    "deepnote_cell_type": "code",
    "deepnote_cell_height": 634
   },
   "source": "# Create a new column which will contain the future price\ndf[str(future_days) + '_Day_Price_Forecast'] = df[['Price(in dollars)']].shift(-future_days)\ndf",
   "outputs": [
    {
     "output_type": "execute_result",
     "execution_count": 9,
     "data": {
      "application/vnd.deepnote.dataframe.v3+json": {
       "column_count": 7,
       "row_count": 1305,
       "columns": [
        {
         "name": "Price(in dollars)",
         "dtype": "float64",
         "stats": {
          "unique_count": 1298,
          "nan_count": 0,
          "min": "0.023222",
          "max": "2.300278",
          "histogram": [
           {
            "bin_start": 0.023222,
            "bin_end": 0.25092760000000003,
            "count": 1004
           },
           {
            "bin_start": 0.25092760000000003,
            "bin_end": 0.47863320000000004,
            "count": 96
           },
           {
            "bin_start": 0.47863320000000004,
            "bin_end": 0.7063388,
            "count": 23
           },
           {
            "bin_start": 0.7063388,
            "bin_end": 0.9340444,
            "count": 18
           },
           {
            "bin_start": 0.9340444,
            "bin_end": 1.16175,
            "count": 34
           },
           {
            "bin_start": 1.16175,
            "bin_end": 1.3894556000000002,
            "count": 75
           },
           {
            "bin_start": 1.3894556000000002,
            "bin_end": 1.6171612000000002,
            "count": 32
           },
           {
            "bin_start": 1.6171612000000002,
            "bin_end": 1.8448668000000001,
            "count": 17
           },
           {
            "bin_start": 1.8448668000000001,
            "bin_end": 2.0725724000000003,
            "count": 4
           },
           {
            "bin_start": 2.0725724000000003,
            "bin_end": 2.300278,
            "count": 2
           }
          ]
         }
        },
        {
         "name": "Open",
         "dtype": "float64",
         "stats": {
          "unique_count": 1297,
          "nan_count": 0,
          "min": "0.023225",
          "max": "2.300307",
          "histogram": [
           {
            "bin_start": 0.023225,
            "bin_end": 0.2509332,
            "count": 1004
           },
           {
            "bin_start": 0.2509332,
            "bin_end": 0.4786414,
            "count": 96
           },
           {
            "bin_start": 0.4786414,
            "bin_end": 0.7063496,
            "count": 24
           },
           {
            "bin_start": 0.7063496,
            "bin_end": 0.9340578,
            "count": 17
           },
           {
            "bin_start": 0.9340578,
            "bin_end": 1.161766,
            "count": 34
           },
           {
            "bin_start": 1.161766,
            "bin_end": 1.3894742,
            "count": 75
           },
           {
            "bin_start": 1.3894742,
            "bin_end": 1.6171824000000001,
            "count": 32
           },
           {
            "bin_start": 1.6171824000000001,
            "bin_end": 1.8448906,
            "count": 17
           },
           {
            "bin_start": 1.8448906,
            "bin_end": 2.0725988,
            "count": 4
           },
           {
            "bin_start": 2.0725988,
            "bin_end": 2.300307,
            "count": 2
           }
          ]
         }
        },
        {
         "name": "High",
         "dtype": "float64",
         "stats": {
          "unique_count": 1303,
          "nan_count": 0,
          "min": "0.026454",
          "max": "2.46007",
          "histogram": [
           {
            "bin_start": 0.026454,
            "bin_end": 0.2698156,
            "count": 1007
           },
           {
            "bin_start": 0.2698156,
            "bin_end": 0.5131772,
            "count": 91
           },
           {
            "bin_start": 0.5131772,
            "bin_end": 0.7565388,
            "count": 24
           },
           {
            "bin_start": 0.7565388,
            "bin_end": 0.9999003999999999,
            "count": 19
           },
           {
            "bin_start": 0.9999003999999999,
            "bin_end": 1.2432619999999999,
            "count": 50
           },
           {
            "bin_start": 1.2432619999999999,
            "bin_end": 1.4866236,
            "count": 65
           },
           {
            "bin_start": 1.4866236,
            "bin_end": 1.7299851999999998,
            "count": 26
           },
           {
            "bin_start": 1.7299851999999998,
            "bin_end": 1.9733467999999998,
            "count": 17
           },
           {
            "bin_start": 1.9733467999999998,
            "bin_end": 2.2167084,
            "count": 3
           },
           {
            "bin_start": 2.2167084,
            "bin_end": 2.46007,
            "count": 3
           }
          ]
         }
        },
        {
         "name": "Low",
         "dtype": "float64",
         "stats": {
          "unique_count": 1301,
          "nan_count": 0,
          "min": "0.017774",
          "max": "2.01674",
          "histogram": [
           {
            "bin_start": 0.017774,
            "bin_end": 0.21767060000000002,
            "count": 998
           },
           {
            "bin_start": 0.21767060000000002,
            "bin_end": 0.4175672,
            "count": 102
           },
           {
            "bin_start": 0.4175672,
            "bin_end": 0.6174638,
            "count": 19
           },
           {
            "bin_start": 0.6174638,
            "bin_end": 0.8173604,
            "count": 16
           },
           {
            "bin_start": 0.8173604,
            "bin_end": 1.017257,
            "count": 22
           },
           {
            "bin_start": 1.017257,
            "bin_end": 1.2171536,
            "count": 67
           },
           {
            "bin_start": 1.2171536,
            "bin_end": 1.4170502,
            "count": 48
           },
           {
            "bin_start": 1.4170502,
            "bin_end": 1.6169468,
            "count": 24
           },
           {
            "bin_start": 1.6169468,
            "bin_end": 1.8168434,
            "count": 5
           },
           {
            "bin_start": 1.8168434,
            "bin_end": 2.01674,
            "count": 4
           }
          ]
         }
        },
        {
         "name": "Vol.",
         "dtype": "object",
         "stats": {
          "unique_count": 1249,
          "nan_count": 0,
          "categories": [
           {
            "name": "1.11B",
            "count": 6
           },
           {
            "name": "1.18B",
            "count": 5
           },
           {
            "name": "1247 others",
            "count": 1294
           }
          ]
         }
        },
        {
         "name": "Change%",
         "dtype": "float64",
         "stats": {
          "unique_count": 962,
          "nan_count": 0,
          "min": "-41.49",
          "max": "41.73",
          "histogram": [
           {
            "bin_start": -41.49,
            "bin_end": -33.168000000000006,
            "count": 1
           },
           {
            "bin_start": -33.168000000000006,
            "bin_end": -24.846000000000004,
            "count": 1
           },
           {
            "bin_start": -24.846000000000004,
            "bin_end": -16.524000000000004,
            "count": 10
           },
           {
            "bin_start": -16.524000000000004,
            "bin_end": -8.202000000000005,
            "count": 77
           },
           {
            "bin_start": -8.202000000000005,
            "bin_end": 0.11999999999999744,
            "count": 577
           },
           {
            "bin_start": 0.11999999999999744,
            "bin_end": 8.441999999999993,
            "count": 531
           },
           {
            "bin_start": 8.441999999999993,
            "bin_end": 16.76399999999999,
            "count": 85
           },
           {
            "bin_start": 16.76399999999999,
            "bin_end": 25.08599999999999,
            "count": 17
           },
           {
            "bin_start": 25.08599999999999,
            "bin_end": 33.407999999999994,
            "count": 5
           },
           {
            "bin_start": 33.407999999999994,
            "bin_end": 41.73,
            "count": 1
           }
          ]
         }
        },
        {
         "name": "14_Day_Price_Forecast",
         "dtype": "float64",
         "stats": {
          "unique_count": 1284,
          "nan_count": 14,
          "min": "0.023222",
          "max": "2.300278",
          "histogram": [
           {
            "bin_start": 0.023222,
            "bin_end": 0.25092760000000003,
            "count": 1004
           },
           {
            "bin_start": 0.25092760000000003,
            "bin_end": 0.47863320000000004,
            "count": 96
           },
           {
            "bin_start": 0.47863320000000004,
            "bin_end": 0.7063388,
            "count": 23
           },
           {
            "bin_start": 0.7063388,
            "bin_end": 0.9340444,
            "count": 18
           },
           {
            "bin_start": 0.9340444,
            "bin_end": 1.16175,
            "count": 32
           },
           {
            "bin_start": 1.16175,
            "bin_end": 1.3894556000000002,
            "count": 63
           },
           {
            "bin_start": 1.3894556000000002,
            "bin_end": 1.6171612000000002,
            "count": 32
           },
           {
            "bin_start": 1.6171612000000002,
            "bin_end": 1.8448668000000001,
            "count": 17
           },
           {
            "bin_start": 1.8448668000000001,
            "bin_end": 2.0725724000000003,
            "count": 4
           },
           {
            "bin_start": 2.0725724000000003,
            "bin_end": 2.300278,
            "count": 2
           }
          ]
         }
        },
        {
         "name": "_deepnote_index_column",
         "dtype": "datetime64[ns]"
        }
       ],
       "rows": [
        {
         "Price(in dollars)": 1.239114,
         "Open": 1.255189,
         "High": 1.269624,
         "Low": 1.215022,
         "Vol.": "519.03M",
         "Change%": -1.28,
         "14_Day_Price_Forecast": 1.264909,
         "_deepnote_index_column": "2021-07-27T00:00:00.000000"
        },
        {
         "Price(in dollars)": 1.255189,
         "Open": 1.228191,
         "High": 1.397445,
         "Low": 1.222583,
         "Vol.": "596.83M",
         "Change%": 2.2,
         "14_Day_Price_Forecast": 1.314717,
         "_deepnote_index_column": "2021-07-26T00:00:00.000000"
        },
        {
         "Price(in dollars)": 1.228135,
         "Open": 1.216,
         "High": 1.2361,
         "Low": 1.191199,
         "Vol.": "181.71M",
         "Change%": 1.08,
         "14_Day_Price_Forecast": 1.347893,
         "_deepnote_index_column": "2021-07-25T00:00:00.000000"
        },
        {
         "Price(in dollars)": 1.215002,
         "Open": 1.205285,
         "High": 1.223699,
         "Low": 1.197844,
         "Vol.": "221.74M",
         "Change%": 0.8,
         "14_Day_Price_Forecast": 1.335667,
         "_deepnote_index_column": "2021-07-24T00:00:00.000000"
        },
        {
         "Price(in dollars)": 1.205386,
         "Open": 1.185634,
         "High": 1.206692,
         "Low": 1.147027,
         "Vol.": "91.89M",
         "Change%": 1.65,
         "14_Day_Price_Forecast": 1.349457,
         "_deepnote_index_column": "2021-07-23T00:00:00.000000"
        },
        {
         "Price(in dollars)": 1.185875,
         "Open": 1.169694,
         "High": 1.205136,
         "Low": 1.150267,
         "Vol.": "298.36M",
         "Change%": 1.38,
         "14_Day_Price_Forecast": 1.332361,
         "_deepnote_index_column": "2021-07-22T00:00:00.000000"
        },
        {
         "Price(in dollars)": 1.169694,
         "Open": 1.054526,
         "High": 1.221121,
         "Low": 1.037226,
         "Vol.": "464.72M",
         "Change%": 10.92,
         "14_Day_Price_Forecast": 1.403788,
         "_deepnote_index_column": "2021-07-21T00:00:00.000000"
        },
        {
         "Price(in dollars)": 1.054526,
         "Open": 1.122328,
         "High": 1.134108,
         "Low": 1.021146,
         "Vol.": "412.27M",
         "Change%": -5.95,
         "14_Day_Price_Forecast": 1.416315,
         "_deepnote_index_column": "2021-07-20T00:00:00.000000"
        },
        {
         "Price(in dollars)": 1.121185,
         "Open": 1.182284,
         "High": 1.190869,
         "Low": 1.116718,
         "Vol.": "218.34M",
         "Change%": -5.17,
         "14_Day_Price_Forecast": 1.404092,
         "_deepnote_index_column": "2021-07-19T00:00:00.000000"
        },
        {
         "Price(in dollars)": 1.182306,
         "Open": 1.171333,
         "High": 1.218066,
         "Low": 1.168231,
         "Vol.": "185.35M",
         "Change%": 0.94,
         "14_Day_Price_Forecast": 1.461623,
         "_deepnote_index_column": "2021-07-18T00:00:00.000000"
        }
       ]
      },
      "text/plain": "            Price(in dollars)      Open      High       Low     Vol.  Change%  \\\n2021-07-27           1.239114  1.255189  1.269624  1.215022  519.03M    -1.28   \n2021-07-26           1.255189  1.228191  1.397445  1.222583  596.83M     2.20   \n2021-07-25           1.228135  1.216000  1.236100  1.191199  181.71M     1.08   \n2021-07-24           1.215002  1.205285  1.223699  1.197844  221.74M     0.80   \n2021-07-23           1.205386  1.185634  1.206692  1.147027   91.89M     1.65   \n...                       ...       ...       ...       ...      ...      ...   \n2018-01-04           1.104300  1.100000  1.350000  1.050000   19.60M     2.25   \n2018-01-03           1.080000  0.978180  1.090000  0.888210   20.23M    41.73   \n2018-01-02           0.762000  0.702200  0.800000  0.675000   10.97M     8.52   \n2018-01-01           0.702200  0.710000  0.715000  0.632000   17.95M    -1.10   \n2017-12-31           0.710000  0.590000  0.740000  0.590000   17.22M    20.34   \n\n            14_Day_Price_Forecast  \n2021-07-27               1.264909  \n2021-07-26               1.314717  \n2021-07-25               1.347893  \n2021-07-24               1.335667  \n2021-07-23               1.349457  \n...                           ...  \n2018-01-04                    NaN  \n2018-01-03                    NaN  \n2018-01-02                    NaN  \n2018-01-01                    NaN  \n2017-12-31                    NaN  \n\n[1305 rows x 7 columns]",
      "text/html": "<div>\n<style scoped>\n    .dataframe tbody tr th:only-of-type {\n        vertical-align: middle;\n    }\n\n    .dataframe tbody tr th {\n        vertical-align: top;\n    }\n\n    .dataframe thead th {\n        text-align: right;\n    }\n</style>\n<table border=\"1\" class=\"dataframe\">\n  <thead>\n    <tr style=\"text-align: right;\">\n      <th></th>\n      <th>Price(in dollars)</th>\n      <th>Open</th>\n      <th>High</th>\n      <th>Low</th>\n      <th>Vol.</th>\n      <th>Change%</th>\n      <th>14_Day_Price_Forecast</th>\n    </tr>\n  </thead>\n  <tbody>\n    <tr>\n      <th>2021-07-27</th>\n      <td>1.239114</td>\n      <td>1.255189</td>\n      <td>1.269624</td>\n      <td>1.215022</td>\n      <td>519.03M</td>\n      <td>-1.28</td>\n      <td>1.264909</td>\n    </tr>\n    <tr>\n      <th>2021-07-26</th>\n      <td>1.255189</td>\n      <td>1.228191</td>\n      <td>1.397445</td>\n      <td>1.222583</td>\n      <td>596.83M</td>\n      <td>2.20</td>\n      <td>1.314717</td>\n    </tr>\n    <tr>\n      <th>2021-07-25</th>\n      <td>1.228135</td>\n      <td>1.216000</td>\n      <td>1.236100</td>\n      <td>1.191199</td>\n      <td>181.71M</td>\n      <td>1.08</td>\n      <td>1.347893</td>\n    </tr>\n    <tr>\n      <th>2021-07-24</th>\n      <td>1.215002</td>\n      <td>1.205285</td>\n      <td>1.223699</td>\n      <td>1.197844</td>\n      <td>221.74M</td>\n      <td>0.80</td>\n      <td>1.335667</td>\n    </tr>\n    <tr>\n      <th>2021-07-23</th>\n      <td>1.205386</td>\n      <td>1.185634</td>\n      <td>1.206692</td>\n      <td>1.147027</td>\n      <td>91.89M</td>\n      <td>1.65</td>\n      <td>1.349457</td>\n    </tr>\n    <tr>\n      <th>...</th>\n      <td>...</td>\n      <td>...</td>\n      <td>...</td>\n      <td>...</td>\n      <td>...</td>\n      <td>...</td>\n      <td>...</td>\n    </tr>\n    <tr>\n      <th>2018-01-04</th>\n      <td>1.104300</td>\n      <td>1.100000</td>\n      <td>1.350000</td>\n      <td>1.050000</td>\n      <td>19.60M</td>\n      <td>2.25</td>\n      <td>NaN</td>\n    </tr>\n    <tr>\n      <th>2018-01-03</th>\n      <td>1.080000</td>\n      <td>0.978180</td>\n      <td>1.090000</td>\n      <td>0.888210</td>\n      <td>20.23M</td>\n      <td>41.73</td>\n      <td>NaN</td>\n    </tr>\n    <tr>\n      <th>2018-01-02</th>\n      <td>0.762000</td>\n      <td>0.702200</td>\n      <td>0.800000</td>\n      <td>0.675000</td>\n      <td>10.97M</td>\n      <td>8.52</td>\n      <td>NaN</td>\n    </tr>\n    <tr>\n      <th>2018-01-01</th>\n      <td>0.702200</td>\n      <td>0.710000</td>\n      <td>0.715000</td>\n      <td>0.632000</td>\n      <td>17.95M</td>\n      <td>-1.10</td>\n      <td>NaN</td>\n    </tr>\n    <tr>\n      <th>2017-12-31</th>\n      <td>0.710000</td>\n      <td>0.590000</td>\n      <td>0.740000</td>\n      <td>0.590000</td>\n      <td>17.22M</td>\n      <td>20.34</td>\n      <td>NaN</td>\n    </tr>\n  </tbody>\n</table>\n<p>1305 rows × 7 columns</p>\n</div>"
     },
     "metadata": {}
    }
   ],
   "execution_count": null
  },
  {
   "cell_type": "code",
   "metadata": {
    "colab": {
     "base_uri": "https://localhost:8080/",
     "height": 424
    },
    "id": "oAJsr83b2byH",
    "outputId": "6cd97b5f-96dc-4aaa-f7b0-8ae35db2e3f3",
    "cell_id": "00009-a72383a6-1b92-4d40-a170-f875413d6371",
    "deepnote_to_be_reexecuted": false,
    "source_hash": "4858d444",
    "execution_start": 1649104515804,
    "execution_millis": 461,
    "deepnote_cell_type": "code",
    "deepnote_cell_height": 634
   },
   "source": "# Show the data\ndf[['Price(in dollars)', str(future_days) + '_Day_Price_Forecast']]\n",
   "outputs": [
    {
     "output_type": "execute_result",
     "execution_count": 10,
     "data": {
      "application/vnd.deepnote.dataframe.v3+json": {
       "column_count": 2,
       "row_count": 1305,
       "columns": [
        {
         "name": "Price(in dollars)",
         "dtype": "float64",
         "stats": {
          "unique_count": 1298,
          "nan_count": 0,
          "min": "0.023222",
          "max": "2.300278",
          "histogram": [
           {
            "bin_start": 0.023222,
            "bin_end": 0.25092760000000003,
            "count": 1004
           },
           {
            "bin_start": 0.25092760000000003,
            "bin_end": 0.47863320000000004,
            "count": 96
           },
           {
            "bin_start": 0.47863320000000004,
            "bin_end": 0.7063388,
            "count": 23
           },
           {
            "bin_start": 0.7063388,
            "bin_end": 0.9340444,
            "count": 18
           },
           {
            "bin_start": 0.9340444,
            "bin_end": 1.16175,
            "count": 34
           },
           {
            "bin_start": 1.16175,
            "bin_end": 1.3894556000000002,
            "count": 75
           },
           {
            "bin_start": 1.3894556000000002,
            "bin_end": 1.6171612000000002,
            "count": 32
           },
           {
            "bin_start": 1.6171612000000002,
            "bin_end": 1.8448668000000001,
            "count": 17
           },
           {
            "bin_start": 1.8448668000000001,
            "bin_end": 2.0725724000000003,
            "count": 4
           },
           {
            "bin_start": 2.0725724000000003,
            "bin_end": 2.300278,
            "count": 2
           }
          ]
         }
        },
        {
         "name": "14_Day_Price_Forecast",
         "dtype": "float64",
         "stats": {
          "unique_count": 1284,
          "nan_count": 14,
          "min": "0.023222",
          "max": "2.300278",
          "histogram": [
           {
            "bin_start": 0.023222,
            "bin_end": 0.25092760000000003,
            "count": 1004
           },
           {
            "bin_start": 0.25092760000000003,
            "bin_end": 0.47863320000000004,
            "count": 96
           },
           {
            "bin_start": 0.47863320000000004,
            "bin_end": 0.7063388,
            "count": 23
           },
           {
            "bin_start": 0.7063388,
            "bin_end": 0.9340444,
            "count": 18
           },
           {
            "bin_start": 0.9340444,
            "bin_end": 1.16175,
            "count": 32
           },
           {
            "bin_start": 1.16175,
            "bin_end": 1.3894556000000002,
            "count": 63
           },
           {
            "bin_start": 1.3894556000000002,
            "bin_end": 1.6171612000000002,
            "count": 32
           },
           {
            "bin_start": 1.6171612000000002,
            "bin_end": 1.8448668000000001,
            "count": 17
           },
           {
            "bin_start": 1.8448668000000001,
            "bin_end": 2.0725724000000003,
            "count": 4
           },
           {
            "bin_start": 2.0725724000000003,
            "bin_end": 2.300278,
            "count": 2
           }
          ]
         }
        },
        {
         "name": "_deepnote_index_column",
         "dtype": "datetime64[ns]"
        }
       ],
       "rows": [
        {
         "Price(in dollars)": 1.239114,
         "14_Day_Price_Forecast": 1.264909,
         "_deepnote_index_column": "2021-07-27T00:00:00.000000"
        },
        {
         "Price(in dollars)": 1.255189,
         "14_Day_Price_Forecast": 1.314717,
         "_deepnote_index_column": "2021-07-26T00:00:00.000000"
        },
        {
         "Price(in dollars)": 1.228135,
         "14_Day_Price_Forecast": 1.347893,
         "_deepnote_index_column": "2021-07-25T00:00:00.000000"
        },
        {
         "Price(in dollars)": 1.215002,
         "14_Day_Price_Forecast": 1.335667,
         "_deepnote_index_column": "2021-07-24T00:00:00.000000"
        },
        {
         "Price(in dollars)": 1.205386,
         "14_Day_Price_Forecast": 1.349457,
         "_deepnote_index_column": "2021-07-23T00:00:00.000000"
        },
        {
         "Price(in dollars)": 1.185875,
         "14_Day_Price_Forecast": 1.332361,
         "_deepnote_index_column": "2021-07-22T00:00:00.000000"
        },
        {
         "Price(in dollars)": 1.169694,
         "14_Day_Price_Forecast": 1.403788,
         "_deepnote_index_column": "2021-07-21T00:00:00.000000"
        },
        {
         "Price(in dollars)": 1.054526,
         "14_Day_Price_Forecast": 1.416315,
         "_deepnote_index_column": "2021-07-20T00:00:00.000000"
        },
        {
         "Price(in dollars)": 1.121185,
         "14_Day_Price_Forecast": 1.404092,
         "_deepnote_index_column": "2021-07-19T00:00:00.000000"
        },
        {
         "Price(in dollars)": 1.182306,
         "14_Day_Price_Forecast": 1.461623,
         "_deepnote_index_column": "2021-07-18T00:00:00.000000"
        }
       ]
      },
      "text/plain": "            Price(in dollars)  14_Day_Price_Forecast\n2021-07-27           1.239114               1.264909\n2021-07-26           1.255189               1.314717\n2021-07-25           1.228135               1.347893\n2021-07-24           1.215002               1.335667\n2021-07-23           1.205386               1.349457\n...                       ...                    ...\n2018-01-04           1.104300                    NaN\n2018-01-03           1.080000                    NaN\n2018-01-02           0.762000                    NaN\n2018-01-01           0.702200                    NaN\n2017-12-31           0.710000                    NaN\n\n[1305 rows x 2 columns]",
      "text/html": "<div>\n<style scoped>\n    .dataframe tbody tr th:only-of-type {\n        vertical-align: middle;\n    }\n\n    .dataframe tbody tr th {\n        vertical-align: top;\n    }\n\n    .dataframe thead th {\n        text-align: right;\n    }\n</style>\n<table border=\"1\" class=\"dataframe\">\n  <thead>\n    <tr style=\"text-align: right;\">\n      <th></th>\n      <th>Price(in dollars)</th>\n      <th>14_Day_Price_Forecast</th>\n    </tr>\n  </thead>\n  <tbody>\n    <tr>\n      <th>2021-07-27</th>\n      <td>1.239114</td>\n      <td>1.264909</td>\n    </tr>\n    <tr>\n      <th>2021-07-26</th>\n      <td>1.255189</td>\n      <td>1.314717</td>\n    </tr>\n    <tr>\n      <th>2021-07-25</th>\n      <td>1.228135</td>\n      <td>1.347893</td>\n    </tr>\n    <tr>\n      <th>2021-07-24</th>\n      <td>1.215002</td>\n      <td>1.335667</td>\n    </tr>\n    <tr>\n      <th>2021-07-23</th>\n      <td>1.205386</td>\n      <td>1.349457</td>\n    </tr>\n    <tr>\n      <th>...</th>\n      <td>...</td>\n      <td>...</td>\n    </tr>\n    <tr>\n      <th>2018-01-04</th>\n      <td>1.104300</td>\n      <td>NaN</td>\n    </tr>\n    <tr>\n      <th>2018-01-03</th>\n      <td>1.080000</td>\n      <td>NaN</td>\n    </tr>\n    <tr>\n      <th>2018-01-02</th>\n      <td>0.762000</td>\n      <td>NaN</td>\n    </tr>\n    <tr>\n      <th>2018-01-01</th>\n      <td>0.702200</td>\n      <td>NaN</td>\n    </tr>\n    <tr>\n      <th>2017-12-31</th>\n      <td>0.710000</td>\n      <td>NaN</td>\n    </tr>\n  </tbody>\n</table>\n<p>1305 rows × 2 columns</p>\n</div>"
     },
     "metadata": {}
    }
   ],
   "execution_count": null
  },
  {
   "cell_type": "code",
   "metadata": {
    "colab": {
     "base_uri": "https://localhost:8080/"
    },
    "id": "gDat1ffW8L0Z",
    "outputId": "2bbe761b-9f6f-4363-fac1-e32825c890a1",
    "cell_id": "00010-57b2cc80-53b2-4e86-b8f5-e598435c9a41",
    "deepnote_to_be_reexecuted": false,
    "source_hash": "bf9f2241",
    "execution_start": 1649104515828,
    "execution_millis": 1,
    "deepnote_cell_type": "code",
    "deepnote_cell_height": 305.3125
   },
   "source": "# Create independent variable\nX = np.array(df[['Price(in dollars)']])\n# remove the NAN values off the X variable\nX = X[:df.shape[0] - future_days]\nprint(X)",
   "outputs": [
    {
     "name": "stdout",
     "text": "[[1.239114]\n [1.255189]\n [1.228135]\n ...\n [0.60124 ]\n [0.771   ]\n [0.799989]]\n",
     "output_type": "stream"
    }
   ],
   "execution_count": null
  },
  {
   "cell_type": "code",
   "metadata": {
    "colab": {
     "base_uri": "https://localhost:8080/"
    },
    "id": "WETPdzrK-KHG",
    "outputId": "bf7a81ed-7613-4bb5-eb1b-4046c4efa7c8",
    "cell_id": "00011-85a9a918-57dc-485c-b2b1-e57b00004ebe",
    "deepnote_to_be_reexecuted": false,
    "source_hash": "c01e66a9",
    "execution_start": 1649104515861,
    "execution_millis": 406,
    "deepnote_cell_type": "code",
    "deepnote_cell_height": 148.1875
   },
   "source": "y = np.array(df[str(future_days) + '_Day_Price_Forecast'])\ny = y[:-future_days]\nprint(y)",
   "outputs": [
    {
     "name": "stdout",
     "text": "[1.264909 1.314717 1.347893 ... 0.762    0.7022   0.71    ]\n",
     "output_type": "stream"
    }
   ],
   "execution_count": null
  },
  {
   "cell_type": "code",
   "metadata": {
    "id": "WO_h8jb--2qC",
    "cell_id": "00012-8ce8d1b1-2dae-48f9-86df-dfab8967bac1",
    "deepnote_to_be_reexecuted": false,
    "source_hash": "d475321a",
    "execution_start": 1649104515862,
    "execution_millis": 1,
    "deepnote_cell_type": "code",
    "deepnote_cell_height": 135
   },
   "source": "# Split the data\nfrom sklearn.model_selection import train_test_split\nx_train, x_test, y_train, y_test = train_test_split(X,y, test_size= 0.2)\n# for this dataset we will be using 80% for training and 20% for testing",
   "outputs": [],
   "execution_count": null
  },
  {
   "cell_type": "code",
   "metadata": {
    "colab": {
     "base_uri": "https://localhost:8080/"
    },
    "id": "BQ9avT2IAFHT",
    "outputId": "440e752c-6754-4b1f-9060-443e3958b08a",
    "cell_id": "00013-cd18280c-c223-4331-81ff-7bd108050d76",
    "deepnote_to_be_reexecuted": false,
    "source_hash": "a2dbec02",
    "execution_start": 1649104515863,
    "execution_millis": 404,
    "deepnote_cell_type": "code",
    "deepnote_cell_height": 154.1875
   },
   "source": "# using Support Vector Regressor for predicting this dataset\nsvr= SVR(kernel='rbf', C=1e3, gamma =0.00001)\nsvr.fit(x_train, y_train)",
   "outputs": [
    {
     "output_type": "execute_result",
     "execution_count": 14,
     "data": {
      "text/plain": "SVR(C=1000.0, gamma=1e-05)"
     },
     "metadata": {}
    }
   ],
   "execution_count": null
  },
  {
   "cell_type": "code",
   "metadata": {
    "colab": {
     "base_uri": "https://localhost:8080/"
    },
    "id": "-21tE3dPCDKw",
    "outputId": "c29cd542-ba73-401b-f5af-c0163a754eba",
    "cell_id": "00014-870104bf-2dd6-4914-9b78-ab34b8a5a72a",
    "deepnote_to_be_reexecuted": false,
    "source_hash": "3546b49b",
    "execution_start": 1649104515869,
    "execution_millis": 401,
    "deepnote_cell_type": "code",
    "deepnote_cell_height": 130.1875
   },
   "source": "svr_confidence = svr.score(x_test, y_test)\nprint('svr accuracy:', svr_confidence)",
   "outputs": [
    {
     "name": "stdout",
     "text": "svr accuracy: 0.8927347564527514\n",
     "output_type": "stream"
    }
   ],
   "execution_count": null
  },
  {
   "cell_type": "code",
   "metadata": {
    "id": "0SwG0anPCZJR",
    "cell_id": "00015-dead68be-5086-4b19-893d-dbcebd6952b9",
    "deepnote_to_be_reexecuted": false,
    "source_hash": "7d338af1",
    "execution_start": 1649104515879,
    "execution_millis": 6,
    "deepnote_cell_type": "code",
    "deepnote_cell_height": 81
   },
   "source": "# Accuracy score is 88%",
   "outputs": [],
   "execution_count": null
  },
  {
   "cell_type": "code",
   "metadata": {
    "colab": {
     "base_uri": "https://localhost:8080/"
    },
    "id": "bBUHRo2rCeET",
    "outputId": "e3b5867a-3d78-44f4-aa1f-2671c0b9c794",
    "cell_id": "00016-77855c7f-d1da-43c3-9572-683f9312a2ca",
    "deepnote_to_be_reexecuted": false,
    "source_hash": "9434c620",
    "execution_start": 1649104515886,
    "execution_millis": 386,
    "deepnote_cell_type": "code",
    "deepnote_cell_height": 737
   },
   "source": "# lets look at the predicted value\nsvr_prediction = svr.predict(x_test)\nprint(svr_prediction)",
   "outputs": [
    {
     "name": "stdout",
     "text": "[0.27987874 0.11146781 0.12313426 0.81780102 0.1429636  0.11501272\n 0.10619096 0.33852969 0.11576419 0.24508587 0.12387582 0.13312251\n 0.10457476 0.16854187 0.10923819 1.06403185 0.13146083 0.12051609\n 1.20673275 0.38669058 0.21084032 0.74198065 0.11329565 0.17538452\n 0.10997809 0.25007257 0.12605997 0.16362214 0.13294311 0.11549469\n 0.19991373 0.13729406 0.84606798 0.21453239 1.28071919 0.16785736\n 0.61798263 0.1165942  0.11869651 0.14596619 0.13811663 1.0052694\n 0.29261254 0.12295156 0.16073033 0.15222766 0.11416452 1.24139802\n 0.15811132 1.18471186 1.01636054 0.10775922 0.16191252 0.11216142\n 1.06461716 0.12068474 0.13840184 1.16815464 0.11600559 0.57767205\n 0.14471126 0.83387645 0.14970125 0.12514067 0.1212717  0.29817299\n 1.33080718 0.11343454 0.96534014 0.10521297 0.80018459 0.11124212\n 0.14801725 0.19819335 0.16913545 0.1468921  0.16649908 1.05774226\n 0.11290628 0.36928251 0.28256389 0.11922147 0.15427541 0.2297372\n 0.22491832 0.15190772 0.36797879 0.13035222 0.1236493  0.28181158\n 0.36629726 0.12897906 0.22431235 0.19525028 0.10217236 1.39107658\n 0.18203537 0.19932594 0.10764183 0.11507638 0.39642511 0.16075513\n 1.21417804 0.1673944  0.54976219 0.19139865 0.1385523  0.11222094\n 0.16119411 0.11463657 0.17850368 0.1460654  0.11604279 0.33055771\n 0.16003424 0.18478417 1.00751723 0.11275086 0.31837696 0.20846188\n 0.15953739 0.22533498 0.11794091 0.12359308 0.31126395 0.24674342\n 0.11225566 1.12484853 0.11233833 0.21280458 0.20311474 0.1239651\n 0.15823946 1.16112931 0.14459717 0.16815663 0.20709368 0.2305697\n 0.17219426 0.1212626  0.15423903 0.11047081 0.1245099  0.14651843\n 0.11452496 0.37098636 0.12019037 0.13450558 0.13408231 0.11465476\n 0.11531447 0.11814097 0.36984881 0.11918675 0.12032016 0.210131\n 0.15737969 1.08312796 0.42548322 0.21571955 0.21791115 0.21704393\n 0.23089955 0.20577756 0.1704838  0.1532875  0.26832465 0.11778218\n 0.16581953 0.15501035 0.13599117 0.19988066 0.11567987 1.30499851\n 0.37740909 0.12488687 0.11677608 0.9898554  0.14860504 0.19540487\n 0.20797164 0.10976646 0.38228586 0.14997571 0.2583008  0.1450006\n 0.10896373 0.21494988 0.14973018 0.14873566 0.12696852 1.04762004\n 0.11904786 0.93382841 0.13176836 0.13555715 0.99286711 0.14253537\n 0.33025927 1.11829937 0.14951276 0.11327003 0.36461738 0.21283599\n 1.09593365 0.16025993 0.16448109 0.11402729 1.26023439 0.25503778\n 0.10881657 1.05348223 0.16868985 0.1069846  0.18167162 0.13007031\n 0.1120093  0.12315493 0.61451043 0.14877616 0.11441832 0.16823186\n 1.11339865 0.11483911 0.95240956 0.14960948 0.16438106 0.15095123\n 0.14884892 0.11537812 0.16864521 1.0764027  0.15773352 0.14591742\n 0.16476382 0.12373941 0.14449053 0.12179004 0.14394077 0.60464525\n 0.11623955 0.11728864 0.23804231 0.24029675 0.18774791 0.15619833\n 0.14116304 0.13865564 0.15716888 0.49992293 0.11095195 0.96947618\n 0.21311376 0.13383099 0.25224103 0.39367464 0.16068816 0.21178938\n 0.10729875]\n",
     "output_type": "stream"
    }
   ],
   "execution_count": null
  },
  {
   "cell_type": "code",
   "metadata": {
    "colab": {
     "base_uri": "https://localhost:8080/"
    },
    "id": "cRi5EIXMDNsa",
    "outputId": "f4f44a1d-7d0f-4c70-841a-abfaec11ab06",
    "cell_id": "00017-5e2da980-019c-49c8-a4e3-222d1dfccb37",
    "deepnote_to_be_reexecuted": false,
    "source_hash": "43b1ad67",
    "execution_start": 1649104515893,
    "execution_millis": 379,
    "deepnote_cell_type": "code",
    "deepnote_cell_height": 719
   },
   "source": "# lets look at the actual values\nprint(y_test)",
   "outputs": [
    {
     "name": "stdout",
     "text": "[0.370227 0.033122 0.040568 0.441872 0.07351  0.038152 0.026069 0.312734\n 0.047442 0.256429 0.044429 0.04681  0.041731 0.106476 0.034381 1.055119\n 0.045562 0.043708 1.195854 0.271254 0.139216 0.71     0.044142 0.166069\n 0.03189  0.19894  0.059343 0.101109 0.103592 0.041247 0.12419  0.081253\n 0.53935  0.214925 1.191349 0.093816 1.1043   0.041736 0.03704  0.076878\n 0.100681 1.096866 0.28587  0.042417 0.096932 0.081091 0.038582 1.175748\n 0.076593 1.558645 1.099821 0.031655 0.126417 0.045385 1.295932 0.041178\n 0.104757 1.202812 0.061618 0.762    0.09404  0.363623 0.055106 0.04497\n 0.05354  0.152001 2.005568 0.049161 1.133092 0.025764 0.425759 0.033878\n 0.072142 0.123846 0.101347 0.097822 0.092262 1.186839 0.061452 0.359\n 0.361499 0.057382 0.085028 0.151392 0.292499 0.066038 0.302516 0.057013\n 0.042887 0.368566 0.330163 0.06518  0.128009 0.124416 0.049012 1.552066\n 0.100002 0.184136 0.033025 0.032827 0.616456 0.109299 1.556513 0.095459\n 0.9      0.144299 0.077788 0.042847 0.079702 0.028315 0.080632 0.066195\n 0.048258 0.154639 0.090853 0.092948 1.404092 0.047033 0.190995 0.154049\n 0.097661 0.16502  0.044035 0.059899 0.34917  0.195814 0.048871 1.383782\n 0.04341  0.193638 0.12691  0.044237 0.068884 1.478656 0.079043 0.097531\n 0.141663 0.163418 0.096178 0.068212 0.082598 0.029108 0.045365 0.096991\n 0.039266 0.177335 0.036834 0.086337 0.072154 0.04009  0.064364 0.044522\n 0.303959 0.044354 0.046495 0.141265 0.084514 1.249261 0.464    0.164108\n 0.137469 0.147822 0.147543 0.161982 0.097463 0.068553 0.256475 0.03692\n 0.109521 0.091255 0.046225 0.164933 0.040483 1.844539 0.5598   0.04251\n 0.043085 0.662569 0.069196 0.122233 0.15454  0.030229 0.51     0.078236\n 0.19895  0.096333 0.048396 0.142328 0.093218 0.089592 0.044889 1.403788\n 0.049863 1.241585 0.044659 0.070597 1.118466 0.070724 0.368394 1.314717\n 0.069948 0.038855 0.287594 0.13354  1.347893 0.087405 0.130619 0.038634\n 1.675504 0.207852 0.037968 1.101309 0.095433 0.027042 0.096561 0.051811\n 0.043168 0.031855 0.994903 0.090541 0.044784 0.102617 1.224643 0.046241\n 1.416315 0.085508 0.096902 0.0904   0.07747  0.041977 0.101292 1.174041\n 0.09142  0.075395 0.109934 0.058495 0.084707 0.068703 0.093323 0.345559\n 0.040328 0.050602 0.296646 0.277395 0.161544 0.089965 0.083926 0.076713\n 0.121396 0.6242   0.042668 0.929292 0.22705  0.07137  0.240845 0.602\n 0.08345  0.145653 0.029467]\n",
     "output_type": "stream"
    }
   ],
   "execution_count": null
  },
  {
   "cell_type": "code",
   "metadata": {
    "id": "AbMwOBRtEr-5",
    "colab": {
     "base_uri": "https://localhost:8080/",
     "height": 306
    },
    "outputId": "e277cf2e-8320-47c2-f6dd-41c09e568784",
    "cell_id": "00018-387b7ed9-bbf6-43da-9191-52c6ac597c3e",
    "deepnote_to_be_reexecuted": false,
    "source_hash": "5f75d996",
    "execution_start": 1649104515895,
    "execution_millis": 437,
    "deepnote_cell_type": "code",
    "deepnote_cell_height": 532,
    "deepnote_output_heights": [
     273
    ]
   },
   "source": "# Visualize the predicted and actual value\nplt.figure(figsize=(12,4))\nplt.plot(svr_prediction, label='Prediction', lw=2, alpha= .7)\nplt.plot(y_test, label='Actual value', lw=2, alpha= .7)\nplt.title('Prediction vs Actual Value')\nplt.ylabel('Price in USD')\nplt.xlabel('Time')\nplt.legend()\nplt.xticks(rotation=45)\nplt.show()",
   "outputs": [
    {
     "data": {
      "text/plain": "<Figure size 864x288 with 1 Axes>",
      "image/png": "[encoded data removed]"
     },
     "metadata": {
      "image/png": {
       "width": 813,
       "height": 322
      }
     },
     "output_type": "display_data"
    }
   ],
   "execution_count": null
  },
  {
   "cell_type": "code",
   "metadata": {
    "id": "0rAREVKGJRuu",
    "cell_id": "00019-9de9f69c-13ef-4796-acca-d8f72aa3e46f",
    "deepnote_to_be_reexecuted": false,
    "source_hash": "974cf887",
    "execution_start": 1649104516307,
    "execution_millis": 0,
    "deepnote_cell_type": "code",
    "deepnote_cell_height": 135
   },
   "source": "import pickle\nfile = open('Cardano_Price_prediction.pkl', 'wb')\npickle.dump(svr, file)\nfile.close()",
   "outputs": [],
   "execution_count": null
  },
  {
   "cell_type": "code",
   "metadata": {
    "id": "jjWO1o1kJxhN",
    "cell_id": "00020-433d6c16-f844-4561-a468-9eb5a663d8b1",
    "deepnote_to_be_reexecuted": false,
    "source_hash": "92796e81",
    "execution_start": 1649104516308,
    "execution_millis": 0,
    "deepnote_cell_type": "code",
    "deepnote_cell_height": 99
   },
   "source": "# model= open('Cardano_Price_prediction.pkl', 'rb')\nloaded_model = pickle.load(open('Cardano_Price_prediction.pkl', 'rb'))",
   "outputs": [],
   "execution_count": null
  },
  {
   "cell_type": "code",
   "metadata": {
    "id": "KHqFVyzILvPJ",
    "cell_id": "00021-972c894b-95e6-4119-953c-fefc9934acb9",
    "deepnote_to_be_reexecuted": false,
    "source_hash": "e89d5aea",
    "execution_start": 1649104516309,
    "execution_millis": 0,
    "deepnote_cell_type": "code",
    "deepnote_cell_height": 99
   },
   "source": "y_prediction = loaded_model.predict(x_test)\n",
   "outputs": [],
   "execution_count": null
  },
  {
   "cell_type": "code",
   "metadata": {
    "colab": {
     "base_uri": "https://localhost:8080/"
    },
    "id": "gjez6I25N0ou",
    "outputId": "9d3cab44-464d-435f-9138-a26b83c4a03a",
    "cell_id": "00022-524daa6e-92d9-4d35-a549-c44ad35ef47c",
    "deepnote_to_be_reexecuted": false,
    "source_hash": "6f49bc5a",
    "execution_start": 1649104516310,
    "execution_millis": 22,
    "deepnote_cell_type": "code",
    "deepnote_cell_height": 136.1875
   },
   "source": "from sklearn.metrics import r2_score\nr2_score(y_test, y_prediction)",
   "outputs": [
    {
     "output_type": "execute_result",
     "execution_count": 23,
     "data": {
      "text/plain": "0.8927347564527514"
     },
     "metadata": {}
    }
   ],
   "execution_count": null
  },
  {
   "cell_type": "markdown",
   "source": "<a style='text-decoration:none;line-height:16px;display:flex;color:#5B5B62;padding:10px;justify-content:end;' href='https://deepnote.com?utm_source=created-in-deepnote-cell&projectId=2133f0b7-2345-40af-98fb-f08e93556bc5' target=\"_blank\">\n<img alt='Created in deepnote.com' style='display:inline;max-height:16px;margin:0px;margin-right:7.5px;' src='data:image/svg+xml;base64,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' > </img>\nCreated in <span style='font-weight:600;margin-left:4px;'>Deepnote</span></a>",
   "metadata": {
    "tags": [],
    "created_in_deepnote_cell": true,
    "deepnote_cell_type": "markdown"
   }
  }
 ],
 "nbformat": 4,
 "nbformat_minor": 0,
 "metadata": {
  "colab": {
   "name": "Cardano Price Prediction.ipynb",
   "provenance": [],
   "collapsed_sections": []
  },
  "kernelspec": {
   "name": "python3",
   "display_name": "Python 3"
  },
  "language_info": {
   "name": "python"
  },
  "deepnote_notebook_id": "ab5d63ff-2793-4179-8e23-03c01e1fac62",
  "deepnote": {
   "is_reactive": false
  },
  "deepnote_execution_queue": []
 }
}